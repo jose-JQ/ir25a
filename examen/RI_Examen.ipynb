{
  "cells": [
    {
      "cell_type": "markdown",
      "metadata": {
        "id": "ODBksbdzW_aR"
      },
      "source": [
        "# Examen Final - Recuperación de Información\n",
        "**Estudiante:** José Quiros\n"
      ]
    },
    {
      "cell_type": "markdown",
      "metadata": {},
      "source": [
        "### 1. Ingesta y preprocesamiento de un corpus de documentos científicos (subset del 1% de arXiv)"
      ]
    },
    {
      "cell_type": "markdown",
      "metadata": {},
      "source": [
        "#### 1.1. Obtener datos"
      ]
    },
    {
      "cell_type": "code",
      "execution_count": 20,
      "metadata": {
        "id": "O0Gqc7nEWyVg"
      },
      "outputs": [],
      "source": [
        "import os\n",
        "import json\n",
        "from dotenv import load_dotenv\n",
        "\n",
        "# Cargar variables de entorno desde el archivo .env\n",
        "load_dotenv()\n",
        "\n",
        "# Crear archivo kaggle.json desde variables de entorno\n",
        "kaggle_token = {\n",
        "    \"username\": os.getenv(\"KAGGLE_USERNAME\"),\n",
        "    \"key\": os.getenv(\"KAGGLE_KEY\")\n",
        "}\n",
        "\n",
        "# Crear carpeta de configuración para kaggle en /root/.kaggle/\n",
        "kaggle_path = os.path.join(os.path.expanduser(\"~\"), \".kaggle\")\n",
        "os.makedirs(kaggle_path, exist_ok=True)\n",
        "\n",
        "# Guardar kaggle.json\n",
        "with open(os.path.join(kaggle_path, \"kaggle.json\"), \"w\") as f:\n",
        "    json.dump(kaggle_token, f)\n",
        "\n",
        "# Cambiar permisos (evita errores de seguridad)\n",
        "os.chmod(os.path.join(kaggle_path, \"kaggle.json\"), 0o600)\n",
        "\n",
        "# Importar kaggle después de haber creado kaggle.json\n",
        "import kaggle\n"
      ]
    },
    {
      "cell_type": "code",
      "execution_count": null,
      "metadata": {},
      "outputs": [],
      "source": [
        "# Descargar el dataset \n",
        "dataset = \"Cornell-University/arxiv\"\n",
        "path = \"../data\"\n",
        "\n",
        "kaggle.api.dataset_download_files(dataset, path=path, unzip=True)"
      ]
    },
    {
      "cell_type": "code",
      "execution_count": null,
      "metadata": {},
      "outputs": [
        {
          "name": "stdout",
          "output_type": "stream",
          "text": [
            "ID: 0704.0001\n",
            "Título: Calculation of prompt diphoton production cross sections at Tevatron and\n",
            "  LHC energies\n",
            "Resumen:   A fully differential calculation in perturbative quantum chromodynamics is\n",
            "presented for the production of massive photon pairs at hadron colliders....\n",
            "\n"
          ]
        }
      ],
      "source": [
        "# Función para la lectura del corpus arxiv.zip\n",
        "\n",
        "import zipfile\n",
        "import json\n",
        "\n",
        "def leer_json_por_linea_desde_zip(zip_path, max_articulos=100):\n",
        "    articulos = []\n",
        "    with zipfile.ZipFile(zip_path, 'r') as zip_ref:\n",
        "        json_filename = next((f for f in zip_ref.namelist() if f.endswith('.json')), None)\n",
        "        if json_filename is None:\n",
        "            raise ValueError(\"No se encontró ningún archivo .json en el zip\")\n",
        "        \n",
        "        with zip_ref.open(json_filename) as file:\n",
        "            for i, line in enumerate(file):\n",
        "                if i >= max_articulos:\n",
        "                    break\n",
        "                try:\n",
        "                    articulo = json.loads(line)\n",
        "                    articulos.append(articulo)\n",
        "                except json.JSONDecodeError as e:\n",
        "                    print(f\"Error en la línea {i}: {e}\")\n",
        "    return articulos\n",
        "\n",
        "# Ejemplo de uso\n",
        "zip_path = 'arxiv.zip'\n",
        "articulos = leer_json_por_linea_desde_zip(zip_path, max_articulos=1)\n",
        "\n",
        "for art in articulos:\n",
        "    print(f\"ID: {art['id']}\")\n",
        "    print(f\"Título: {art['title']}\")\n",
        "    print(f\"Resumen: {art['abstract'][:150]}...\\n\")\n"
      ]
    },
    {
      "cell_type": "markdown",
      "metadata": {},
      "source": [
        "#### 1.2. Crear corpus con el 1%"
      ]
    },
    {
      "cell_type": "code",
      "execution_count": null,
      "metadata": {},
      "outputs": [
        {
          "name": "stdout",
          "output_type": "stream",
          "text": [
            "Total de registros JSON en el archivo: 2792339\n"
          ]
        }
      ],
      "source": [
        "# Obtener la longitud del corpus completo para calcular el 1%. \n",
        "\n",
        "import zipfile\n",
        "\n",
        "def contar_registros_json_por_linea(zip_path):\n",
        "    with zipfile.ZipFile(zip_path, 'r') as zip_ref:\n",
        "        # Buscar el primer archivo .json\n",
        "        json_filename = next((f for f in zip_ref.namelist() if f.endswith('.json')), None)\n",
        "        if json_filename is None:\n",
        "            raise ValueError(\"No se encontró ningún archivo .json en el zip\")\n",
        "\n",
        "        # Contar líneas (asumiendo una por objeto JSON)\n",
        "        with zip_ref.open(json_filename) as file:\n",
        "            num_registros = sum(1 for _ in file)\n",
        "\n",
        "    return num_registros\n",
        "\n",
        "total = contar_registros_json_por_linea(zip_path)\n",
        "print(f\"Total de registros JSON en el archivo: {total}\")\n"
      ]
    },
    {
      "cell_type": "code",
      "execution_count": null,
      "metadata": {},
      "outputs": [
        {
          "data": {
            "text/plain": [
              "27923.39"
            ]
          },
          "execution_count": 59,
          "metadata": {},
          "output_type": "execute_result"
        }
      ],
      "source": [
        "# cálculo del 1%\n",
        "cantidad = total / 100 \n",
        "cantidad"
      ]
    },
    {
      "cell_type": "code",
      "execution_count": 60,
      "metadata": {},
      "outputs": [
        {
          "data": {
            "text/plain": [
              "27924"
            ]
          },
          "execution_count": 60,
          "metadata": {},
          "output_type": "execute_result"
        }
      ],
      "source": [
        "# Recuperar el 1%\n",
        "articulos = leer_json_por_linea_desde_zip (zip_path, max_articulos=cantidad)\n",
        "len(articulos)"
      ]
    },
    {
      "cell_type": "code",
      "execution_count": null,
      "metadata": {},
      "outputs": [
        {
          "data": {
            "text/html": [
              "<div>\n",
              "<style scoped>\n",
              "    .dataframe tbody tr th:only-of-type {\n",
              "        vertical-align: middle;\n",
              "    }\n",
              "\n",
              "    .dataframe tbody tr th {\n",
              "        vertical-align: top;\n",
              "    }\n",
              "\n",
              "    .dataframe thead th {\n",
              "        text-align: right;\n",
              "    }\n",
              "</style>\n",
              "<table border=\"1\" class=\"dataframe\">\n",
              "  <thead>\n",
              "    <tr style=\"text-align: right;\">\n",
              "      <th></th>\n",
              "      <th>id</th>\n",
              "      <th>title</th>\n",
              "      <th>abstract</th>\n",
              "    </tr>\n",
              "  </thead>\n",
              "  <tbody>\n",
              "    <tr>\n",
              "      <th>0</th>\n",
              "      <td>0704.0001</td>\n",
              "      <td>Calculation of prompt diphoton production cros...</td>\n",
              "      <td>A fully differential calculation in perturba...</td>\n",
              "    </tr>\n",
              "    <tr>\n",
              "      <th>1</th>\n",
              "      <td>0704.0002</td>\n",
              "      <td>Sparsity-certifying Graph Decompositions</td>\n",
              "      <td>We describe a new algorithm, the $(k,\\ell)$-...</td>\n",
              "    </tr>\n",
              "    <tr>\n",
              "      <th>2</th>\n",
              "      <td>0704.0003</td>\n",
              "      <td>The evolution of the Earth-Moon system based o...</td>\n",
              "      <td>The evolution of Earth-Moon system is descri...</td>\n",
              "    </tr>\n",
              "    <tr>\n",
              "      <th>3</th>\n",
              "      <td>0704.0004</td>\n",
              "      <td>A determinant of Stirling cycle numbers counts...</td>\n",
              "      <td>We show that a determinant of Stirling cycle...</td>\n",
              "    </tr>\n",
              "    <tr>\n",
              "      <th>4</th>\n",
              "      <td>0704.0005</td>\n",
              "      <td>From dyadic $\\Lambda_{\\alpha}$ to $\\Lambda_{\\a...</td>\n",
              "      <td>In this paper we show how to compute the $\\L...</td>\n",
              "    </tr>\n",
              "    <tr>\n",
              "      <th>...</th>\n",
              "      <td>...</td>\n",
              "      <td>...</td>\n",
              "      <td>...</td>\n",
              "    </tr>\n",
              "    <tr>\n",
              "      <th>27919</th>\n",
              "      <td>0710.0972</td>\n",
              "      <td>A Floer homology for exact contact embeddings</td>\n",
              "      <td>In this paper we construct the Floer homolog...</td>\n",
              "    </tr>\n",
              "    <tr>\n",
              "      <th>27920</th>\n",
              "      <td>0710.0973</td>\n",
              "      <td>Modulation invariant bilinear T(1) theorem</td>\n",
              "      <td>We prove a T(1) theorem for bilinear singula...</td>\n",
              "    </tr>\n",
              "    <tr>\n",
              "      <th>27921</th>\n",
              "      <td>0710.0974</td>\n",
              "      <td>Hawking radiation in GHS and non-extremal D1-D...</td>\n",
              "      <td>We apply the method of Banerjee and Kulkarni...</td>\n",
              "    </tr>\n",
              "    <tr>\n",
              "      <th>27922</th>\n",
              "      <td>0710.0975</td>\n",
              "      <td>Renormalisation of quark bilinears with Nf=2 W...</td>\n",
              "      <td>We present results for the renormalisation c...</td>\n",
              "    </tr>\n",
              "    <tr>\n",
              "      <th>27923</th>\n",
              "      <td>0710.0976</td>\n",
              "      <td>A Three Dimensional Kasteleyn Transition: Spin...</td>\n",
              "      <td>We examine the statistical mechanics of spin...</td>\n",
              "    </tr>\n",
              "  </tbody>\n",
              "</table>\n",
              "<p>27924 rows × 3 columns</p>\n",
              "</div>"
            ],
            "text/plain": [
              "              id                                              title  \\\n",
              "0      0704.0001  Calculation of prompt diphoton production cros...   \n",
              "1      0704.0002           Sparsity-certifying Graph Decompositions   \n",
              "2      0704.0003  The evolution of the Earth-Moon system based o...   \n",
              "3      0704.0004  A determinant of Stirling cycle numbers counts...   \n",
              "4      0704.0005  From dyadic $\\Lambda_{\\alpha}$ to $\\Lambda_{\\a...   \n",
              "...          ...                                                ...   \n",
              "27919  0710.0972      A Floer homology for exact contact embeddings   \n",
              "27920  0710.0973         Modulation invariant bilinear T(1) theorem   \n",
              "27921  0710.0974  Hawking radiation in GHS and non-extremal D1-D...   \n",
              "27922  0710.0975  Renormalisation of quark bilinears with Nf=2 W...   \n",
              "27923  0710.0976  A Three Dimensional Kasteleyn Transition: Spin...   \n",
              "\n",
              "                                                abstract  \n",
              "0        A fully differential calculation in perturba...  \n",
              "1        We describe a new algorithm, the $(k,\\ell)$-...  \n",
              "2        The evolution of Earth-Moon system is descri...  \n",
              "3        We show that a determinant of Stirling cycle...  \n",
              "4        In this paper we show how to compute the $\\L...  \n",
              "...                                                  ...  \n",
              "27919    In this paper we construct the Floer homolog...  \n",
              "27920    We prove a T(1) theorem for bilinear singula...  \n",
              "27921    We apply the method of Banerjee and Kulkarni...  \n",
              "27922    We present results for the renormalisation c...  \n",
              "27923    We examine the statistical mechanics of spin...  \n",
              "\n",
              "[27924 rows x 3 columns]"
            ]
          },
          "execution_count": 61,
          "metadata": {},
          "output_type": "execute_result"
        }
      ],
      "source": [
        "# Crear el corpus dataframe\n",
        "import pandas as pd \n",
        "corpus_df = pd.DataFrame(articulos)\n",
        "corpus_df = corpus_df [[\"id\", \"title\", \"abstract\"]]\n",
        "corpus_df"
      ]
    },
    {
      "cell_type": "markdown",
      "metadata": {},
      "source": [
        "#### 1.4. Limpiar el texto"
      ]
    },
    {
      "cell_type": "code",
      "execution_count": null,
      "metadata": {},
      "outputs": [
        {
          "data": {
            "text/plain": [
              "array(['  A fully differential calculation in perturbative quantum chromodynamics is\\npresented for the production of massive photon pairs at hadron colliders. All\\nnext-to-leading order perturbative contributions from quark-antiquark,\\ngluon-(anti)quark, and gluon-gluon subprocesses are included, as well as\\nall-orders resummation of initial-state gluon radiation valid at\\nnext-to-next-to-leading logarithmic accuracy. The region of phase space is\\nspecified in which the calculation is most reliable. Good agreement is\\ndemonstrated with data from the Fermilab Tevatron, and predictions are made for\\nmore detailed tests with CDF and DO data. Predictions are shown for\\ndistributions of diphoton pairs produced at the energy of the Large Hadron\\nCollider (LHC). Distributions of the diphoton pairs from the decay of a Higgs\\nboson are contrasted with those produced from QCD processes at the LHC, showing\\nthat enhanced sensitivity to the signal can be obtained with judicious\\nselection of events.\\n',\n",
              "       '  We describe a new algorithm, the $(k,\\\\ell)$-pebble game with colors, and use\\nit obtain a characterization of the family of $(k,\\\\ell)$-sparse graphs and\\nalgorithmic solutions to a family of problems concerning tree decompositions of\\ngraphs. Special instances of sparse graphs appear in rigidity theory and have\\nreceived increased attention in recent years. In particular, our colored\\npebbles generalize and strengthen the previous results of Lee and Streinu and\\ngive a new proof of the Tutte-Nash-Williams characterization of arboricity. We\\nalso present a new decomposition that certifies sparsity based on the\\n$(k,\\\\ell)$-pebble game with colors. Our work also exposes connections between\\npebble game algorithms and previous sparse graph algorithms by Gabow, Gabow and\\nWestermann and Hendrickson.\\n',\n",
              "       \"  The evolution of Earth-Moon system is described by the dark matter field\\nfluid model proposed in the Meeting of Division of Particle and Field 2004,\\nAmerican Physical Society. The current behavior of the Earth-Moon system agrees\\nwith this model very well and the general pattern of the evolution of the\\nMoon-Earth system described by this model agrees with geological and fossil\\nevidence. The closest distance of the Moon to Earth was about 259000 km at 4.5\\nbillion years ago, which is far beyond the Roche's limit. The result suggests\\nthat the tidal friction may not be the primary cause for the evolution of the\\nEarth-Moon system. The average dark matter field fluid constant derived from\\nEarth-Moon system data is 4.39 x 10^(-22) s^(-1)m^(-1). This model predicts\\nthat the Mars's rotation is also slowing with the angular acceleration rate\\nabout -4.38 x 10^(-22) rad s^(-2).\\n\",\n",
              "       '  We show that a determinant of Stirling cycle numbers counts unlabeled acyclic\\nsingle-source automata. The proof involves a bijection from these automata to\\ncertain marked lattice paths and a sign-reversing involution to evaluate the\\ndeterminant.\\n',\n",
              "       '  In this paper we show how to compute the $\\\\Lambda_{\\\\alpha}$ norm, $\\\\alpha\\\\ge\\n0$, using the dyadic grid. This result is a consequence of the description of\\nthe Hardy spaces $H^p(R^N)$ in terms of dyadic and special atoms.\\n',\n",
              "       '  We study the two-particle wave function of paired atoms in a Fermi gas with\\ntunable interaction strengths controlled by Feshbach resonance. The Cooper pair\\nwave function is examined for its bosonic characters, which is quantified by\\nthe correction of Bose enhancement factor associated with the creation and\\nannihilation composite particle operators. An example is given for a\\nthree-dimensional uniform gas. Two definitions of Cooper pair wave function are\\nexamined. One of which is chosen to reflect the off-diagonal long range order\\n(ODLRO). Another one corresponds to a pair projection of a BCS state. On the\\nside with negative scattering length, we found that paired atoms described by\\nODLRO are more bosonic than the pair projected definition. It is also found\\nthat at $(k_F a)^{-1} \\\\ge 1$, both definitions give similar results, where more\\nthan 90% of the atoms occupy the corresponding molecular condensates.\\n',\n",
              "       '  A rather non-standard quantum representation of the canonical commutation\\nrelations of quantum mechanics systems, known as the polymer representation has\\ngained some attention in recent years, due to its possible relation with Planck\\nscale physics. In particular, this approach has been followed in a symmetric\\nsector of loop quantum gravity known as loop quantum cosmology. Here we explore\\ndifferent aspects of the relation between the ordinary Schroedinger theory and\\nthe polymer description. The paper has two parts. In the first one, we derive\\nthe polymer quantum mechanics starting from the ordinary Schroedinger theory\\nand show that the polymer description arises as an appropriate limit. In the\\nsecond part we consider the continuum limit of this theory, namely, the reverse\\nprocess in which one starts from the discrete theory and tries to recover back\\nthe ordinary Schroedinger quantum mechanics. We consider several examples of\\ninterest, including the harmonic oscillator, the free particle and a simple\\ncosmological model.\\n',\n",
              "       '  A general formulation was developed to represent material models for\\napplications in dynamic loading. Numerical methods were devised to calculate\\nresponse to shock and ramp compression, and ramp decompression, generalizing\\nprevious solutions for scalar equations of state. The numerical methods were\\nfound to be flexible and robust, and matched analytic results to a high\\naccuracy. The basic ramp and shock solution methods were coupled to solve for\\ncomposite deformation paths, such as shock-induced impacts, and shock\\ninteractions with a planar interface between different materials. These\\ncalculations capture much of the physics of typical material dynamics\\nexperiments, without requiring spatially-resolving simulations. Example\\ncalculations were made of loading histories in metals, illustrating the effects\\nof plastic work on the temperatures induced in quasi-isentropic and\\nshock-release experiments, and the effect of a phase transition.\\n',\n",
              "       \"  We discuss the results from the combined IRAC and MIPS c2d Spitzer Legacy\\nobservations of the Serpens star-forming region. In particular we present a set\\nof criteria for isolating bona fide young stellar objects, YSO's, from the\\nextensive background contamination by extra-galactic objects. We then discuss\\nthe properties of the resulting high confidence set of YSO's. We find 235 such\\nobjects in the 0.85 deg^2 field that was covered with both IRAC and MIPS. An\\nadditional set of 51 lower confidence YSO's outside this area is identified\\nfrom the MIPS data combined with 2MASS photometry. We describe two sets of\\nresults, color-color diagrams to compare our observed source properties with\\nthose of theoretical models for star/disk/envelope systems and our own modeling\\nof the subset of our objects that appear to be star+disks. These objects\\nexhibit a very wide range of disk properties, from many that can be fit with\\nactively accreting disks to some with both passive disks and even possibly\\ndebris disks. We find that the luminosity function of YSO's in Serpens extends\\ndown to at least a few x .001 Lsun or lower for an assumed distance of 260 pc.\\nThe lower limit may be set by our inability to distinguish YSO's from\\nextra-galactic sources more than by the lack of YSO's at very low luminosities.\\nA spatial clustering analysis shows that the nominally less-evolved YSO's are\\nmore highly clustered than the later stages and that the background\\nextra-galactic population can be fit by the same two-point correlation function\\nas seen in other extra-galactic studies. We also present a table of matches\\nbetween several previous infrared and X-ray studies of the Serpens YSO\\npopulation and our Spitzer data set.\\n\",\n",
              "       \"  Partial cubes are isometric subgraphs of hypercubes. Structures on a graph\\ndefined by means of semicubes, and Djokovi\\\\'{c}'s and Winkler's relations play\\nan important role in the theory of partial cubes. These structures are employed\\nin the paper to characterize bipartite graphs and partial cubes of arbitrary\\ndimension. New characterizations are established and new proofs of some known\\nresults are given.\\n  The operations of Cartesian product and pasting, and expansion and\\ncontraction processes are utilized in the paper to construct new partial cubes\\nfrom old ones. In particular, the isometric and lattice dimensions of finite\\npartial cubes obtained by means of these operations are calculated.\\n\",\n",
              "       '  In this paper we present an algorithm for computing Hecke eigensystems of\\nHilbert-Siegel cusp forms over real quadratic fields of narrow class number\\none. We give some illustrative examples using the quadratic field\\n$\\\\Q(\\\\sqrt{5})$. In those examples, we identify Hilbert-Siegel eigenforms that\\nare possible lifts from Hilbert eigenforms.\\n',\n",
              "       \"  Recently, Bruinier and Ono classified cusp forms $f(z) := \\\\sum_{n=0}^{\\\\infty}\\na_f(n)q ^n \\\\in S_{\\\\lambda+1/2}(\\\\Gamma_0(N),\\\\chi)\\\\cap \\\\mathbb{Z}[[q]]$ that does\\nnot satisfy a certain distribution property for modulo odd primes $p$. In this\\npaper, using Rankin-Cohen Bracket, we extend this result to modular forms of\\nhalf integral weight for primes $p \\\\geq 5$. As applications of our main theorem\\nwe derive distribution properties, for modulo primes $p\\\\geq5$, of traces of\\nsingular moduli and Hurwitz class number. We also study an analogue of Newman's\\nconjecture for overpartitions.\\n\",\n",
              "       '  Serre obtained the p-adic limit of the integral Fourier coefficient of\\nmodular forms on $SL_2(\\\\mathbb{Z})$ for $p=2,3,5,7$. In this paper, we extend\\nthe result of Serre to weakly holomorphic modular forms of half integral weight\\non $\\\\Gamma_{0}(4N)$ for $N=1,2,4$. A proof is based on linear relations among\\nFourier coefficients of modular forms of half integral weight. As applications\\nwe obtain congruences of Borcherds exponents, congruences of quotient of\\nEisentein series and congruences of values of $L$-functions at a certain point\\nare also studied. Furthermore, the congruences of the Fourier coefficients of\\nSiegel modular forms on Maass Space are obtained using Ikeda lifting.\\n',\n",
              "       \"  In this article we discuss a relation between the string topology and\\ndifferential forms based on the theory of Chen's iterated integrals and the\\ncyclic bar complex.\\n\",\n",
              "       '  The pure spinor formulation of the ten-dimensional superstring leads to\\nmanifestly supersymmetric loop amplitudes, expressed as integrals in pure\\nspinor superspace. This paper explores different methods to evaluate these\\nintegrals and then uses them to calculate the kinematic factors of the one-loop\\nand two-loop massless four-point amplitudes involving two and four Ramond\\nstates.\\n',\n",
              "       '  In this work, we evaluate the lifetimes of the doubly charmed baryons\\n$\\\\Xi_{cc}^{+}$, $\\\\Xi_{cc}^{++}$ and $\\\\Omega_{cc}^{+}$. We carefully calculate\\nthe non-spectator contributions at the quark level where the Cabibbo-suppressed\\ndiagrams are also included. The hadronic matrix elements are evaluated in the\\nsimple non-relativistic harmonic oscillator model. Our numerical results are\\ngenerally consistent with that obtained by other authors who used the diquark\\nmodel. However, all the theoretical predictions on the lifetimes are one order\\nlarger than the upper limit set by the recent SELEX measurement. This\\ndiscrepancy would be clarified by the future experiment, if more accurate\\nexperiment still confirms the value of the SELEX collaboration, there must be\\nsome unknown mechanism to be explored.\\n',\n",
              "       '  Results from spectroscopic observations of the Intermediate Polar (IP) EX Hya\\nin quiescence during 1991 and 2001 are presented. Spin-modulated radial\\nvelocities consistent with an outer disc origin were detected for the first\\ntime in an IP. The spin pulsation was modulated with velocities near ~500-600\\nkm/s. These velocities are consistent with those of material circulating at the\\nouter edge of the accretion disc, suggesting corotation of the accretion\\ncurtain with material near the Roche lobe radius. Furthermore, spin Doppler\\ntomograms have revealed evidence of the accretion curtain emission extending\\nfrom velocities of ~500 km/s to ~1000 km/s. These findings have confirmed the\\ntheoretical model predictions of King & Wynn (1999), Belle et al. (2002) and\\nNorton et al. (2004) for EX Hya, which predict large accretion curtains that\\nextend to a distance close to the Roche lobe radius in this system. Evidence\\nfor overflow stream of material falling onto the magnetosphere was observed,\\nconfirming the result of Belle et al. (2005) that disc overflow in EX Hya is\\npresent during quiescence as well as outburst. It appears that the hbeta and\\nhgamma spin radial velocities originated from the rotation of the funnel at the\\nouter disc edge, while those of halpha were produced due to the flow of\\nmaterial along the field lines far from the white dwarf (narrow component) and\\nclose to the white dwarf (broad-base component), in agreement with the\\naccretion curtain model.\\n',\n",
              "       '  We give a prescription for how to compute the Callias index, using as\\nregulator an exponential function. We find agreement with old results in all\\nodd dimensions. We show that the problem of computing the dimension of the\\nmoduli space of self-dual strings can be formulated as an index problem in\\neven-dimensional (loop-)space. We think that the regulator used in this Letter\\ncan be applied to this index problem.\\n',\n",
              "       '  In this note we give a new method for getting a series of approximations for\\nthe extinction probability of the one-dimensional contact process by using the\\nGr\\\\\"obner basis.\\n',\n",
              "       '  The shape of the hadronic form factor f+(q2) in the decay D0 --> K- e+ nue\\nhas been measured in a model independent analysis and compared with theoretical\\ncalculations. We use 75 fb(-1) of data recorded by the BABAR detector at the\\nPEPII electron-positron collider. The corresponding decay branching fraction,\\nrelative to the decay D0 --> K- pi+, has also been measured to be RD = BR(D0\\n--> K- e+ nue)/BR(D0 --> K- pi+) = 0.927 +/- 0.007 +/- 0.012. From these\\nresults, and using the present world average value for BR(D0 --> K- pi+), the\\nnormalization of the form factor at q2=0 is determined to be f+(0)=0.727 +/-\\n0.007 +/- 0.005 +/- 0.007 where the uncertainties are statistical, systematic,\\nand from external inputs, respectively.\\n'],\n",
              "      dtype=object)"
            ]
          },
          "execution_count": 38,
          "metadata": {},
          "output_type": "execute_result"
        }
      ],
      "source": [
        "#Visualización para entender los textos\n",
        "corpus_df[\"abstract\"].values[:20]"
      ]
    },
    {
      "cell_type": "code",
      "execution_count": null,
      "metadata": {},
      "outputs": [],
      "source": [
        "# Función para limpiar un documento\n",
        "\n",
        "import re\n",
        "import unicodedata\n",
        "import ast\n",
        "\n",
        "def limpiar_doc(text):\n",
        " \n",
        "    # Asegurar tipo string\n",
        "    if isinstance(text, bytes):\n",
        "        try:\n",
        "            text = text.decode(\"utf-8\", errors=\"replace\")\n",
        "        except:\n",
        "            text = text.decode(\"latin1\", errors=\"replace\")\n",
        "\n",
        "    # Reemplazar saltos de línea y múltiples espacios\n",
        "    text = text.replace(\"\\\\n\", \" \").replace(\"\\n\", \" \")\n",
        "    text = re.sub(r'\\s+', ' ', text)\n",
        "\n",
        "    # Normalizar caracteres Unicode (acentos, etc.)\n",
        "    text = unicodedata.normalize(\"NFKD\", text)\n",
        "    text = text.encode(\"ascii\", \"ignore\").decode(\"ascii\")\n",
        "\n",
        "    # Eliminar caracteres no alfabéticos, excepto puntuación mínima\n",
        "    text = re.sub(r'[^a-zA-Z0-9.,;:!?()\\'\\\" ]', ' ', text)\n",
        "\n",
        "    return text.strip()"
      ]
    },
    {
      "cell_type": "code",
      "execution_count": null,
      "metadata": {},
      "outputs": [
        {
          "data": {
            "text/html": [
              "<div>\n",
              "<style scoped>\n",
              "    .dataframe tbody tr th:only-of-type {\n",
              "        vertical-align: middle;\n",
              "    }\n",
              "\n",
              "    .dataframe tbody tr th {\n",
              "        vertical-align: top;\n",
              "    }\n",
              "\n",
              "    .dataframe thead th {\n",
              "        text-align: right;\n",
              "    }\n",
              "</style>\n",
              "<table border=\"1\" class=\"dataframe\">\n",
              "  <thead>\n",
              "    <tr style=\"text-align: right;\">\n",
              "      <th></th>\n",
              "      <th>id</th>\n",
              "      <th>title</th>\n",
              "      <th>abstract</th>\n",
              "      <th>limpio</th>\n",
              "    </tr>\n",
              "  </thead>\n",
              "  <tbody>\n",
              "    <tr>\n",
              "      <th>0</th>\n",
              "      <td>0704.0001</td>\n",
              "      <td>Calculation of prompt diphoton production cros...</td>\n",
              "      <td>A fully differential calculation in perturba...</td>\n",
              "      <td>A fully differential calculation in perturbati...</td>\n",
              "    </tr>\n",
              "    <tr>\n",
              "      <th>1</th>\n",
              "      <td>0704.0002</td>\n",
              "      <td>Sparsity-certifying Graph Decompositions</td>\n",
              "      <td>We describe a new algorithm, the $(k,\\ell)$-...</td>\n",
              "      <td>We describe a new algorithm, the  (k, ell)  pe...</td>\n",
              "    </tr>\n",
              "    <tr>\n",
              "      <th>2</th>\n",
              "      <td>0704.0003</td>\n",
              "      <td>The evolution of the Earth-Moon system based o...</td>\n",
              "      <td>The evolution of Earth-Moon system is descri...</td>\n",
              "      <td>The evolution of Earth Moon system is describe...</td>\n",
              "    </tr>\n",
              "    <tr>\n",
              "      <th>3</th>\n",
              "      <td>0704.0004</td>\n",
              "      <td>A determinant of Stirling cycle numbers counts...</td>\n",
              "      <td>We show that a determinant of Stirling cycle...</td>\n",
              "      <td>We show that a determinant of Stirling cycle n...</td>\n",
              "    </tr>\n",
              "    <tr>\n",
              "      <th>4</th>\n",
              "      <td>0704.0005</td>\n",
              "      <td>From dyadic $\\Lambda_{\\alpha}$ to $\\Lambda_{\\a...</td>\n",
              "      <td>In this paper we show how to compute the $\\L...</td>\n",
              "      <td>In this paper we show how to compute the   Lam...</td>\n",
              "    </tr>\n",
              "    <tr>\n",
              "      <th>...</th>\n",
              "      <td>...</td>\n",
              "      <td>...</td>\n",
              "      <td>...</td>\n",
              "      <td>...</td>\n",
              "    </tr>\n",
              "    <tr>\n",
              "      <th>27919</th>\n",
              "      <td>0710.0972</td>\n",
              "      <td>A Floer homology for exact contact embeddings</td>\n",
              "      <td>In this paper we construct the Floer homolog...</td>\n",
              "      <td>In this paper we construct the Floer homology ...</td>\n",
              "    </tr>\n",
              "    <tr>\n",
              "      <th>27920</th>\n",
              "      <td>0710.0973</td>\n",
              "      <td>Modulation invariant bilinear T(1) theorem</td>\n",
              "      <td>We prove a T(1) theorem for bilinear singula...</td>\n",
              "      <td>We prove a T(1) theorem for bilinear singular ...</td>\n",
              "    </tr>\n",
              "    <tr>\n",
              "      <th>27921</th>\n",
              "      <td>0710.0974</td>\n",
              "      <td>Hawking radiation in GHS and non-extremal D1-D...</td>\n",
              "      <td>We apply the method of Banerjee and Kulkarni...</td>\n",
              "      <td>We apply the method of Banerjee and Kulkarni (...</td>\n",
              "    </tr>\n",
              "    <tr>\n",
              "      <th>27922</th>\n",
              "      <td>0710.0975</td>\n",
              "      <td>Renormalisation of quark bilinears with Nf=2 W...</td>\n",
              "      <td>We present results for the renormalisation c...</td>\n",
              "      <td>We present results for the renormalisation con...</td>\n",
              "    </tr>\n",
              "    <tr>\n",
              "      <th>27923</th>\n",
              "      <td>0710.0976</td>\n",
              "      <td>A Three Dimensional Kasteleyn Transition: Spin...</td>\n",
              "      <td>We examine the statistical mechanics of spin...</td>\n",
              "      <td>We examine the statistical mechanics of spin i...</td>\n",
              "    </tr>\n",
              "  </tbody>\n",
              "</table>\n",
              "<p>27924 rows × 4 columns</p>\n",
              "</div>"
            ],
            "text/plain": [
              "              id                                              title  \\\n",
              "0      0704.0001  Calculation of prompt diphoton production cros...   \n",
              "1      0704.0002           Sparsity-certifying Graph Decompositions   \n",
              "2      0704.0003  The evolution of the Earth-Moon system based o...   \n",
              "3      0704.0004  A determinant of Stirling cycle numbers counts...   \n",
              "4      0704.0005  From dyadic $\\Lambda_{\\alpha}$ to $\\Lambda_{\\a...   \n",
              "...          ...                                                ...   \n",
              "27919  0710.0972      A Floer homology for exact contact embeddings   \n",
              "27920  0710.0973         Modulation invariant bilinear T(1) theorem   \n",
              "27921  0710.0974  Hawking radiation in GHS and non-extremal D1-D...   \n",
              "27922  0710.0975  Renormalisation of quark bilinears with Nf=2 W...   \n",
              "27923  0710.0976  A Three Dimensional Kasteleyn Transition: Spin...   \n",
              "\n",
              "                                                abstract  \\\n",
              "0        A fully differential calculation in perturba...   \n",
              "1        We describe a new algorithm, the $(k,\\ell)$-...   \n",
              "2        The evolution of Earth-Moon system is descri...   \n",
              "3        We show that a determinant of Stirling cycle...   \n",
              "4        In this paper we show how to compute the $\\L...   \n",
              "...                                                  ...   \n",
              "27919    In this paper we construct the Floer homolog...   \n",
              "27920    We prove a T(1) theorem for bilinear singula...   \n",
              "27921    We apply the method of Banerjee and Kulkarni...   \n",
              "27922    We present results for the renormalisation c...   \n",
              "27923    We examine the statistical mechanics of spin...   \n",
              "\n",
              "                                                  limpio  \n",
              "0      A fully differential calculation in perturbati...  \n",
              "1      We describe a new algorithm, the  (k, ell)  pe...  \n",
              "2      The evolution of Earth Moon system is describe...  \n",
              "3      We show that a determinant of Stirling cycle n...  \n",
              "4      In this paper we show how to compute the   Lam...  \n",
              "...                                                  ...  \n",
              "27919  In this paper we construct the Floer homology ...  \n",
              "27920  We prove a T(1) theorem for bilinear singular ...  \n",
              "27921  We apply the method of Banerjee and Kulkarni (...  \n",
              "27922  We present results for the renormalisation con...  \n",
              "27923  We examine the statistical mechanics of spin i...  \n",
              "\n",
              "[27924 rows x 4 columns]"
            ]
          },
          "execution_count": 63,
          "metadata": {},
          "output_type": "execute_result"
        }
      ],
      "source": [
        "corpus_df[\"limpio\"] = corpus_df[\"abstract\"].apply(limpiar_doc)\n",
        "corpus_df"
      ]
    },
    {
      "cell_type": "markdown",
      "metadata": {},
      "source": [
        "#### 1.3 Preprocesar el texto"
      ]
    },
    {
      "cell_type": "code",
      "execution_count": 3,
      "metadata": {},
      "outputs": [
        {
          "name": "stderr",
          "output_type": "stream",
          "text": [
            "[nltk_data] Downloading package punkt to\n",
            "[nltk_data]     C:\\Users\\54Y1\\AppData\\Roaming\\nltk_data...\n",
            "[nltk_data]   Package punkt is already up-to-date!\n",
            "[nltk_data] Downloading package punkt_tab to\n",
            "[nltk_data]     C:\\Users\\54Y1\\AppData\\Roaming\\nltk_data...\n",
            "[nltk_data]   Package punkt_tab is already up-to-date!\n",
            "[nltk_data] Downloading package stopwords to\n",
            "[nltk_data]     C:\\Users\\54Y1\\AppData\\Roaming\\nltk_data...\n",
            "[nltk_data]   Package stopwords is already up-to-date!\n",
            "[nltk_data] Downloading package wordnet to\n",
            "[nltk_data]     C:\\Users\\54Y1\\AppData\\Roaming\\nltk_data...\n",
            "[nltk_data]   Package wordnet is already up-to-date!\n",
            "[nltk_data] Downloading package averaged_perceptron_tagger to\n",
            "[nltk_data]     C:\\Users\\54Y1\\AppData\\Roaming\\nltk_data...\n",
            "[nltk_data]   Package averaged_perceptron_tagger is already up-to-\n",
            "[nltk_data]       date!\n",
            "[nltk_data] Downloading package averaged_perceptron_tagger_eng to\n",
            "[nltk_data]     C:\\Users\\54Y1\\AppData\\Roaming\\nltk_data...\n",
            "[nltk_data]   Package averaged_perceptron_tagger_eng is already up-to-\n",
            "[nltk_data]       date!\n"
          ]
        }
      ],
      "source": [
        "# Preprocesamiento\n",
        "import nltk\n",
        "import re\n",
        "from nltk.corpus import stopwords, wordnet\n",
        "from nltk.tokenize import regexp_tokenize\n",
        "from nltk.tag import pos_tag\n",
        "from nltk.stem import WordNetLemmatizer\n",
        "\n",
        "paquetes_requeridos = [\n",
        "    'punkt','punkt_tab','stopwords', 'wordnet', 'averaged_perceptron_tagger', 'averaged_perceptron_tagger_eng'\n",
        "]\n",
        "lemmatizer = WordNetLemmatizer()\n",
        "\n",
        "# Descargar recursos necesarios\n",
        "for i in paquetes_requeridos:\n",
        "  nltk.download(i)\n",
        "\n",
        "# Lista de stopwords en inglés\n",
        "stop_words = set(stopwords.words('english'))\n",
        "\n",
        "def lematizar(tokens):\n",
        "    tagged = pos_tag(tokens)\n",
        "\n",
        "    def get_wordnet_pos(tag):\n",
        "            if tag.startswith('J'):\n",
        "                return wordnet.ADJ\n",
        "            elif tag.startswith('V'):\n",
        "                return wordnet.VERB\n",
        "            elif tag.startswith('N'):\n",
        "                return wordnet.NOUN\n",
        "            elif tag.startswith('R'):\n",
        "                return wordnet.ADV\n",
        "            return wordnet.NOUN\n",
        "\n",
        "    return [\n",
        "           lemmatizer.lemmatize(word, get_wordnet_pos(pos))\n",
        "           for word, pos in tagged\n",
        "        ]\n",
        "\n",
        "def preprocesar(doc):\n",
        "    \"\"\"\n",
        "    Preprocesa el texto eliminando caracteres especiales, convirtiendo a minúsculas,\n",
        "    tokenizando, eliminando stopwords, lematizacion\n",
        "    \"\"\"\n",
        "    # Convertir a minúsculas\n",
        "    doc = doc.lower()\n",
        "\n",
        "    # normalizar y tokenizar\n",
        "    words = regexp_tokenize(doc, r\"[a-zA-Z]+\")\n",
        "\n",
        "    # stopwords\n",
        "    for word in stop_words:\n",
        "      if word in words:\n",
        "        words.remove(word)\n",
        "\n",
        "    # lematizar\n",
        "    words = lematizar(words)\n",
        "\n",
        "    return ' '.join(words)"
      ]
    },
    {
      "cell_type": "code",
      "execution_count": 65,
      "metadata": {},
      "outputs": [],
      "source": [
        "corpus_df['preprocessed'] = corpus_df['limpio'].apply(preprocesar)"
      ]
    },
    {
      "cell_type": "code",
      "execution_count": 66,
      "metadata": {},
      "outputs": [
        {
          "data": {
            "text/html": [
              "<div>\n",
              "<style scoped>\n",
              "    .dataframe tbody tr th:only-of-type {\n",
              "        vertical-align: middle;\n",
              "    }\n",
              "\n",
              "    .dataframe tbody tr th {\n",
              "        vertical-align: top;\n",
              "    }\n",
              "\n",
              "    .dataframe thead th {\n",
              "        text-align: right;\n",
              "    }\n",
              "</style>\n",
              "<table border=\"1\" class=\"dataframe\">\n",
              "  <thead>\n",
              "    <tr style=\"text-align: right;\">\n",
              "      <th></th>\n",
              "      <th>id</th>\n",
              "      <th>title</th>\n",
              "      <th>abstract</th>\n",
              "      <th>limpio</th>\n",
              "      <th>preprocessed</th>\n",
              "    </tr>\n",
              "  </thead>\n",
              "  <tbody>\n",
              "    <tr>\n",
              "      <th>0</th>\n",
              "      <td>0704.0001</td>\n",
              "      <td>Calculation of prompt diphoton production cros...</td>\n",
              "      <td>A fully differential calculation in perturba...</td>\n",
              "      <td>A fully differential calculation in perturbati...</td>\n",
              "      <td>fully differential calculation perturbative qu...</td>\n",
              "    </tr>\n",
              "    <tr>\n",
              "      <th>1</th>\n",
              "      <td>0704.0002</td>\n",
              "      <td>Sparsity-certifying Graph Decompositions</td>\n",
              "      <td>We describe a new algorithm, the $(k,\\ell)$-...</td>\n",
              "      <td>We describe a new algorithm, the  (k, ell)  pe...</td>\n",
              "      <td>describe new algorithm k ell pebble game color...</td>\n",
              "    </tr>\n",
              "    <tr>\n",
              "      <th>2</th>\n",
              "      <td>0704.0003</td>\n",
              "      <td>The evolution of the Earth-Moon system based o...</td>\n",
              "      <td>The evolution of Earth-Moon system is descri...</td>\n",
              "      <td>The evolution of Earth Moon system is describe...</td>\n",
              "      <td>evolution earth moon system describe the dark ...</td>\n",
              "    </tr>\n",
              "    <tr>\n",
              "      <th>3</th>\n",
              "      <td>0704.0004</td>\n",
              "      <td>A determinant of Stirling cycle numbers counts...</td>\n",
              "      <td>We show that a determinant of Stirling cycle...</td>\n",
              "      <td>We show that a determinant of Stirling cycle n...</td>\n",
              "      <td>show determinant stirling cycle number count u...</td>\n",
              "    </tr>\n",
              "    <tr>\n",
              "      <th>4</th>\n",
              "      <td>0704.0005</td>\n",
              "      <td>From dyadic $\\Lambda_{\\alpha}$ to $\\Lambda_{\\a...</td>\n",
              "      <td>In this paper we show how to compute the $\\L...</td>\n",
              "      <td>In this paper we show how to compute the   Lam...</td>\n",
              "      <td>paper show compute lambda alpha norm alpha ge ...</td>\n",
              "    </tr>\n",
              "    <tr>\n",
              "      <th>...</th>\n",
              "      <td>...</td>\n",
              "      <td>...</td>\n",
              "      <td>...</td>\n",
              "      <td>...</td>\n",
              "      <td>...</td>\n",
              "    </tr>\n",
              "    <tr>\n",
              "      <th>27919</th>\n",
              "      <td>0710.0972</td>\n",
              "      <td>A Floer homology for exact contact embeddings</td>\n",
              "      <td>In this paper we construct the Floer homolog...</td>\n",
              "      <td>In this paper we construct the Floer homology ...</td>\n",
              "      <td>paper construct floer homology action function...</td>\n",
              "    </tr>\n",
              "    <tr>\n",
              "      <th>27920</th>\n",
              "      <td>0710.0973</td>\n",
              "      <td>Modulation invariant bilinear T(1) theorem</td>\n",
              "      <td>We prove a T(1) theorem for bilinear singula...</td>\n",
              "      <td>We prove a T(1) theorem for bilinear singular ...</td>\n",
              "      <td>prove theorem bilinear singular integral opera...</td>\n",
              "    </tr>\n",
              "    <tr>\n",
              "      <th>27921</th>\n",
              "      <td>0710.0974</td>\n",
              "      <td>Hawking radiation in GHS and non-extremal D1-D...</td>\n",
              "      <td>We apply the method of Banerjee and Kulkarni...</td>\n",
              "      <td>We apply the method of Banerjee and Kulkarni (...</td>\n",
              "      <td>apply method banerjee kulkarni arxiv hep th pr...</td>\n",
              "    </tr>\n",
              "    <tr>\n",
              "      <th>27922</th>\n",
              "      <td>0710.0975</td>\n",
              "      <td>Renormalisation of quark bilinears with Nf=2 W...</td>\n",
              "      <td>We present results for the renormalisation c...</td>\n",
              "      <td>We present results for the renormalisation con...</td>\n",
              "      <td>present result renormalisation constant biline...</td>\n",
              "    </tr>\n",
              "    <tr>\n",
              "      <th>27923</th>\n",
              "      <td>0710.0976</td>\n",
              "      <td>A Three Dimensional Kasteleyn Transition: Spin...</td>\n",
              "      <td>We examine the statistical mechanics of spin...</td>\n",
              "      <td>We examine the statistical mechanics of spin i...</td>\n",
              "      <td>examine statistical mechanic spin ice material...</td>\n",
              "    </tr>\n",
              "  </tbody>\n",
              "</table>\n",
              "<p>27924 rows × 5 columns</p>\n",
              "</div>"
            ],
            "text/plain": [
              "              id                                              title  \\\n",
              "0      0704.0001  Calculation of prompt diphoton production cros...   \n",
              "1      0704.0002           Sparsity-certifying Graph Decompositions   \n",
              "2      0704.0003  The evolution of the Earth-Moon system based o...   \n",
              "3      0704.0004  A determinant of Stirling cycle numbers counts...   \n",
              "4      0704.0005  From dyadic $\\Lambda_{\\alpha}$ to $\\Lambda_{\\a...   \n",
              "...          ...                                                ...   \n",
              "27919  0710.0972      A Floer homology for exact contact embeddings   \n",
              "27920  0710.0973         Modulation invariant bilinear T(1) theorem   \n",
              "27921  0710.0974  Hawking radiation in GHS and non-extremal D1-D...   \n",
              "27922  0710.0975  Renormalisation of quark bilinears with Nf=2 W...   \n",
              "27923  0710.0976  A Three Dimensional Kasteleyn Transition: Spin...   \n",
              "\n",
              "                                                abstract  \\\n",
              "0        A fully differential calculation in perturba...   \n",
              "1        We describe a new algorithm, the $(k,\\ell)$-...   \n",
              "2        The evolution of Earth-Moon system is descri...   \n",
              "3        We show that a determinant of Stirling cycle...   \n",
              "4        In this paper we show how to compute the $\\L...   \n",
              "...                                                  ...   \n",
              "27919    In this paper we construct the Floer homolog...   \n",
              "27920    We prove a T(1) theorem for bilinear singula...   \n",
              "27921    We apply the method of Banerjee and Kulkarni...   \n",
              "27922    We present results for the renormalisation c...   \n",
              "27923    We examine the statistical mechanics of spin...   \n",
              "\n",
              "                                                  limpio  \\\n",
              "0      A fully differential calculation in perturbati...   \n",
              "1      We describe a new algorithm, the  (k, ell)  pe...   \n",
              "2      The evolution of Earth Moon system is describe...   \n",
              "3      We show that a determinant of Stirling cycle n...   \n",
              "4      In this paper we show how to compute the   Lam...   \n",
              "...                                                  ...   \n",
              "27919  In this paper we construct the Floer homology ...   \n",
              "27920  We prove a T(1) theorem for bilinear singular ...   \n",
              "27921  We apply the method of Banerjee and Kulkarni (...   \n",
              "27922  We present results for the renormalisation con...   \n",
              "27923  We examine the statistical mechanics of spin i...   \n",
              "\n",
              "                                            preprocessed  \n",
              "0      fully differential calculation perturbative qu...  \n",
              "1      describe new algorithm k ell pebble game color...  \n",
              "2      evolution earth moon system describe the dark ...  \n",
              "3      show determinant stirling cycle number count u...  \n",
              "4      paper show compute lambda alpha norm alpha ge ...  \n",
              "...                                                  ...  \n",
              "27919  paper construct floer homology action function...  \n",
              "27920  prove theorem bilinear singular integral opera...  \n",
              "27921  apply method banerjee kulkarni arxiv hep th pr...  \n",
              "27922  present result renormalisation constant biline...  \n",
              "27923  examine statistical mechanic spin ice material...  \n",
              "\n",
              "[27924 rows x 5 columns]"
            ]
          },
          "execution_count": 66,
          "metadata": {},
          "output_type": "execute_result"
        }
      ],
      "source": [
        "corpus_df"
      ]
    },
    {
      "cell_type": "markdown",
      "metadata": {},
      "source": [
        "### 2. Indexación"
      ]
    },
    {
      "cell_type": "code",
      "execution_count": 2,
      "metadata": {},
      "outputs": [],
      "source": [
        "## Recuperar el corpua almacenado\n",
        "import pandas as pd\n",
        "corpus_df = pd.read_pickle(\"corpus_df.pkl\")"
      ]
    },
    {
      "cell_type": "markdown",
      "metadata": {},
      "source": [
        "#### 2.1. TF-IDF"
      ]
    },
    {
      "cell_type": "code",
      "execution_count": 4,
      "metadata": {},
      "outputs": [],
      "source": [
        "from sklearn.feature_extraction.text import TfidfVectorizer\n",
        "\n",
        "tfidf_vectorizer = TfidfVectorizer()\n",
        "tfidf_matrix = tfidf_vectorizer.fit_transform(corpus_df[\"preprocessed\"].values)\n"
      ]
    },
    {
      "cell_type": "code",
      "execution_count": 5,
      "metadata": {},
      "outputs": [],
      "source": [
        "# recuperar con TF-IDF\n",
        "from sklearn.metrics.pairwise import cosine_similarity\n",
        "import numpy as np\n",
        "\n",
        "def search_tfidf (query, k=5):\n",
        "    query_vector = tfidf_vectorizer.transform([preprocesar(query)])\n",
        "    cos_sim = cosine_similarity(query_vector, tfidf_matrix)\n",
        "    sorted_indices = np.argsort(-(cos_sim.flatten()))\n",
        "    return sorted_indices[:k]\n"
      ]
    },
    {
      "cell_type": "markdown",
      "metadata": {},
      "source": [
        "#### 2.1. BM25"
      ]
    },
    {
      "cell_type": "code",
      "execution_count": null,
      "metadata": {},
      "outputs": [],
      "source": [
        "#  Para el modelo BM25Okapi es necesario es necesario pasar un documento tokenizado, en este caso, se usa split con \" \" para obtenerlo.\n",
        "#[i.split(\" \") for i in corpus_df[\"preprocessed\"]] "
      ]
    },
    {
      "cell_type": "code",
      "execution_count": 6,
      "metadata": {},
      "outputs": [],
      "source": [
        "from rank_bm25 import BM25Okapi\n",
        "bm25_vectorizer = BM25Okapi([ i.split(\" \") for i in corpus_df[\"preprocessed\"]])"
      ]
    },
    {
      "cell_type": "code",
      "execution_count": 7,
      "metadata": {},
      "outputs": [],
      "source": [
        "# recuperar con BM25\n",
        "import numpy as np\n",
        "\n",
        "def search_bm25 (query, k=5):\n",
        "    query_tokenizado = preprocesar(query).split(\" \")\n",
        "    bm25_scores = bm25_vectorizer.get_scores(query_tokenizado)\n",
        "    sorted_indices = np.argsort(-(bm25_scores)) \n",
        "    return sorted_indices[:k]\n"
      ]
    },
    {
      "cell_type": "markdown",
      "metadata": {},
      "source": [
        "#### 2.3. Embeddings y FAISS"
      ]
    },
    {
      "cell_type": "code",
      "execution_count": null,
      "metadata": {},
      "outputs": [],
      "source": [
        "# Para no ver los warnings generados con sentence_transformers por su futura actualización\n",
        "import warnings\n",
        "warnings.filterwarnings(\"ignore\", category=FutureWarning)"
      ]
    },
    {
      "cell_type": "code",
      "execution_count": null,
      "metadata": {},
      "outputs": [],
      "source": [
        "# Crear una instancia del modelo de sentence_transformers\n",
        "from sentence_transformers import SentenceTransformer\n",
        "modelo_SBERT = SentenceTransformer('all-MiniLM-L6-v2')"
      ]
    },
    {
      "cell_type": "code",
      "execution_count": null,
      "metadata": {},
      "outputs": [
        {
          "name": "stderr",
          "output_type": "stream",
          "text": [
            "c:\\Users\\54Y1\\AppData\\Local\\Programs\\Python\\Python313\\Lib\\site-packages\\torch\\nn\\modules\\module.py:1762: FutureWarning: `encoder_attention_mask` is deprecated and will be removed in version 4.55.0 for `BertSdpaSelfAttention.forward`.\n",
            "  return forward_call(*args, **kwargs)\n"
          ]
        }
      ],
      "source": [
        "# Crear embeddings\n",
        "corpus_df[\"embeddings\"] = corpus_df[\"preprocessed\"].apply(modelo_SBERT.encode)"
      ]
    },
    {
      "cell_type": "code",
      "execution_count": 37,
      "metadata": {},
      "outputs": [
        {
          "data": {
            "text/html": [
              "<div>\n",
              "<style scoped>\n",
              "    .dataframe tbody tr th:only-of-type {\n",
              "        vertical-align: middle;\n",
              "    }\n",
              "\n",
              "    .dataframe tbody tr th {\n",
              "        vertical-align: top;\n",
              "    }\n",
              "\n",
              "    .dataframe thead th {\n",
              "        text-align: right;\n",
              "    }\n",
              "</style>\n",
              "<table border=\"1\" class=\"dataframe\">\n",
              "  <thead>\n",
              "    <tr style=\"text-align: right;\">\n",
              "      <th></th>\n",
              "      <th>id</th>\n",
              "      <th>title</th>\n",
              "      <th>abstract</th>\n",
              "      <th>limpio</th>\n",
              "      <th>preprocessed</th>\n",
              "      <th>embeddings</th>\n",
              "    </tr>\n",
              "  </thead>\n",
              "  <tbody>\n",
              "    <tr>\n",
              "      <th>0</th>\n",
              "      <td>0704.0001</td>\n",
              "      <td>Calculation of prompt diphoton production cros...</td>\n",
              "      <td>A fully differential calculation in perturba...</td>\n",
              "      <td>A fully differential calculation in perturbati...</td>\n",
              "      <td>fully differential calculation perturbative qu...</td>\n",
              "      <td>[-0.14503951, 0.006252839, 0.01574863, 0.02344...</td>\n",
              "    </tr>\n",
              "    <tr>\n",
              "      <th>1</th>\n",
              "      <td>0704.0002</td>\n",
              "      <td>Sparsity-certifying Graph Decompositions</td>\n",
              "      <td>We describe a new algorithm, the $(k,\\ell)$-...</td>\n",
              "      <td>We describe a new algorithm, the  (k, ell)  pe...</td>\n",
              "      <td>describe new algorithm k ell pebble game color...</td>\n",
              "      <td>[0.007457821, 0.058577795, -0.014967399, -0.10...</td>\n",
              "    </tr>\n",
              "    <tr>\n",
              "      <th>2</th>\n",
              "      <td>0704.0003</td>\n",
              "      <td>The evolution of the Earth-Moon system based o...</td>\n",
              "      <td>The evolution of Earth-Moon system is descri...</td>\n",
              "      <td>The evolution of Earth Moon system is describe...</td>\n",
              "      <td>evolution earth moon system describe the dark ...</td>\n",
              "      <td>[-0.0057581854, -0.027594136, 0.056366056, -0....</td>\n",
              "    </tr>\n",
              "    <tr>\n",
              "      <th>3</th>\n",
              "      <td>0704.0004</td>\n",
              "      <td>A determinant of Stirling cycle numbers counts...</td>\n",
              "      <td>We show that a determinant of Stirling cycle...</td>\n",
              "      <td>We show that a determinant of Stirling cycle n...</td>\n",
              "      <td>show determinant stirling cycle number count u...</td>\n",
              "      <td>[-0.044559773, 0.018180959, -0.034391165, 0.02...</td>\n",
              "    </tr>\n",
              "    <tr>\n",
              "      <th>4</th>\n",
              "      <td>0704.0005</td>\n",
              "      <td>From dyadic $\\Lambda_{\\alpha}$ to $\\Lambda_{\\a...</td>\n",
              "      <td>In this paper we show how to compute the $\\L...</td>\n",
              "      <td>In this paper we show how to compute the   Lam...</td>\n",
              "      <td>paper show compute lambda alpha norm alpha ge ...</td>\n",
              "      <td>[-0.0045864526, 0.019537477, -0.090831034, -0....</td>\n",
              "    </tr>\n",
              "    <tr>\n",
              "      <th>...</th>\n",
              "      <td>...</td>\n",
              "      <td>...</td>\n",
              "      <td>...</td>\n",
              "      <td>...</td>\n",
              "      <td>...</td>\n",
              "      <td>...</td>\n",
              "    </tr>\n",
              "    <tr>\n",
              "      <th>27919</th>\n",
              "      <td>0710.0972</td>\n",
              "      <td>A Floer homology for exact contact embeddings</td>\n",
              "      <td>In this paper we construct the Floer homolog...</td>\n",
              "      <td>In this paper we construct the Floer homology ...</td>\n",
              "      <td>paper construct floer homology action function...</td>\n",
              "      <td>[-0.056200802, 0.006618591, 0.0074252724, -0.0...</td>\n",
              "    </tr>\n",
              "    <tr>\n",
              "      <th>27920</th>\n",
              "      <td>0710.0973</td>\n",
              "      <td>Modulation invariant bilinear T(1) theorem</td>\n",
              "      <td>We prove a T(1) theorem for bilinear singula...</td>\n",
              "      <td>We prove a T(1) theorem for bilinear singular ...</td>\n",
              "      <td>prove theorem bilinear singular integral opera...</td>\n",
              "      <td>[0.000899394, -0.008083692, 0.07921981, -0.081...</td>\n",
              "    </tr>\n",
              "    <tr>\n",
              "      <th>27921</th>\n",
              "      <td>0710.0974</td>\n",
              "      <td>Hawking radiation in GHS and non-extremal D1-D...</td>\n",
              "      <td>We apply the method of Banerjee and Kulkarni...</td>\n",
              "      <td>We apply the method of Banerjee and Kulkarni (...</td>\n",
              "      <td>apply method banerjee kulkarni arxiv hep th pr...</td>\n",
              "      <td>[-0.00914806, 0.03786041, 0.055344414, 0.03838...</td>\n",
              "    </tr>\n",
              "    <tr>\n",
              "      <th>27922</th>\n",
              "      <td>0710.0975</td>\n",
              "      <td>Renormalisation of quark bilinears with Nf=2 W...</td>\n",
              "      <td>We present results for the renormalisation c...</td>\n",
              "      <td>We present results for the renormalisation con...</td>\n",
              "      <td>present result renormalisation constant biline...</td>\n",
              "      <td>[-0.09733039, -0.037203234, 0.016569175, 0.010...</td>\n",
              "    </tr>\n",
              "    <tr>\n",
              "      <th>27923</th>\n",
              "      <td>0710.0976</td>\n",
              "      <td>A Three Dimensional Kasteleyn Transition: Spin...</td>\n",
              "      <td>We examine the statistical mechanics of spin...</td>\n",
              "      <td>We examine the statistical mechanics of spin i...</td>\n",
              "      <td>examine statistical mechanic spin ice material...</td>\n",
              "      <td>[-0.11577471, -0.075127564, -0.04817966, 0.038...</td>\n",
              "    </tr>\n",
              "  </tbody>\n",
              "</table>\n",
              "<p>27924 rows × 6 columns</p>\n",
              "</div>"
            ],
            "text/plain": [
              "              id                                              title  \\\n",
              "0      0704.0001  Calculation of prompt diphoton production cros...   \n",
              "1      0704.0002           Sparsity-certifying Graph Decompositions   \n",
              "2      0704.0003  The evolution of the Earth-Moon system based o...   \n",
              "3      0704.0004  A determinant of Stirling cycle numbers counts...   \n",
              "4      0704.0005  From dyadic $\\Lambda_{\\alpha}$ to $\\Lambda_{\\a...   \n",
              "...          ...                                                ...   \n",
              "27919  0710.0972      A Floer homology for exact contact embeddings   \n",
              "27920  0710.0973         Modulation invariant bilinear T(1) theorem   \n",
              "27921  0710.0974  Hawking radiation in GHS and non-extremal D1-D...   \n",
              "27922  0710.0975  Renormalisation of quark bilinears with Nf=2 W...   \n",
              "27923  0710.0976  A Three Dimensional Kasteleyn Transition: Spin...   \n",
              "\n",
              "                                                abstract  \\\n",
              "0        A fully differential calculation in perturba...   \n",
              "1        We describe a new algorithm, the $(k,\\ell)$-...   \n",
              "2        The evolution of Earth-Moon system is descri...   \n",
              "3        We show that a determinant of Stirling cycle...   \n",
              "4        In this paper we show how to compute the $\\L...   \n",
              "...                                                  ...   \n",
              "27919    In this paper we construct the Floer homolog...   \n",
              "27920    We prove a T(1) theorem for bilinear singula...   \n",
              "27921    We apply the method of Banerjee and Kulkarni...   \n",
              "27922    We present results for the renormalisation c...   \n",
              "27923    We examine the statistical mechanics of spin...   \n",
              "\n",
              "                                                  limpio  \\\n",
              "0      A fully differential calculation in perturbati...   \n",
              "1      We describe a new algorithm, the  (k, ell)  pe...   \n",
              "2      The evolution of Earth Moon system is describe...   \n",
              "3      We show that a determinant of Stirling cycle n...   \n",
              "4      In this paper we show how to compute the   Lam...   \n",
              "...                                                  ...   \n",
              "27919  In this paper we construct the Floer homology ...   \n",
              "27920  We prove a T(1) theorem for bilinear singular ...   \n",
              "27921  We apply the method of Banerjee and Kulkarni (...   \n",
              "27922  We present results for the renormalisation con...   \n",
              "27923  We examine the statistical mechanics of spin i...   \n",
              "\n",
              "                                            preprocessed  \\\n",
              "0      fully differential calculation perturbative qu...   \n",
              "1      describe new algorithm k ell pebble game color...   \n",
              "2      evolution earth moon system describe the dark ...   \n",
              "3      show determinant stirling cycle number count u...   \n",
              "4      paper show compute lambda alpha norm alpha ge ...   \n",
              "...                                                  ...   \n",
              "27919  paper construct floer homology action function...   \n",
              "27920  prove theorem bilinear singular integral opera...   \n",
              "27921  apply method banerjee kulkarni arxiv hep th pr...   \n",
              "27922  present result renormalisation constant biline...   \n",
              "27923  examine statistical mechanic spin ice material...   \n",
              "\n",
              "                                              embeddings  \n",
              "0      [-0.14503951, 0.006252839, 0.01574863, 0.02344...  \n",
              "1      [0.007457821, 0.058577795, -0.014967399, -0.10...  \n",
              "2      [-0.0057581854, -0.027594136, 0.056366056, -0....  \n",
              "3      [-0.044559773, 0.018180959, -0.034391165, 0.02...  \n",
              "4      [-0.0045864526, 0.019537477, -0.090831034, -0....  \n",
              "...                                                  ...  \n",
              "27919  [-0.056200802, 0.006618591, 0.0074252724, -0.0...  \n",
              "27920  [0.000899394, -0.008083692, 0.07921981, -0.081...  \n",
              "27921  [-0.00914806, 0.03786041, 0.055344414, 0.03838...  \n",
              "27922  [-0.09733039, -0.037203234, 0.016569175, 0.010...  \n",
              "27923  [-0.11577471, -0.075127564, -0.04817966, 0.038...  \n",
              "\n",
              "[27924 rows x 6 columns]"
            ]
          },
          "execution_count": 37,
          "metadata": {},
          "output_type": "execute_result"
        }
      ],
      "source": [
        "corpus_df"
      ]
    },
    {
      "cell_type": "code",
      "execution_count": null,
      "metadata": {},
      "outputs": [],
      "source": [
        "# se guarda para en futuro cargar el corpus y no necesitar de nuevo, preprocesar\n",
        "import joblib\n",
        "corpus_df.to_pickle(\"corpus_df.pkl\")"
      ]
    },
    {
      "cell_type": "markdown",
      "metadata": {},
      "source": [
        "Indexación en FAISS"
      ]
    },
    {
      "cell_type": "code",
      "execution_count": 10,
      "metadata": {},
      "outputs": [],
      "source": [
        "import faiss\n",
        "import numpy as np\n",
        "key=\"embeddings\""
      ]
    },
    {
      "cell_type": "code",
      "execution_count": null,
      "metadata": {},
      "outputs": [],
      "source": [
        "embedding_dim = len(corpus_df[key].values[1])\n",
        "indice = faiss.IndexFlatL2(embedding_dim) # se crea indice de FAISS"
      ]
    },
    {
      "cell_type": "code",
      "execution_count": 12,
      "metadata": {},
      "outputs": [],
      "source": [
        "# Añadir vectores al indice\n",
        "indice.add(np.vstack(corpus_df[key].values).astype(\"float32\")) # faiss usa float32"
      ]
    },
    {
      "cell_type": "code",
      "execution_count": null,
      "metadata": {},
      "outputs": [],
      "source": [
        "# recuperar con FAIIS\n",
        "\n",
        "def search_faiss(query, k=10):\n",
        "  query_preprocesada = preprocesar(query)\n",
        "  query_emb = modelo_SBERT.encode(query_preprocesada)\n",
        "  _, indices_recuperados = indice.search(query_emb.reshape(1,-1), k)\n",
        "  return indices_recuperados.flatten()\n"
      ]
    },
    {
      "cell_type": "markdown",
      "metadata": {},
      "source": [
        "### 3. Recuperación"
      ]
    },
    {
      "cell_type": "code",
      "execution_count": null,
      "metadata": {},
      "outputs": [],
      "source": [
        "# Ejemplo de recuperación\n",
        "query = \"hilltop inflation models\"\n",
        "k = 10\n",
        "columnas = [\"id\", \"title\", \"limpio\"]\n",
        "\n",
        "indices_tfidf = search_tfidf(query, k=k)\n",
        "indices_bm25 = search_bm25(query,k=k)\n",
        "indices_faiss = search_faiss(query, k=k)"
      ]
    },
    {
      "cell_type": "markdown",
      "metadata": {},
      "source": [
        "TF-IDF"
      ]
    },
    {
      "cell_type": "code",
      "execution_count": 15,
      "metadata": {},
      "outputs": [
        {
          "data": {
            "text/html": [
              "<div>\n",
              "<style scoped>\n",
              "    .dataframe tbody tr th:only-of-type {\n",
              "        vertical-align: middle;\n",
              "    }\n",
              "\n",
              "    .dataframe tbody tr th {\n",
              "        vertical-align: top;\n",
              "    }\n",
              "\n",
              "    .dataframe thead th {\n",
              "        text-align: right;\n",
              "    }\n",
              "</style>\n",
              "<table border=\"1\" class=\"dataframe\">\n",
              "  <thead>\n",
              "    <tr style=\"text-align: right;\">\n",
              "      <th></th>\n",
              "      <th>id</th>\n",
              "      <th>title</th>\n",
              "      <th>limpio</th>\n",
              "    </tr>\n",
              "  </thead>\n",
              "  <tbody>\n",
              "    <tr>\n",
              "      <th>16996</th>\n",
              "      <td>0707.3826</td>\n",
              "      <td>More hilltop inflation models</td>\n",
              "      <td>Using analytic expressions, we explore the par...</td>\n",
              "    </tr>\n",
              "    <tr>\n",
              "      <th>12852</th>\n",
              "      <td>0706.4166</td>\n",
              "      <td>WMAPping the Inflationary Universe</td>\n",
              "      <td>An epoch of accelerated expansion, or inflatio...</td>\n",
              "    </tr>\n",
              "    <tr>\n",
              "      <th>11362</th>\n",
              "      <td>0706.2676</td>\n",
              "      <td>D-term chaotic inflation in supergravity</td>\n",
              "      <td>Even though the chaotic inflation is one of th...</td>\n",
              "    </tr>\n",
              "    <tr>\n",
              "      <th>24931</th>\n",
              "      <td>0709.2666</td>\n",
              "      <td>Spinflation</td>\n",
              "      <td>We study the cosmological implications of incl...</td>\n",
              "    </tr>\n",
              "    <tr>\n",
              "      <th>17137</th>\n",
              "      <td>0707.3967</td>\n",
              "      <td>Curvaton reheating allows TeV Hubble scale in ...</td>\n",
              "      <td>Curvaton reheating is studied in non oscillato...</td>\n",
              "    </tr>\n",
              "    <tr>\n",
              "      <th>10529</th>\n",
              "      <td>0706.1843</td>\n",
              "      <td>Generalized Space-time Noncommutative Inflation</td>\n",
              "      <td>We study the noncommutative inflation with a t...</td>\n",
              "    </tr>\n",
              "    <tr>\n",
              "      <th>24188</th>\n",
              "      <td>0709.1923</td>\n",
              "      <td>Can Inflation Induce Supersymmetry Breaking in...</td>\n",
              "      <td>We argue that fields responsible for inflation...</td>\n",
              "    </tr>\n",
              "    <tr>\n",
              "      <th>16641</th>\n",
              "      <td>0707.3471</td>\n",
              "      <td>Eternal Chaotic Inflation is Prohibited by Wea...</td>\n",
              "      <td>We investigate whether the eternal chaotic inf...</td>\n",
              "    </tr>\n",
              "    <tr>\n",
              "      <th>10122</th>\n",
              "      <td>0706.1436</td>\n",
              "      <td>Hybrid inflation followed by modular inflation</td>\n",
              "      <td>Inflationary models with a superheavy scale F ...</td>\n",
              "    </tr>\n",
              "    <tr>\n",
              "      <th>16520</th>\n",
              "      <td>0707.3350</td>\n",
              "      <td>New developments on embedding inflation in gau...</td>\n",
              "      <td>In this brief review we will discuss how a wel...</td>\n",
              "    </tr>\n",
              "  </tbody>\n",
              "</table>\n",
              "</div>"
            ],
            "text/plain": [
              "              id                                              title  \\\n",
              "16996  0707.3826                      More hilltop inflation models   \n",
              "12852  0706.4166                 WMAPping the Inflationary Universe   \n",
              "11362  0706.2676           D-term chaotic inflation in supergravity   \n",
              "24931  0709.2666                                        Spinflation   \n",
              "17137  0707.3967  Curvaton reheating allows TeV Hubble scale in ...   \n",
              "10529  0706.1843    Generalized Space-time Noncommutative Inflation   \n",
              "24188  0709.1923  Can Inflation Induce Supersymmetry Breaking in...   \n",
              "16641  0707.3471  Eternal Chaotic Inflation is Prohibited by Wea...   \n",
              "10122  0706.1436     Hybrid inflation followed by modular inflation   \n",
              "16520  0707.3350  New developments on embedding inflation in gau...   \n",
              "\n",
              "                                                  limpio  \n",
              "16996  Using analytic expressions, we explore the par...  \n",
              "12852  An epoch of accelerated expansion, or inflatio...  \n",
              "11362  Even though the chaotic inflation is one of th...  \n",
              "24931  We study the cosmological implications of incl...  \n",
              "17137  Curvaton reheating is studied in non oscillato...  \n",
              "10529  We study the noncommutative inflation with a t...  \n",
              "24188  We argue that fields responsible for inflation...  \n",
              "16641  We investigate whether the eternal chaotic inf...  \n",
              "10122  Inflationary models with a superheavy scale F ...  \n",
              "16520  In this brief review we will discuss how a wel...  "
            ]
          },
          "execution_count": 15,
          "metadata": {},
          "output_type": "execute_result"
        }
      ],
      "source": [
        "corpus_df.loc[indices_tfidf, columnas]"
      ]
    },
    {
      "cell_type": "markdown",
      "metadata": {},
      "source": [
        "BM25"
      ]
    },
    {
      "cell_type": "code",
      "execution_count": 24,
      "metadata": {},
      "outputs": [
        {
          "data": {
            "text/html": [
              "<div>\n",
              "<style scoped>\n",
              "    .dataframe tbody tr th:only-of-type {\n",
              "        vertical-align: middle;\n",
              "    }\n",
              "\n",
              "    .dataframe tbody tr th {\n",
              "        vertical-align: top;\n",
              "    }\n",
              "\n",
              "    .dataframe thead th {\n",
              "        text-align: right;\n",
              "    }\n",
              "</style>\n",
              "<table border=\"1\" class=\"dataframe\">\n",
              "  <thead>\n",
              "    <tr style=\"text-align: right;\">\n",
              "      <th></th>\n",
              "      <th>id</th>\n",
              "      <th>title</th>\n",
              "      <th>limpio</th>\n",
              "    </tr>\n",
              "  </thead>\n",
              "  <tbody>\n",
              "    <tr>\n",
              "      <th>16996</th>\n",
              "      <td>0707.3826</td>\n",
              "      <td>More hilltop inflation models</td>\n",
              "      <td>Using analytic expressions, we explore the par...</td>\n",
              "    </tr>\n",
              "    <tr>\n",
              "      <th>17137</th>\n",
              "      <td>0707.3967</td>\n",
              "      <td>Curvaton reheating allows TeV Hubble scale in ...</td>\n",
              "      <td>Curvaton reheating is studied in non oscillato...</td>\n",
              "    </tr>\n",
              "    <tr>\n",
              "      <th>11362</th>\n",
              "      <td>0706.2676</td>\n",
              "      <td>D-term chaotic inflation in supergravity</td>\n",
              "      <td>Even though the chaotic inflation is one of th...</td>\n",
              "    </tr>\n",
              "    <tr>\n",
              "      <th>12852</th>\n",
              "      <td>0706.4166</td>\n",
              "      <td>WMAPping the Inflationary Universe</td>\n",
              "      <td>An epoch of accelerated expansion, or inflatio...</td>\n",
              "    </tr>\n",
              "    <tr>\n",
              "      <th>10529</th>\n",
              "      <td>0706.1843</td>\n",
              "      <td>Generalized Space-time Noncommutative Inflation</td>\n",
              "      <td>We study the noncommutative inflation with a t...</td>\n",
              "    </tr>\n",
              "    <tr>\n",
              "      <th>24188</th>\n",
              "      <td>0709.1923</td>\n",
              "      <td>Can Inflation Induce Supersymmetry Breaking in...</td>\n",
              "      <td>We argue that fields responsible for inflation...</td>\n",
              "    </tr>\n",
              "    <tr>\n",
              "      <th>1025</th>\n",
              "      <td>0704.1026</td>\n",
              "      <td>The Measure for the Multiverse and the Probabi...</td>\n",
              "      <td>We investigate the measure problem in the fram...</td>\n",
              "    </tr>\n",
              "    <tr>\n",
              "      <th>211</th>\n",
              "      <td>0704.0212</td>\n",
              "      <td>Curvature and isocurvature perturbations in tw...</td>\n",
              "      <td>We study cosmological perturbations in two fie...</td>\n",
              "    </tr>\n",
              "    <tr>\n",
              "      <th>10901</th>\n",
              "      <td>0706.2215</td>\n",
              "      <td>Constraints on the spectral index for the infl...</td>\n",
              "      <td>We conjecture that the inflation models with t...</td>\n",
              "    </tr>\n",
              "    <tr>\n",
              "      <th>10122</th>\n",
              "      <td>0706.1436</td>\n",
              "      <td>Hybrid inflation followed by modular inflation</td>\n",
              "      <td>Inflationary models with a superheavy scale F ...</td>\n",
              "    </tr>\n",
              "  </tbody>\n",
              "</table>\n",
              "</div>"
            ],
            "text/plain": [
              "              id                                              title  \\\n",
              "16996  0707.3826                      More hilltop inflation models   \n",
              "17137  0707.3967  Curvaton reheating allows TeV Hubble scale in ...   \n",
              "11362  0706.2676           D-term chaotic inflation in supergravity   \n",
              "12852  0706.4166                 WMAPping the Inflationary Universe   \n",
              "10529  0706.1843    Generalized Space-time Noncommutative Inflation   \n",
              "24188  0709.1923  Can Inflation Induce Supersymmetry Breaking in...   \n",
              "1025   0704.1026  The Measure for the Multiverse and the Probabi...   \n",
              "211    0704.0212  Curvature and isocurvature perturbations in tw...   \n",
              "10901  0706.2215  Constraints on the spectral index for the infl...   \n",
              "10122  0706.1436     Hybrid inflation followed by modular inflation   \n",
              "\n",
              "                                                  limpio  \n",
              "16996  Using analytic expressions, we explore the par...  \n",
              "17137  Curvaton reheating is studied in non oscillato...  \n",
              "11362  Even though the chaotic inflation is one of th...  \n",
              "12852  An epoch of accelerated expansion, or inflatio...  \n",
              "10529  We study the noncommutative inflation with a t...  \n",
              "24188  We argue that fields responsible for inflation...  \n",
              "1025   We investigate the measure problem in the fram...  \n",
              "211    We study cosmological perturbations in two fie...  \n",
              "10901  We conjecture that the inflation models with t...  \n",
              "10122  Inflationary models with a superheavy scale F ...  "
            ]
          },
          "execution_count": 24,
          "metadata": {},
          "output_type": "execute_result"
        }
      ],
      "source": [
        "corpus_df.loc[indices_bm25, columnas]"
      ]
    },
    {
      "cell_type": "markdown",
      "metadata": {},
      "source": [
        "FAISS"
      ]
    },
    {
      "cell_type": "code",
      "execution_count": 26,
      "metadata": {},
      "outputs": [
        {
          "data": {
            "text/html": [
              "<div>\n",
              "<style scoped>\n",
              "    .dataframe tbody tr th:only-of-type {\n",
              "        vertical-align: middle;\n",
              "    }\n",
              "\n",
              "    .dataframe tbody tr th {\n",
              "        vertical-align: top;\n",
              "    }\n",
              "\n",
              "    .dataframe thead th {\n",
              "        text-align: right;\n",
              "    }\n",
              "</style>\n",
              "<table border=\"1\" class=\"dataframe\">\n",
              "  <thead>\n",
              "    <tr style=\"text-align: right;\">\n",
              "      <th></th>\n",
              "      <th>id</th>\n",
              "      <th>title</th>\n",
              "      <th>limpio</th>\n",
              "    </tr>\n",
              "  </thead>\n",
              "  <tbody>\n",
              "    <tr>\n",
              "      <th>16996</th>\n",
              "      <td>0707.3826</td>\n",
              "      <td>More hilltop inflation models</td>\n",
              "      <td>Using analytic expressions, we explore the par...</td>\n",
              "    </tr>\n",
              "    <tr>\n",
              "      <th>11189</th>\n",
              "      <td>0706.2503</td>\n",
              "      <td>New Solutions of the Inflationary Flow Equations</td>\n",
              "      <td>The inflationary flow equations are a frequent...</td>\n",
              "    </tr>\n",
              "    <tr>\n",
              "      <th>26248</th>\n",
              "      <td>0709.3983</td>\n",
              "      <td>Inflation and Unification</td>\n",
              "      <td>Two distinct classes of realistic inflationary...</td>\n",
              "    </tr>\n",
              "    <tr>\n",
              "      <th>21700</th>\n",
              "      <td>0708.3849</td>\n",
              "      <td>How much of the inflaton potential do we see?</td>\n",
              "      <td>We discuss the latest constraints on a Taylor ...</td>\n",
              "    </tr>\n",
              "    <tr>\n",
              "      <th>10122</th>\n",
              "      <td>0706.1436</td>\n",
              "      <td>Hybrid inflation followed by modular inflation</td>\n",
              "      <td>Inflationary models with a superheavy scale F ...</td>\n",
              "    </tr>\n",
              "    <tr>\n",
              "      <th>13669</th>\n",
              "      <td>0707.0499</td>\n",
              "      <td>Lovelock inflation and the number of large dim...</td>\n",
              "      <td>We discuss an inflationary scenario based on L...</td>\n",
              "    </tr>\n",
              "    <tr>\n",
              "      <th>19896</th>\n",
              "      <td>0708.2045</td>\n",
              "      <td>Sustainability of multi-field inflation and bo...</td>\n",
              "      <td>We study the effects of the interaction terms ...</td>\n",
              "    </tr>\n",
              "    <tr>\n",
              "      <th>10901</th>\n",
              "      <td>0706.2215</td>\n",
              "      <td>Constraints on the spectral index for the infl...</td>\n",
              "      <td>We conjecture that the inflation models with t...</td>\n",
              "    </tr>\n",
              "    <tr>\n",
              "      <th>26261</th>\n",
              "      <td>0709.3996</td>\n",
              "      <td>On the dynamics of a quadratic scalar field po...</td>\n",
              "      <td>We review the attractor properties of the simp...</td>\n",
              "    </tr>\n",
              "    <tr>\n",
              "      <th>16520</th>\n",
              "      <td>0707.3350</td>\n",
              "      <td>New developments on embedding inflation in gau...</td>\n",
              "      <td>In this brief review we will discuss how a wel...</td>\n",
              "    </tr>\n",
              "  </tbody>\n",
              "</table>\n",
              "</div>"
            ],
            "text/plain": [
              "              id                                              title  \\\n",
              "16996  0707.3826                      More hilltop inflation models   \n",
              "11189  0706.2503   New Solutions of the Inflationary Flow Equations   \n",
              "26248  0709.3983                          Inflation and Unification   \n",
              "21700  0708.3849      How much of the inflaton potential do we see?   \n",
              "10122  0706.1436     Hybrid inflation followed by modular inflation   \n",
              "13669  0707.0499  Lovelock inflation and the number of large dim...   \n",
              "19896  0708.2045  Sustainability of multi-field inflation and bo...   \n",
              "10901  0706.2215  Constraints on the spectral index for the infl...   \n",
              "26261  0709.3996  On the dynamics of a quadratic scalar field po...   \n",
              "16520  0707.3350  New developments on embedding inflation in gau...   \n",
              "\n",
              "                                                  limpio  \n",
              "16996  Using analytic expressions, we explore the par...  \n",
              "11189  The inflationary flow equations are a frequent...  \n",
              "26248  Two distinct classes of realistic inflationary...  \n",
              "21700  We discuss the latest constraints on a Taylor ...  \n",
              "10122  Inflationary models with a superheavy scale F ...  \n",
              "13669  We discuss an inflationary scenario based on L...  \n",
              "19896  We study the effects of the interaction terms ...  \n",
              "10901  We conjecture that the inflation models with t...  \n",
              "26261  We review the attractor properties of the simp...  \n",
              "16520  In this brief review we will discuss how a wel...  "
            ]
          },
          "execution_count": 26,
          "metadata": {},
          "output_type": "execute_result"
        }
      ],
      "source": [
        "corpus_df.loc[indices_faiss, columnas]"
      ]
    },
    {
      "cell_type": "markdown",
      "metadata": {},
      "source": [
        "### 4. RAG\n"
      ]
    },
    {
      "cell_type": "markdown",
      "metadata": {},
      "source": [
        "#### 4.1. Búsqueda y obtención de base"
      ]
    },
    {
      "cell_type": "code",
      "execution_count": null,
      "metadata": {},
      "outputs": [],
      "source": [
        "def obtener_base(query, k=10):\n",
        "    indices = search_faiss(query,k)\n",
        "    return corpus_df.loc[indices, [\"limpio\"]].values"
      ]
    },
    {
      "cell_type": "markdown",
      "metadata": {},
      "source": [
        "#### 4.2. Generación de Prompt"
      ]
    },
    {
      "cell_type": "code",
      "execution_count": 22,
      "metadata": {},
      "outputs": [],
      "source": [
        "def generar_prompt(base, query ):\n",
        "\n",
        "  return f\"\"\"Eres una aplicación de Retrieval Augmented Generation que siempre responde en español.\n",
        "\n",
        "  Debes generar una explicación clara, completa y en lenguaje natural, adecuada para ser leída en voz alta por un sistema de texto a voz.\n",
        "\n",
        "  Si la respuesta no se encuentra en el contexto proporcionado, indica con claridad que no lo sabes y no inventes información.\n",
        "\n",
        "  Contexto:\n",
        "  {base}\n",
        "\n",
        "  Pregunta:\n",
        "  El usuario desea comprender lo siguiente: {query} \"\"\""
      ]
    },
    {
      "cell_type": "markdown",
      "metadata": {},
      "source": [
        "#### 4.3. LLM"
      ]
    },
    {
      "cell_type": "code",
      "execution_count": 36,
      "metadata": {},
      "outputs": [],
      "source": [
        "from dotenv import load_dotenv\n",
        "import google.generativeai as genai \n",
        "import os\n",
        "\n",
        "# Cargar variables de entorno desde .env\n",
        "load_dotenv()\n",
        "\n",
        "# Configurar con la clave API\n",
        "genai.configure(api_key=os.getenv(\"GOOGLE_API_KEY\"))\n",
        "\n",
        "# Crear el modelo\n",
        "model = genai.GenerativeModel(\"gemini-1.5-flash\")  # o \"gemini-pro\"\n",
        "\n",
        "# Función para generar respuesta\n",
        "def generar_respuesta(prompt):\n",
        "    response = model.generate_content(prompt)\n",
        "    return response.text\n"
      ]
    },
    {
      "cell_type": "code",
      "execution_count": 19,
      "metadata": {},
      "outputs": [],
      "source": [
        "def traducir_query(query):\n",
        "    return generar_respuesta(\n",
        "        f\"\"\"Traduce la siguiente consulta al inglés, adaptándola para ser utilizada como entrada en un sistema RAG sobre artículos científicos del repositorio arXiv.\n",
        "Sintetiza lo irrelevante, conserva la intención académica y proporciona solo la traducción final, sin explicaciones ni notas.\n",
        "\n",
        "Consulta: {query}\"\"\"\n",
        "    )"
      ]
    },
    {
      "cell_type": "markdown",
      "metadata": {},
      "source": [
        "#### 4.4. Consulta"
      ]
    },
    {
      "cell_type": "code",
      "execution_count": 20,
      "metadata": {},
      "outputs": [],
      "source": [
        "def consultar(query, base_lenght=3):\n",
        "  query_traducida = traducir_query(query)\n",
        "  base = obtener_base(query_traducida,k=base_lenght)\n",
        "  prompt = generar_prompt(base,query)\n",
        "  respuesta = generar_respuesta(prompt)\n",
        "  return respuesta"
      ]
    },
    {
      "cell_type": "code",
      "execution_count": null,
      "metadata": {},
      "outputs": [
        {
          "data": {
            "text/plain": [
              "'Los textos proporcionados discuten la inflación cósmica y su relación con la Gran Unificación (GUT).  Se exploran modelos inflacionarios, incluyendo inflación híbrida con una escala superpesada y posteriormente inflación modular a una escala intermedia.  Estos modelos intentan explicar las observaciones cosmológicas actuales, particularmente el espectro de potencia de la perturbación de curvatura y el índice espectral.\\n\\nUn punto clave es la restricción en el número de \"e-foldings\" (N<sub>HI</sub>) durante la inflación híbrida, necesario para satisfacer los datos observacionales.  El rango de N<sub>HI</sub>  influye en la escala de la Gran Unificación (M<sub>GUT</sub>),  obteniéndose valores cercanos a su valor supersimétrico (aproximadamente 2.86 x 10<sup>16</sup> GeV) en el caso de la inflación híbrida estándar.  La inflación modular contribuye con e-foldings adicionales para resolver los problemas del horizonte y la planitud.\\n\\nOtro texto analiza los efectos de las interacciones entre los campos del inflatón en modelos multi-campo.  Se señala que estas interacciones pueden reducir el número total de e-foldings, limitando potencialmente la inflación a un periodo demasiado corto.  Esto, a su vez, puede imponer restricciones a la escala característica de teorías subyacentes, como la teoría de cuerdas,  limitando la escala de cuerdas a ser mayor que la escala GUT.\\n\\nFinalmente, se menciona que un modelo estándar supersimétrico de baja energía proporciona los ingredientes para una inflación exitosa,  con muchos escalares que abarcan un espacio de moduli multidimensional.  Se argumenta que la última fase de inflación podría ser impulsada por uno de los muchos moduli del Modelo Estándar supersimétrico,  proporcionando las condiciones para la bariogénesis y las perturbaciones de densidad del fondo cósmico de microondas.  Se sugiere además que algunos ingredientes de la inflación podrían ser probados en el LHC.\\n\\nEn resumen, los textos conectan modelos inflacionarios específicos con la escala de la Gran Unificación, mostrando cómo los parámetros de la inflación (como N<sub>HI</sub>) influyen en el valor de M<sub>GUT</sub>  y cómo las interacciones en modelos multi-campo pueden imponer restricciones en escalas de energía aún mayores, como la escala de la teoría de cuerdas.  La conexión entre la inflación y la física de altas energías, como la GUT y la teoría de cuerdas, es un tema central de estos estudios.\\n'"
            ]
          },
          "execution_count": 24,
          "metadata": {},
          "output_type": "execute_result"
        }
      ],
      "source": [
        "# Ejemplo\n",
        "consultar(\"Inflation and Unification\")"
      ]
    },
    {
      "cell_type": "markdown",
      "metadata": {},
      "source": [
        "#### 4.5. RAG "
      ]
    },
    {
      "cell_type": "code",
      "execution_count": null,
      "metadata": {},
      "outputs": [
        {
          "data": {
            "text/plain": [
              "array([['We argue that the critical behaviour near the point of   gradient catastrophe\" of the solution to the Cauchy problem for the focusing nonlinear Schr \"odinger equation   i epsilon  psi t   frac  epsilon 2 2 psi  xx     psi  2  psi  0  with analytic initial data of the form   psi(x,0; epsilon)  A(x) e   frac i   epsilon  S(x)   is approximately described by a particular solution to the Painlev \\'e I equation.'],\n",
              "       ['The microwave phonon stimulated emission (SE) has been experimentally and numerically investigated in a nonautonomous microwave acoustic quantum generator, called also microwave phonon laser or phaser (see previous works arXiv:cond mat 0303188 ; arXiv:cond mat 0402640 ; arXiv:nlin.CG 0703050) Phenomena of branching and long time refractority (absence of the reaction on the external pulses) for deterministic chaotic and regular processes of SE were observed in experiments with various levels of electromagnetic pumping. At the pumping level growth, the clearly depined increasing of the number of coexisting SE states has been observed both in real physical experiments and in computer simulations. This confirms the analytical estimations of the branching density in the phase space. The nature of the refractority of SE pulses is closely connected with the pointed branching and reflects the crises of strange attractors, i.e. their collisions with unstable periodic components of the higher branches of SE states in the nonautonomous microwave phonon laser.'],\n",
              "       ['Some multipartite quantum states can be generated in a sequential manner which may be implemented by various physical setups like microwave and optical cavity QED, trapped ions, and quantum dots etc. We analyze the general N to M qubits Universal Quantum Cloning Machine (UQCM) within a sequential generation scheme. We show that the N to M sequential UQCM is available. The case of d level quantum states sequential cloning is also presented.'],\n",
              "       ['We report a new effect of surfactants in pinning a drop contact line, specifically that lysozyme promotes while lauryl sulfate inhibits pinning. We explain the pinning disparity assuming difference in wetting: the protein laden drop wets a \"clean\" surface and the surfactant laden drop wets an auto precursored surface.'],\n",
              "       ['In their recent paper, Campana et al. (2007) found that 5 bursts, among those detected by Swift, are outliers with respect to the E peak E gamma (\"Ghirlanda\") correlation. We instead argue that they are not.']],\n",
              "      dtype=object)"
            ]
          },
          "execution_count": 28,
          "metadata": {},
          "output_type": "execute_result"
        }
      ],
      "source": [
        "# Texto para sacar preguntas \n",
        "corpus_df.loc[[500,122,322,433,233], [\"limpio\"]].values"
      ]
    },
    {
      "cell_type": "code",
      "execution_count": null,
      "metadata": {},
      "outputs": [
        {
          "data": {
            "text/markdown": [
              "**Pregunta:** ¿Qué ecuación describe el comportamiento cerca del punto de catástrofe de gradiente en el problema de Cauchy?  **Respuesta:** Según el texto proporcionado, el comportamiento cercano al punto de \"catástrofe de gradiente\" de la solución al problema de Cauchy para la ecuación de Schrödinger no lineal con enfoque se describe aproximadamente mediante una solución particular a la **ecuación de Painlevé I**.\n"
            ],
            "text/plain": [
              "<IPython.core.display.Markdown object>"
            ]
          },
          "metadata": {},
          "output_type": "display_data"
        },
        {
          "data": {
            "text/markdown": [
              "**Pregunta:** ¿Qué se observó en los experimentos con el láser de fonones de microondas respecto a los estados de emisión?  **Respuesta:** En los experimentos con el láser de fonones de microondas, se observó un aumento en el número de estados de emisión estimulada (SE) coexistentes a medida que aumentaba el nivel de bombeo electromagnético.  Este incremento se observó tanto en experimentos físicos reales como en simulaciones por computadora, confirmando estimaciones analíticas de la densidad de ramificación en el espacio de fase.  Además, se observaron fenómenos de ramificación y refractariedad a largo plazo (ausencia de reacción a los pulsos externos) para procesos caóticos y regulares de SE,  relacionados con las crisis de atractores extraños y sus colisiones con componentes periódicos inestables de las ramas superiores de los estados SE.\n"
            ],
            "text/plain": [
              "<IPython.core.display.Markdown object>"
            ]
          },
          "metadata": {},
          "output_type": "display_data"
        },
        {
          "data": {
            "text/markdown": [
              "**Pregunta:** ¿Qué tipo de clonación cuántica se puede implementar de forma secuencial?  **Respuesta:** Según los textos proporcionados, la clonación cuántica que se puede implementar de forma secuencial es la **Máquina Universal de Clonación Cuántica (UQCM) de N a M qubits**.  El texto también menciona que se ha demostrado la disponibilidad de este tipo de clonación secuencial para estados cuánticos de d niveles.\n"
            ],
            "text/plain": [
              "<IPython.core.display.Markdown object>"
            ]
          },
          "metadata": {},
          "output_type": "display_data"
        },
        {
          "data": {
            "text/markdown": [
              "**Pregunta:** ¿Qué efecto tienen la lisozima y el lauril sulfato sobre la línea de contacto de una gota?  **Respuesta:** La lisozima promueve el anclaje de la línea de contacto de una gota, mientras que el lauril sulfato lo inhibe.  Esta diferencia se explica por las variaciones en la humectación: la gota con lisozima moja una superficie \"limpia\", mientras que la gota con lauril sulfato moja una superficie precursora.\n"
            ],
            "text/plain": [
              "<IPython.core.display.Markdown object>"
            ]
          },
          "metadata": {},
          "output_type": "display_data"
        },
        {
          "data": {
            "text/markdown": [
              "**Pregunta:** ¿Qué opinión se presenta sobre los estallidos que parecen no cumplir la correlación E_peak - E_gamma?  **Respuesta:** Lo siento, pero la información proporcionada no contiene ninguna opinión sobre estallidos que parecen no cumplir la correlación E_peak - E_gamma.  El texto describe características de un estallido de rayos gamma específico (GRB 060418) y discute  la determinación del factor de Lorentz inicial y la estimación del corrimiento al rojo, pero no menciona ninguna discrepancia o opinión sobre una correlación E_peak - E_gamma.\n"
            ],
            "text/plain": [
              "<IPython.core.display.Markdown object>"
            ]
          },
          "metadata": {},
          "output_type": "display_data"
        }
      ],
      "source": [
        "# Respuestas para las consultas\n",
        "\n",
        "from IPython.display import Markdown, display, Image\n",
        "\n",
        "queries = [\n",
        "    \"¿Qué ecuación describe el comportamiento cerca del punto de catástrofe de gradiente en el problema de Cauchy?\",\n",
        "    \"¿Qué se observó en los experimentos con el láser de fonones de microondas respecto a los estados de emisión?\",\n",
        "    \"¿Qué tipo de clonación cuántica se puede implementar de forma secuencial?\",\n",
        "    \"¿Qué efecto tienen la lisozima y el lauril sulfato sobre la línea de contacto de una gota?\",\n",
        "    \"¿Qué opinión se presenta sobre los estallidos que parecen no cumplir la correlación E_peak - E_gamma?\"\n",
        "]\n",
        "\n",
        "respuestas = []\n",
        "for query in queries:\n",
        "  respuesta =  consultar(query)\n",
        "  respuestas.append(respuesta)\n",
        "  display(Markdown(f\"**Pregunta:** {query}  **Respuesta:** {respuesta}\"))"
      ]
    },
    {
      "cell_type": "markdown",
      "metadata": {},
      "source": [
        "### 5. Evaluación"
      ]
    },
    {
      "cell_type": "markdown",
      "metadata": {},
      "source": [
        "#### 5.1. Comparar resultados de TF–IDF, BM25 y FAISS"
      ]
    },
    {
      "cell_type": "code",
      "execution_count": 26,
      "metadata": {},
      "outputs": [
        {
          "data": {
            "text/html": [
              "<div>\n",
              "<style scoped>\n",
              "    .dataframe tbody tr th:only-of-type {\n",
              "        vertical-align: middle;\n",
              "    }\n",
              "\n",
              "    .dataframe tbody tr th {\n",
              "        vertical-align: top;\n",
              "    }\n",
              "\n",
              "    .dataframe thead th {\n",
              "        text-align: right;\n",
              "    }\n",
              "</style>\n",
              "<table border=\"1\" class=\"dataframe\">\n",
              "  <thead>\n",
              "    <tr style=\"text-align: right;\">\n",
              "      <th></th>\n",
              "      <th>tfidf</th>\n",
              "      <th>bm25</th>\n",
              "      <th>faiss</th>\n",
              "    </tr>\n",
              "  </thead>\n",
              "  <tbody>\n",
              "    <tr>\n",
              "      <th>0</th>\n",
              "      <td>[2976, 19725, 16773, 9957, 21680, 5180, 24849,...</td>\n",
              "      <td>[21680, 9957, 13999, 16773, 27916, 24179, 3839...</td>\n",
              "      <td>[25451, 14972, 500, 2363, 11985, 15892, 25780,...</td>\n",
              "    </tr>\n",
              "    <tr>\n",
              "      <th>1</th>\n",
              "      <td>[9957, 21680, 16773, 5180, 13999, 24849, 14006...</td>\n",
              "      <td>[9957, 21680, 13999, 24849, 12917, 24179, 1400...</td>\n",
              "      <td>[27737, 14985, 19067, 7379, 14983, 2654, 24495...</td>\n",
              "    </tr>\n",
              "    <tr>\n",
              "      <th>2</th>\n",
              "      <td>[9957, 5180, 21680, 27062, 20122, 16773, 13999...</td>\n",
              "      <td>[9957, 25780, 13999, 21680, 20122, 17030, 1291...</td>\n",
              "      <td>[2363, 23876, 17030, 24179, 7425, 5307, 3247, ...</td>\n",
              "    </tr>\n",
              "    <tr>\n",
              "      <th>3</th>\n",
              "      <td>[8116, 9957, 6824, 13999, 21680, 17030, 22664,...</td>\n",
              "      <td>[9957, 13999, 21680, 17030, 2363, 24849, 24179...</td>\n",
              "      <td>[4614, 1615, 25802, 9072, 10585, 5432, 14143, ...</td>\n",
              "    </tr>\n",
              "    <tr>\n",
              "      <th>4</th>\n",
              "      <td>[9957, 25780, 21680, 25498, 8116, 20122, 8477,...</td>\n",
              "      <td>[9957, 13999, 21680, 17030, 5765, 25780, 6759,...</td>\n",
              "      <td>[233, 8642, 18680, 26567, 25922, 3532, 21708, ...</td>\n",
              "    </tr>\n",
              "  </tbody>\n",
              "</table>\n",
              "</div>"
            ],
            "text/plain": [
              "                                               tfidf  \\\n",
              "0  [2976, 19725, 16773, 9957, 21680, 5180, 24849,...   \n",
              "1  [9957, 21680, 16773, 5180, 13999, 24849, 14006...   \n",
              "2  [9957, 5180, 21680, 27062, 20122, 16773, 13999...   \n",
              "3  [8116, 9957, 6824, 13999, 21680, 17030, 22664,...   \n",
              "4  [9957, 25780, 21680, 25498, 8116, 20122, 8477,...   \n",
              "\n",
              "                                                bm25  \\\n",
              "0  [21680, 9957, 13999, 16773, 27916, 24179, 3839...   \n",
              "1  [9957, 21680, 13999, 24849, 12917, 24179, 1400...   \n",
              "2  [9957, 25780, 13999, 21680, 20122, 17030, 1291...   \n",
              "3  [9957, 13999, 21680, 17030, 2363, 24849, 24179...   \n",
              "4  [9957, 13999, 21680, 17030, 5765, 25780, 6759,...   \n",
              "\n",
              "                                               faiss  \n",
              "0  [25451, 14972, 500, 2363, 11985, 15892, 25780,...  \n",
              "1  [27737, 14985, 19067, 7379, 14983, 2654, 24495...  \n",
              "2  [2363, 23876, 17030, 24179, 7425, 5307, 3247, ...  \n",
              "3  [4614, 1615, 25802, 9072, 10585, 5432, 14143, ...  \n",
              "4  [233, 8642, 18680, 26567, 25922, 3532, 21708, ...  "
            ]
          },
          "execution_count": 26,
          "metadata": {},
          "output_type": "execute_result"
        }
      ],
      "source": [
        "resultados = pd.DataFrame({\n",
        "    \"tfidf\": [search_tfidf(query, k=10) for query in queries],\n",
        "    \"bm25\": [search_bm25(query, k=10) for query in queries],\n",
        "    \"faiss\": [search_faiss(query, k=10) for query in queries]\n",
        "})\n",
        "resultados"
      ]
    },
    {
      "cell_type": "markdown",
      "metadata": {},
      "source": [
        "¿Cuáles documentos aparecén en común?"
      ]
    },
    {
      "cell_type": "code",
      "execution_count": 27,
      "metadata": {},
      "outputs": [
        {
          "data": {
            "text/html": [
              "<div>\n",
              "<style scoped>\n",
              "    .dataframe tbody tr th:only-of-type {\n",
              "        vertical-align: middle;\n",
              "    }\n",
              "\n",
              "    .dataframe tbody tr th {\n",
              "        vertical-align: top;\n",
              "    }\n",
              "\n",
              "    .dataframe thead th {\n",
              "        text-align: right;\n",
              "    }\n",
              "</style>\n",
              "<table border=\"1\" class=\"dataframe\">\n",
              "  <thead>\n",
              "    <tr style=\"text-align: right;\">\n",
              "      <th></th>\n",
              "      <th>tfidf_bm25</th>\n",
              "      <th>tfidf_faiss</th>\n",
              "      <th>bm25_faiss</th>\n",
              "      <th>tfidf_bm25_faiss</th>\n",
              "    </tr>\n",
              "  </thead>\n",
              "  <tbody>\n",
              "    <tr>\n",
              "      <th>0</th>\n",
              "      <td>[9957, 16773, 21680, 14006, 27004]</td>\n",
              "      <td>[]</td>\n",
              "      <td>[24179]</td>\n",
              "      <td>[]</td>\n",
              "    </tr>\n",
              "    <tr>\n",
              "      <th>1</th>\n",
              "      <td>[9957, 13999, 21680, 24849, 14006]</td>\n",
              "      <td>[]</td>\n",
              "      <td>[]</td>\n",
              "      <td>[]</td>\n",
              "    </tr>\n",
              "    <tr>\n",
              "      <th>2</th>\n",
              "      <td>[9957, 17030, 13999, 21680, 25780, 20122]</td>\n",
              "      <td>[17030]</td>\n",
              "      <td>[17030]</td>\n",
              "      <td>[17030]</td>\n",
              "    </tr>\n",
              "    <tr>\n",
              "      <th>3</th>\n",
              "      <td>[9957, 17030, 16773, 13999, 21680, 24849, 22301]</td>\n",
              "      <td>[]</td>\n",
              "      <td>[]</td>\n",
              "      <td>[]</td>\n",
              "    </tr>\n",
              "    <tr>\n",
              "      <th>4</th>\n",
              "      <td>[21680, 25780, 9957]</td>\n",
              "      <td>[]</td>\n",
              "      <td>[]</td>\n",
              "      <td>[]</td>\n",
              "    </tr>\n",
              "  </tbody>\n",
              "</table>\n",
              "</div>"
            ],
            "text/plain": [
              "                                         tfidf_bm25 tfidf_faiss bm25_faiss  \\\n",
              "0                [9957, 16773, 21680, 14006, 27004]          []    [24179]   \n",
              "1                [9957, 13999, 21680, 24849, 14006]          []         []   \n",
              "2         [9957, 17030, 13999, 21680, 25780, 20122]     [17030]    [17030]   \n",
              "3  [9957, 17030, 16773, 13999, 21680, 24849, 22301]          []         []   \n",
              "4                              [21680, 25780, 9957]          []         []   \n",
              "\n",
              "  tfidf_bm25_faiss  \n",
              "0               []  \n",
              "1               []  \n",
              "2          [17030]  \n",
              "3               []  \n",
              "4               []  "
            ]
          },
          "execution_count": 27,
          "metadata": {},
          "output_type": "execute_result"
        }
      ],
      "source": [
        "def obtener_interseccion (a,b):\n",
        "    return list(set(a) & set(b))\n",
        "\n",
        "comparacion = pd.DataFrame()\n",
        "comparacion[\"tfidf_bm25\"] = resultados.apply(lambda x: obtener_interseccion(x[\"tfidf\"], x[\"bm25\"]), axis=1)\n",
        "comparacion[\"tfidf_faiss\"] = resultados.apply(lambda x: obtener_interseccion(x[\"tfidf\"], x[\"faiss\"]), axis=1)\n",
        "comparacion[\"bm25_faiss\"] = resultados.apply(lambda x: obtener_interseccion(x[\"bm25\"], x[\"faiss\"]), axis=1)\n",
        "comparacion[\"tfidf_bm25_faiss\"] = comparacion.apply(lambda x: obtener_interseccion(x[\"tfidf_bm25\"], x[\"bm25_faiss\"]), axis=1)\n",
        "comparacion"
      ]
    },
    {
      "cell_type": "markdown",
      "metadata": {},
      "source": [
        "¿Qué diferencias hay en el ordenamiento?"
      ]
    },
    {
      "cell_type": "code",
      "execution_count": 57,
      "metadata": {},
      "outputs": [
        {
          "name": "stdout",
          "output_type": "stream",
          "text": [
            "[array([ 9957,  5180, 21680, 27062, 20122, 16773, 13999, 25780, 17030,\n",
            "        24849])\n",
            " array([ 9957, 25780, 13999, 21680, 20122, 17030, 12917, 20362, 21832,\n",
            "        24973])\n",
            " array([ 2363, 23876, 17030, 24179,  7425,  5307,  3247,  6524, 21560,\n",
            "        18728])                                                       ]\n"
          ]
        }
      ],
      "source": [
        "# Tomemos cómo ejemplo la consulta 2\n",
        "print(resultados.loc[2].values)"
      ]
    },
    {
      "cell_type": "markdown",
      "metadata": {},
      "source": [
        "Es visible que el ordenamiento es bastante similar entre TF-IDF y BM25, existiendo varios documentos en posiciones similares. Por otra parte, la recuperación usando un índice de FAISS tiene casi una nula interacción con los otros modelos. En este caso, ninguno recupero el documento que fue usado para crear la pregunta, siendo este el documento con índice 233. "
      ]
    },
    {
      "cell_type": "markdown",
      "metadata": {},
      "source": [
        "#### 5.2. Medir similitud entre rankings contando cuántos documentos del top-10 coinciden"
      ]
    },
    {
      "cell_type": "code",
      "execution_count": 32,
      "metadata": {},
      "outputs": [
        {
          "data": {
            "text/html": [
              "<div>\n",
              "<style scoped>\n",
              "    .dataframe tbody tr th:only-of-type {\n",
              "        vertical-align: middle;\n",
              "    }\n",
              "\n",
              "    .dataframe tbody tr th {\n",
              "        vertical-align: top;\n",
              "    }\n",
              "\n",
              "    .dataframe thead th {\n",
              "        text-align: right;\n",
              "    }\n",
              "</style>\n",
              "<table border=\"1\" class=\"dataframe\">\n",
              "  <thead>\n",
              "    <tr style=\"text-align: right;\">\n",
              "      <th></th>\n",
              "      <th>tfidf_bm25</th>\n",
              "      <th>tfidf_faiss</th>\n",
              "      <th>bm25_faiss</th>\n",
              "      <th>tfidf_bm25_faiss</th>\n",
              "    </tr>\n",
              "  </thead>\n",
              "  <tbody>\n",
              "    <tr>\n",
              "      <th>0</th>\n",
              "      <td>5</td>\n",
              "      <td>0</td>\n",
              "      <td>1</td>\n",
              "      <td>0</td>\n",
              "    </tr>\n",
              "    <tr>\n",
              "      <th>1</th>\n",
              "      <td>5</td>\n",
              "      <td>0</td>\n",
              "      <td>0</td>\n",
              "      <td>0</td>\n",
              "    </tr>\n",
              "    <tr>\n",
              "      <th>2</th>\n",
              "      <td>6</td>\n",
              "      <td>1</td>\n",
              "      <td>1</td>\n",
              "      <td>1</td>\n",
              "    </tr>\n",
              "    <tr>\n",
              "      <th>3</th>\n",
              "      <td>7</td>\n",
              "      <td>0</td>\n",
              "      <td>0</td>\n",
              "      <td>0</td>\n",
              "    </tr>\n",
              "    <tr>\n",
              "      <th>4</th>\n",
              "      <td>3</td>\n",
              "      <td>0</td>\n",
              "      <td>0</td>\n",
              "      <td>0</td>\n",
              "    </tr>\n",
              "  </tbody>\n",
              "</table>\n",
              "</div>"
            ],
            "text/plain": [
              "   tfidf_bm25  tfidf_faiss  bm25_faiss  tfidf_bm25_faiss\n",
              "0           5            0           1                 0\n",
              "1           5            0           0                 0\n",
              "2           6            1           1                 1\n",
              "3           7            0           0                 0\n",
              "4           3            0           0                 0"
            ]
          },
          "execution_count": 32,
          "metadata": {},
          "output_type": "execute_result"
        }
      ],
      "source": [
        "comparacion.map(len)"
      ]
    },
    {
      "cell_type": "markdown",
      "metadata": {},
      "source": [
        "#### 5.3. Analizar la respuesta generada con RAG: verificar si usa la información recuperada y si responde coherentemente a la consulta."
      ]
    },
    {
      "cell_type": "code",
      "execution_count": 34,
      "metadata": {},
      "outputs": [
        {
          "data": {
            "text/html": [
              "<div>\n",
              "<style scoped>\n",
              "    .dataframe tbody tr th:only-of-type {\n",
              "        vertical-align: middle;\n",
              "    }\n",
              "\n",
              "    .dataframe tbody tr th {\n",
              "        vertical-align: top;\n",
              "    }\n",
              "\n",
              "    .dataframe thead th {\n",
              "        text-align: right;\n",
              "    }\n",
              "</style>\n",
              "<table border=\"1\" class=\"dataframe\">\n",
              "  <thead>\n",
              "    <tr style=\"text-align: right;\">\n",
              "      <th></th>\n",
              "      <th>query</th>\n",
              "      <th>base</th>\n",
              "      <th>respuesta</th>\n",
              "    </tr>\n",
              "  </thead>\n",
              "  <tbody>\n",
              "    <tr>\n",
              "      <th>500</th>\n",
              "      <td>¿Qué ecuación describe el comportamiento cerca...</td>\n",
              "      <td>We argue that the critical behaviour near the ...</td>\n",
              "      <td>Según el texto proporcionado, el comportamient...</td>\n",
              "    </tr>\n",
              "    <tr>\n",
              "      <th>122</th>\n",
              "      <td>¿Qué se observó en los experimentos con el lás...</td>\n",
              "      <td>The microwave phonon stimulated emission (SE) ...</td>\n",
              "      <td>En los experimentos con el láser de fonones de...</td>\n",
              "    </tr>\n",
              "    <tr>\n",
              "      <th>322</th>\n",
              "      <td>¿Qué tipo de clonación cuántica se puede imple...</td>\n",
              "      <td>Some multipartite quantum states can be genera...</td>\n",
              "      <td>Según los textos proporcionados, la clonación ...</td>\n",
              "    </tr>\n",
              "    <tr>\n",
              "      <th>433</th>\n",
              "      <td>¿Qué efecto tienen la lisozima y el lauril sul...</td>\n",
              "      <td>We report a new effect of surfactants in pinni...</td>\n",
              "      <td>La lisozima promueve el anclaje de la línea de...</td>\n",
              "    </tr>\n",
              "    <tr>\n",
              "      <th>233</th>\n",
              "      <td>¿Qué opinión se presenta sobre los estallidos ...</td>\n",
              "      <td>In their recent paper, Campana et al. (2007) f...</td>\n",
              "      <td>Lo siento, pero la información proporcionada n...</td>\n",
              "    </tr>\n",
              "  </tbody>\n",
              "</table>\n",
              "</div>"
            ],
            "text/plain": [
              "                                                 query  \\\n",
              "500  ¿Qué ecuación describe el comportamiento cerca...   \n",
              "122  ¿Qué se observó en los experimentos con el lás...   \n",
              "322  ¿Qué tipo de clonación cuántica se puede imple...   \n",
              "433  ¿Qué efecto tienen la lisozima y el lauril sul...   \n",
              "233  ¿Qué opinión se presenta sobre los estallidos ...   \n",
              "\n",
              "                                                  base  \\\n",
              "500  We argue that the critical behaviour near the ...   \n",
              "122  The microwave phonon stimulated emission (SE) ...   \n",
              "322  Some multipartite quantum states can be genera...   \n",
              "433  We report a new effect of surfactants in pinni...   \n",
              "233  In their recent paper, Campana et al. (2007) f...   \n",
              "\n",
              "                                             respuesta  \n",
              "500  Según el texto proporcionado, el comportamient...  \n",
              "122  En los experimentos con el láser de fonones de...  \n",
              "322  Según los textos proporcionados, la clonación ...  \n",
              "433  La lisozima promueve el anclaje de la línea de...  \n",
              "233  Lo siento, pero la información proporcionada n...  "
            ]
          },
          "execution_count": 34,
          "metadata": {},
          "output_type": "execute_result"
        }
      ],
      "source": [
        "base_respuesta = pd.DataFrame({\n",
        "    \"query\": queries,\n",
        "    \"base\": corpus_df.loc[[500,122,322,433,233], \"limpio\"],\n",
        "    \"respuesta\": respuestas\n",
        "})\n",
        "base_respuesta"
      ]
    },
    {
      "cell_type": "code",
      "execution_count": 35,
      "metadata": {},
      "outputs": [
        {
          "data": {
            "text/plain": [
              "array([['¿Qué ecuación describe el comportamiento cerca del punto de catástrofe de gradiente en el problema de Cauchy?',\n",
              "        'We argue that the critical behaviour near the point of   gradient catastrophe\" of the solution to the Cauchy problem for the focusing nonlinear Schr \"odinger equation   i epsilon  psi t   frac  epsilon 2 2 psi  xx     psi  2  psi  0  with analytic initial data of the form   psi(x,0; epsilon)  A(x) e   frac i   epsilon  S(x)   is approximately described by a particular solution to the Painlev \\'e I equation.',\n",
              "        'Según el texto proporcionado, el comportamiento cercano al punto de \"catástrofe de gradiente\" de la solución al problema de Cauchy para la ecuación de Schrödinger no lineal con enfoque se describe aproximadamente mediante una solución particular a la **ecuación de Painlevé I**.\\n'],\n",
              "       ['¿Qué se observó en los experimentos con el láser de fonones de microondas respecto a los estados de emisión?',\n",
              "        'The microwave phonon stimulated emission (SE) has been experimentally and numerically investigated in a nonautonomous microwave acoustic quantum generator, called also microwave phonon laser or phaser (see previous works arXiv:cond mat 0303188 ; arXiv:cond mat 0402640 ; arXiv:nlin.CG 0703050) Phenomena of branching and long time refractority (absence of the reaction on the external pulses) for deterministic chaotic and regular processes of SE were observed in experiments with various levels of electromagnetic pumping. At the pumping level growth, the clearly depined increasing of the number of coexisting SE states has been observed both in real physical experiments and in computer simulations. This confirms the analytical estimations of the branching density in the phase space. The nature of the refractority of SE pulses is closely connected with the pointed branching and reflects the crises of strange attractors, i.e. their collisions with unstable periodic components of the higher branches of SE states in the nonautonomous microwave phonon laser.',\n",
              "        'En los experimentos con el láser de fonones de microondas, se observó un aumento en el número de estados de emisión estimulada (SE) coexistentes a medida que aumentaba el nivel de bombeo electromagnético.  Este incremento se observó tanto en experimentos físicos reales como en simulaciones por computadora, confirmando estimaciones analíticas de la densidad de ramificación en el espacio de fase.  Además, se observaron fenómenos de ramificación y refractariedad a largo plazo (ausencia de reacción a los pulsos externos) para procesos caóticos y regulares de SE,  relacionados con las crisis de atractores extraños y sus colisiones con componentes periódicos inestables de las ramas superiores de los estados SE.\\n'],\n",
              "       ['¿Qué tipo de clonación cuántica se puede implementar de forma secuencial?',\n",
              "        'Some multipartite quantum states can be generated in a sequential manner which may be implemented by various physical setups like microwave and optical cavity QED, trapped ions, and quantum dots etc. We analyze the general N to M qubits Universal Quantum Cloning Machine (UQCM) within a sequential generation scheme. We show that the N to M sequential UQCM is available. The case of d level quantum states sequential cloning is also presented.',\n",
              "        'Según los textos proporcionados, la clonación cuántica que se puede implementar de forma secuencial es la **Máquina Universal de Clonación Cuántica (UQCM) de N a M qubits**.  El texto también menciona que se ha demostrado la disponibilidad de este tipo de clonación secuencial para estados cuánticos de d niveles.\\n'],\n",
              "       ['¿Qué efecto tienen la lisozima y el lauril sulfato sobre la línea de contacto de una gota?',\n",
              "        'We report a new effect of surfactants in pinning a drop contact line, specifically that lysozyme promotes while lauryl sulfate inhibits pinning. We explain the pinning disparity assuming difference in wetting: the protein laden drop wets a \"clean\" surface and the surfactant laden drop wets an auto precursored surface.',\n",
              "        'La lisozima promueve el anclaje de la línea de contacto de una gota, mientras que el lauril sulfato lo inhibe.  Esta diferencia se explica por las variaciones en la humectación: la gota con lisozima moja una superficie \"limpia\", mientras que la gota con lauril sulfato moja una superficie precursora.\\n'],\n",
              "       ['¿Qué opinión se presenta sobre los estallidos que parecen no cumplir la correlación E_peak - E_gamma?',\n",
              "        'In their recent paper, Campana et al. (2007) found that 5 bursts, among those detected by Swift, are outliers with respect to the E peak E gamma (\"Ghirlanda\") correlation. We instead argue that they are not.',\n",
              "        'Lo siento, pero la información proporcionada no contiene ninguna opinión sobre estallidos que parecen no cumplir la correlación E_peak - E_gamma.  El texto describe características de un estallido de rayos gamma específico (GRB 060418) y discute  la determinación del factor de Lorentz inicial y la estimación del corrimiento al rojo, pero no menciona ninguna discrepancia o opinión sobre una correlación E_peak - E_gamma.\\n']],\n",
              "      dtype=object)"
            ]
          },
          "execution_count": 35,
          "metadata": {},
          "output_type": "execute_result"
        }
      ],
      "source": [
        "base_respuesta.values"
      ]
    },
    {
      "cell_type": "markdown",
      "metadata": {},
      "source": [
        "Tras evaluar las respuestas generadas por el sistema RAG, se concluye que la mayoría de las respuestas usan correctamente la información recuperada. Existiendo un 80% de aceptación, donde las respuestas son coherentes y precisas a las consultas planteadas, así demostrando una buena integración entre la recuperación y generación. Sin embargo, en la última pregunta no se responde adecuadamente. "
      ]
    }
  ],
  "metadata": {
    "colab": {
      "provenance": []
    },
    "kernelspec": {
      "display_name": "Python 3",
      "language": "python",
      "name": "python3"
    },
    "language_info": {
      "codemirror_mode": {
        "name": "ipython",
        "version": 3
      },
      "file_extension": ".py",
      "mimetype": "text/x-python",
      "name": "python",
      "nbconvert_exporter": "python",
      "pygments_lexer": "ipython3",
      "version": "3.13.2"
    }
  },
  "nbformat": 4,
  "nbformat_minor": 0
}
