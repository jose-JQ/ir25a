{
  "cells": [
    {
      "cell_type": "markdown",
      "metadata": {
        "id": "ODBksbdzW_aR"
      },
      "source": [
        "# Examen Final - Recuperación de Información\n",
        "**Estudiante:** José Quiros\n"
      ]
    },
    {
      "cell_type": "markdown",
      "metadata": {},
      "source": [
        "### 1. Ingesta y preprocesa un corpus de documentos científicos (subset del 1% de arXiv)"
      ]
    },
    {
      "cell_type": "code",
      "execution_count": 1,
      "metadata": {
        "id": "O0Gqc7nEWyVg"
      },
      "outputs": [
        {
          "ename": "ModuleNotFoundError",
          "evalue": "No module named 'dotenv'",
          "output_type": "error",
          "traceback": [
            "\u001b[31m---------------------------------------------------------------------------\u001b[39m",
            "\u001b[31mModuleNotFoundError\u001b[39m                       Traceback (most recent call last)",
            "\u001b[36mCell\u001b[39m\u001b[36m \u001b[39m\u001b[32mIn[1]\u001b[39m\u001b[32m, line 3\u001b[39m\n\u001b[32m      1\u001b[39m \u001b[38;5;28;01mimport\u001b[39;00m\u001b[38;5;250m \u001b[39m\u001b[34;01mos\u001b[39;00m\n\u001b[32m      2\u001b[39m \u001b[38;5;28;01mimport\u001b[39;00m\u001b[38;5;250m \u001b[39m\u001b[34;01mjson\u001b[39;00m\n\u001b[32m----> \u001b[39m\u001b[32m3\u001b[39m \u001b[38;5;28;01mfrom\u001b[39;00m\u001b[38;5;250m \u001b[39m\u001b[34;01mdotenv\u001b[39;00m\u001b[38;5;250m \u001b[39m\u001b[38;5;28;01mimport\u001b[39;00m load_dotenv\n\u001b[32m      5\u001b[39m \u001b[38;5;66;03m# Cargar variables de entorno desde el archivo .env\u001b[39;00m\n\u001b[32m      6\u001b[39m load_dotenv()\n",
            "\u001b[31mModuleNotFoundError\u001b[39m: No module named 'dotenv'"
          ]
        }
      ],
      "source": [
        "import os\n",
        "import json\n",
        "from dotenv import load_dotenv\n",
        "\n",
        "# Cargar variables de entorno desde el archivo .env\n",
        "load_dotenv()\n",
        "\n",
        "# Crear archivo kaggle.json desde variables de entorno\n",
        "kaggle_token = {\n",
        "    \"username\": os.getenv(\"KAGGLE_USERNAME\"),\n",
        "    \"key\": os.getenv(\"KAGGLE_KEY\")\n",
        "}\n",
        "\n",
        "# Crear carpeta de configuración para kaggle en /root/.kaggle/\n",
        "kaggle_path = os.path.join(os.path.expanduser(\"~\"), \".kaggle\")\n",
        "os.makedirs(kaggle_path, exist_ok=True)\n",
        "\n",
        "# Guardar kaggle.json\n",
        "with open(os.path.join(kaggle_path, \"kaggle.json\"), \"w\") as f:\n",
        "    json.dump(kaggle_token, f)\n",
        "\n",
        "# Cambiar permisos (evita errores de seguridad)\n",
        "os.chmod(os.path.join(kaggle_path, \"kaggle.json\"), 0o600)\n",
        "\n",
        "# Importar kaggle después de haber creado kaggle.json\n",
        "import kaggle\n"
      ]
    },
    {
      "cell_type": "code",
      "execution_count": null,
      "metadata": {},
      "outputs": [],
      "source": [
        "dataset = \"rajneesh231/lex-fridman-podcast-transcript\"\n",
        "path = \"../data/13langchain\"\n",
        "\n",
        "kaggle.api.dataset_download_files(dataset, path=path, unzip=True)"
      ]
    }
  ],
  "metadata": {
    "colab": {
      "provenance": []
    },
    "kernelspec": {
      "display_name": "env",
      "language": "python",
      "name": "python3"
    },
    "language_info": {
      "codemirror_mode": {
        "name": "ipython",
        "version": 3
      },
      "file_extension": ".py",
      "mimetype": "text/x-python",
      "name": "python",
      "nbconvert_exporter": "python",
      "pygments_lexer": "ipython3",
      "version": "3.13.2"
    }
  },
  "nbformat": 4,
  "nbformat_minor": 0
}
