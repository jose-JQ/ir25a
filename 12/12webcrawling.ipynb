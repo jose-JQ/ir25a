{
  "nbformat": 4,
  "nbformat_minor": 0,
  "metadata": {
    "colab": {
      "provenance": []
    },
    "kernelspec": {
      "name": "python3",
      "display_name": "Python 3"
    },
    "language_info": {
      "name": "python"
    }
  },
  "cells": [
    {
      "cell_type": "markdown",
      "source": [
        "# Ejercicio 12: Web Scraping\n",
        "\n",
        "    \n",
        "    \n"
      ],
      "metadata": {
        "id": "nUFPiJK4jZoh"
      }
    },
    {
      "cell_type": "markdown",
      "source": [
        "**Estudiante:** José Quiros\n"
      ],
      "metadata": {
        "id": "IfiGZh9O0uYO"
      }
    },
    {
      "cell_type": "markdown",
      "source": [
        "\n",
        "## Objetivo de la práctica\n",
        "\n",
        "El objetivo de este ejercicio es construir un web scraper que recoja datos de un website.\n",
        "\n",
        "### Parte 0: Planificar\n",
        "1. Identificar los datos que quieres obtener.\n",
        "2. Elegir el sitio web objetivo.\n",
        "3. Planificar la estructura del corpus.\n",
        "\n"
      ],
      "metadata": {
        "id": "DkQrrFwL0uDl"
      }
    },
    {
      "cell_type": "markdown",
      "source": [
        "1. **Datos:** título, valoración, porciones, tiempo, factores nutricionales, descripción, imagen, ingredientes, pasos.\n",
        "2. **Web:** Allrecipes.com\n",
        "  *   Partiendo de: https://www.allrecipes.com/recipe/83557/juicy-roasted-chicken/\n",
        "\n",
        "3. Usar una URL base e ir saltando a través de las recetas recomendadas para generar el corpus. A su vez, el corpus debe tener una longitud de 100 recetas y cada documento debe estar formado por los datos recuperados.\n",
        "\n",
        "\n"
      ],
      "metadata": {
        "id": "7C9e4O4Xku-2"
      }
    },
    {
      "cell_type": "markdown",
      "source": [
        "## Parte 1: Entender el sitio web objetivo\n",
        "\n",
        "- Analizar la estructura de la página web a ser analizada.\n",
        "- Identificar los elementos HTML que contienen los datos bsuscados."
      ],
      "metadata": {
        "id": "o5fNm-l9kZ8G"
      }
    },
    {
      "cell_type": "code",
      "source": [
        "# Función para recuperar el contenido de una URL, usando subprocess y almacenarlo en una cadena\n",
        "import subprocess\n",
        "from bs4 import BeautifulSoup\n",
        "def recuperar_receta(url):\n",
        "  comando_curl = [\"curl\", url]\n",
        "  resultado = subprocess.run(comando_curl, capture_output=True, text=True, check=True)\n",
        "  return resultado.stdout"
      ],
      "metadata": {
        "id": "4CDLxY9Ps-tR"
      },
      "execution_count": 1,
      "outputs": []
    },
    {
      "cell_type": "code",
      "execution_count": 2,
      "metadata": {
        "colab": {
          "base_uri": "https://localhost:8080/"
        },
        "id": "HThYJU0YdHYU",
        "outputId": "6c04ffe9-e208-48d9-8ad2-5cc27312f695"
      },
      "outputs": [
        {
          "output_type": "stream",
          "name": "stdout",
          "text": [
            "  % Total    % Received % Xferd  Average Speed   Time    Time     Time  Current\n",
            "                                 Dload  Upload   Total   Spent    Left  Speed\n",
            "100  507k    0  507k    0     0  1041k      0 --:--:-- --:--:-- --:--:-- 1040k\n"
          ]
        }
      ],
      "source": [
        "!curl https://www.allrecipes.com/recipe/221964/spicy-pbj-wings/ > pag.html"
      ]
    },
    {
      "cell_type": "code",
      "source": [
        "!wget https://www.allrecipes.com/recipe/221964/spicy-pbj-wings/"
      ],
      "metadata": {
        "colab": {
          "base_uri": "https://localhost:8080/"
        },
        "id": "OvkqoBmoeQNn",
        "outputId": "718815b9-026d-47ac-9ca5-da476ba19459"
      },
      "execution_count": 3,
      "outputs": [
        {
          "output_type": "stream",
          "name": "stdout",
          "text": [
            "--2025-07-23 21:24:06--  https://www.allrecipes.com/recipe/221964/spicy-pbj-wings/\n",
            "Resolving www.allrecipes.com (www.allrecipes.com)... 162.159.141.224, 172.66.1.220, 2606:4700:7::1d8, ...\n",
            "Connecting to www.allrecipes.com (www.allrecipes.com)|162.159.141.224|:443... connected.\n",
            "HTTP request sent, awaiting response... 460 \n",
            "2025-07-23 21:24:06 ERROR 460: (no description).\n",
            "\n"
          ]
        }
      ]
    },
    {
      "cell_type": "code",
      "source": [
        "from bs4 import BeautifulSoup\n",
        "file = \"pag.html\"\n",
        "\n",
        "with open(file, \"r\", encoding=\"utf-8\") as file:\n",
        "  html_content = file.read()\n",
        "\n",
        "print(html_content[:300])"
      ],
      "metadata": {
        "colab": {
          "base_uri": "https://localhost:8080/"
        },
        "id": "wzQvw1l1eUsf",
        "outputId": "b5e545f3-6028-4aa8-d7c4-e5aa37b61a17"
      },
      "execution_count": 7,
      "outputs": [
        {
          "output_type": "stream",
          "name": "stdout",
          "text": [
            "<!DOCTYPE html>\n",
            "<html id=\"recipeScTemplate_1-0\" class=\"comp recipeScTemplate html mntl-html no-js taxlevel-1 \" data-mm-ads-resource-version=\"2.2.20\" data-ddm-standard-video=\"true\" data-mm-video-resource-version=\"3.0.5\" data-mm-myrecipes-resource-version=\"3.1.10\" data-mantle-resource-version=\"4.2.74\"\n"
          ]
        }
      ]
    },
    {
      "cell_type": "code",
      "source": [
        "soup = BeautifulSoup(html_content, \"html.parser\")"
      ],
      "metadata": {
        "id": "18Ziy_YlgREO"
      },
      "execution_count": 5,
      "outputs": []
    },
    {
      "cell_type": "code",
      "source": [
        "# Título\n",
        "def obtener_titulo(soup):\n",
        "  return soup.find(\"meta\", {\"property\":\"og:title\"})[\"content\"]\n",
        "\n",
        "title = soup.find(\"meta\", {\"property\":\"og:title\"})[\"content\"]\n",
        "title"
      ],
      "metadata": {
        "colab": {
          "base_uri": "https://localhost:8080/",
          "height": 35
        },
        "id": "JHv4iOEbhjj8",
        "outputId": "1dcdc8a0-270a-4fff-d06e-0a87dc6e8c01"
      },
      "execution_count": 6,
      "outputs": [
        {
          "output_type": "execute_result",
          "data": {
            "text/plain": [
              "'Spicy PBJ Wings'"
            ],
            "application/vnd.google.colaboratory.intrinsic+json": {
              "type": "string"
            }
          },
          "metadata": {},
          "execution_count": 6
        }
      ]
    },
    {
      "cell_type": "code",
      "source": [
        "# Valoración\n",
        "# En la página que no tenga una valoración se agrega valor por defecto \"sin valoración\"\n",
        "def obtener_valoracion (soup):\n",
        "  item = soup.find(\"div\", {'id':\"mm-recipes-review-bar__rating_1-0\"})\n",
        "  return item.get_text(strip=True) if item else \"sin valoración\"\n",
        "\n",
        "valoracion = soup.find(\"div\", {'id':\"mm-recipes-review-bar__rating_1-0\"})\n",
        "valoracion.text"
      ],
      "metadata": {
        "colab": {
          "base_uri": "https://localhost:8080/",
          "height": 35
        },
        "id": "NkZWgYajjxp6",
        "outputId": "5eed5e91-30a5-4e38-b78b-1c93240fcb5a"
      },
      "execution_count": 10,
      "outputs": [
        {
          "output_type": "execute_result",
          "data": {
            "text/plain": [
              "'4.5'"
            ],
            "application/vnd.google.colaboratory.intrinsic+json": {
              "type": "string"
            }
          },
          "metadata": {},
          "execution_count": 10
        }
      ]
    },
    {
      "cell_type": "code",
      "source": [
        "# Porciones\n",
        "# La página puede no tener este dato, por ende, se envia por defecto una cadena vacía\n",
        "def obtener_porciones(soup):\n",
        "  servings = \"\"\n",
        "\n",
        "  for item in soup.select('div.mm-recipes-details__item'):\n",
        "    label = item.select_one('div.mm-recipes-details__label')\n",
        "    value = item.select_one('div.mm-recipes-details__value')\n",
        "\n",
        "    if label and value and \"Servings:\" in label.get_text(strip=True):\n",
        "          servings = value.get_text(strip=True)\n",
        "          break # Exit loop once servings are found\n",
        "\n",
        "  return servings\n",
        "\n",
        "\n",
        "\n",
        "items = soup.find_all('div', class_='mm-recipes-details__item')\n",
        "servings = \"\"\n",
        "for item in items:\n",
        "   label = item.find('div', class_='mm-recipes-details__label')\n",
        "   value = item.find('div', class_='mm-recipes-details__value')\n",
        "\n",
        "   if label and value and \"Servings:\" in label.text:\n",
        "        servings = value.text.strip()\n",
        "        break # Exit loop once servings are found\n",
        "\n",
        "print(f\"Porciones: {servings}\")"
      ],
      "metadata": {
        "colab": {
          "base_uri": "https://localhost:8080/"
        },
        "id": "R4uuOcISmQvz",
        "outputId": "120ba37b-3d20-49cb-c253-2240ec40efb8"
      },
      "execution_count": 9,
      "outputs": [
        {
          "output_type": "stream",
          "name": "stdout",
          "text": [
            "Porciones: 8\n"
          ]
        }
      ]
    },
    {
      "cell_type": "code",
      "source": [
        "# Tiempo total\n",
        "# La página puede no tener este dato, por ende, se envia por defecto una cadena vacía\n",
        "def obtener_tiempo(soup):\n",
        "  tiempo = \"\"\n",
        "\n",
        "  for item in soup.select('div.mm-recipes-details__item'):\n",
        "    label = item.select_one('div.mm-recipes-details__label')\n",
        "    value = item.select_one('div.mm-recipes-details__value')\n",
        "\n",
        "    if label and value and \"Total Time:\" in label.get_text(strip=True):\n",
        "          tiempo = value.get_text(strip=True)\n",
        "          break # Exit loop once servings are found\n",
        "\n",
        "  return tiempo\n",
        "\n",
        "items = soup.find_all('div', class_='mm-recipes-details__item')\n",
        "tiempo=\"\"\n",
        "for item in items:\n",
        "   label = item.find('div', class_='mm-recipes-details__label')\n",
        "   value = item.find('div', class_='mm-recipes-details__value')\n",
        "\n",
        "   if label and value and \"Total Time:\" in label.text:\n",
        "        tiempo = value.text.strip()\n",
        "        break # Exit loop once servings are found\n",
        "\n",
        "print(f\"Tiempo total: {tiempo}\")"
      ],
      "metadata": {
        "colab": {
          "base_uri": "https://localhost:8080/"
        },
        "id": "GmzJVQeeomAj",
        "outputId": "5c1e1f05-0385-486f-d3a5-a3fe18784fc6"
      },
      "execution_count": 11,
      "outputs": [
        {
          "output_type": "stream",
          "name": "stdout",
          "text": [
            "Tiempo total: 1 hr 5 mins\n"
          ]
        }
      ]
    },
    {
      "cell_type": "code",
      "source": [
        "# Factores nutricionales\n",
        "# En la página existe una lista de factores nutricionales\n",
        "def obtener_fn (soup):\n",
        "  items = soup.find_all(\"span\", class_=\"mm-recipes-nutrition-facts-label__nutrient-name mm-recipes-nutrition-facts-label__nutrient-name--has-postfix\")\n",
        "\n",
        "  return [fact.parent.get_text().replace('\\n', ' ').strip() for fact in items]\n",
        "\n",
        "fn_nutricionales = soup.find_all(\"span\", class_=\"mm-recipes-nutrition-facts-label__nutrient-name mm-recipes-nutrition-facts-label__nutrient-name--has-postfix\")\n",
        "\n",
        "for i in fn_nutricionales:\n",
        "  print(i.parent.get_text().replace('\\n', ' '))"
      ],
      "metadata": {
        "colab": {
          "base_uri": "https://localhost:8080/"
        },
        "id": "SY4wO9qcr5DI",
        "outputId": "5b3a0101-a6dd-4faa-8e5d-faba6c3ea286"
      },
      "execution_count": 14,
      "outputs": [
        {
          "output_type": "stream",
          "name": "stdout",
          "text": [
            " Total Fat 23g \n",
            " Saturated Fat 5g \n",
            " Cholesterol 60mg \n",
            " Sodium 1486mg \n",
            " Total Carbohydrate 12g \n",
            " Dietary Fiber 1g \n",
            " Total Sugars 7g \n",
            " Protein 22g \n",
            " Vitamin C 2mg \n",
            " Calcium 21mg \n",
            " Iron 1mg \n",
            " Potassium 232mg \n"
          ]
        }
      ]
    },
    {
      "cell_type": "code",
      "source": [
        "# Descripción\n",
        "# La página tiene una descripción de la receta\n",
        "def obtener_descripcion(soup):\n",
        "  return soup.find(\"p\", {'class':'article-subheading text-utility-300'}).get_text(strip=\"True\")\n",
        "\n",
        "\n",
        "resumen = soup.find(\"p\", {'class':'article-subheading text-utility-300'})\n",
        "resumen.get_text()"
      ],
      "metadata": {
        "id": "4hdJ8jp1o7mT",
        "colab": {
          "base_uri": "https://localhost:8080/",
          "height": 52
        },
        "outputId": "b5b20f7c-7896-48ce-d344-32092d9ef7ed"
      },
      "execution_count": 15,
      "outputs": [
        {
          "output_type": "execute_result",
          "data": {
            "text/plain": [
              "\"I promise you that this is no gimmick. The spicy, sticky, and peanut-based sauce base delivers a distinct chicken wing-eating experience. If you're a fan of satay, you will enjoy this approach.\""
            ],
            "application/vnd.google.colaboratory.intrinsic+json": {
              "type": "string"
            }
          },
          "metadata": {},
          "execution_count": 15
        }
      ]
    },
    {
      "cell_type": "code",
      "source": [
        "# Imagen (Existe varias posibilidades)\n",
        "# 1) exista imagen: Sacar img principal\n",
        "print (\"Caso 1\")\n",
        "html_content = recuperar_receta(\"https://www.allrecipes.com/recipe/232863/cinnamon-rubbed-chicken/\")\n",
        "soup = BeautifulSoup(html_content, \"html.parser\")\n",
        "item = soup.find(\"div\", class_=\"primary-image__media\")\n",
        "img = item.find_all(\"img\")\n",
        "print(\"Url de la imagen principal:\", img[0][\"src\"])\n",
        "\n",
        "# 2) exista video: se sacaria el poster del video\n",
        "print(\"Caso 2\")\n",
        "html_content = recuperar_receta(\"https://www.allrecipes.com/recipe/83557/juicy-roasted-chicken/\")\n",
        "soup = BeautifulSoup(html_content, \"html.parser\")\n",
        "item = soup.find(\"div\", id=\"article__primary-video-container_1-0\")\n",
        "img = item.find_all(\"video\")\n",
        "print(\"Url de la imagen del poster del video:\", img[0][\"data-poster\"])\n",
        "\n",
        "# 3) sin imagen: vacío\n",
        "print(\"Caso 3\")\n",
        "html_content = recuperar_receta(\"https://www.allrecipes.com/recipe/266313/fresh-peach-empanadas/\")\n",
        "soup = BeautifulSoup(html_content,\"html.parser\")\n",
        "\n",
        "item = soup.find(\"div\", id=\"article__primary-video-container_1-0\")\n",
        "if len(item.find_all('video')) == 0:\n",
        "  print(\"No existe imagen de video principal\")\n",
        "\n",
        "item = soup.find(\"div\", class_=\"primary-image__media\")\n",
        "if not item:\n",
        "  print (f\"No existe imagen principal\")"
      ],
      "metadata": {
        "colab": {
          "base_uri": "https://localhost:8080/"
        },
        "id": "hAz4hRMcsnHW",
        "outputId": "1761a6be-11d5-4d55-d7af-d00644738ea0"
      },
      "execution_count": 17,
      "outputs": [
        {
          "output_type": "stream",
          "name": "stdout",
          "text": [
            "Caso 1\n",
            "Url de la imagen principal: https://www.allrecipes.com/thmb/vC0OKMOj_gVP8UBNRvYXz__CRmY=/1500x0/filters:no_upscale():max_bytes(150000):strip_icc()/6696287-20b8752534d84958b7a9594df1cd20ec.jpg\n",
            "Caso 2\n",
            "Url de la imagen del poster del video: https://cdn.jwplayer.com/v2/media/EFEVNJX8/thumbnails/brDCeQqa.jpg\n",
            "Caso 3\n",
            "No existe imagen de video principal\n",
            "No existe imagen principal\n"
          ]
        }
      ]
    },
    {
      "cell_type": "code",
      "source": [
        "# se crea función para recuperar el enlace de la imagen, si no existe se envía una cadena vacía\n",
        "def obtener_url_img(soup):\n",
        "    video_container = soup.find(\"div\", id=\"article__primary-video-container_1-0\")\n",
        "    if video_container:\n",
        "        video = video_container.find(\"video\")\n",
        "        if video and video.has_attr(\"data-poster\"):\n",
        "            return video[\"data-poster\"]\n",
        "\n",
        "    image_container = soup.find(\"div\", class_=\"primary-image__media\")\n",
        "    if image_container:\n",
        "        img = image_container.find(\"img\")\n",
        "        if img and img.has_attr(\"src\"):\n",
        "            return img[\"src\"]\n",
        "\n",
        "    return \"\"\n",
        "\n",
        "html_content = recuperar_receta(\"https://www.allrecipes.com/recipe/83557/juicy-roasted-chicken/\")\n",
        "soup = BeautifulSoup(html_content, \"html.parser\")\n",
        "print(obtener_url_img(soup))"
      ],
      "metadata": {
        "id": "1YDoOop3ADWV",
        "colab": {
          "base_uri": "https://localhost:8080/"
        },
        "outputId": "efb15df8-a1d3-4905-eb60-99333c3f414d"
      },
      "execution_count": 18,
      "outputs": [
        {
          "output_type": "stream",
          "name": "stdout",
          "text": [
            "https://cdn.jwplayer.com/v2/media/EFEVNJX8/thumbnails/brDCeQqa.jpg\n"
          ]
        }
      ]
    },
    {
      "cell_type": "code",
      "source": [
        "# Ingredientes\n",
        "# En la página existe una lista de ingredientes\n",
        "def obtener_ingredientes (soup):\n",
        "  ingredients_section = soup.find_all(\"li\", class_=\"mm-recipes-structured-ingredients__list-item\")\n",
        "  return [ingrediente.get_text(strip=True) for ingrediente in ingredients_section]\n",
        "\n",
        "\n",
        "ingredients_section = soup.find_all(\"li\", class_=\"mm-recipes-structured-ingredients__list-item\")\n",
        "for ingredient in ingredients_section:\n",
        "  print(ingredient.text.strip())"
      ],
      "metadata": {
        "colab": {
          "base_uri": "https://localhost:8080/"
        },
        "id": "3o8p_ioFi6AI",
        "outputId": "2c1a1616-9672-41ba-acbd-5cfbab5833d4"
      },
      "execution_count": 19,
      "outputs": [
        {
          "output_type": "stream",
          "name": "stdout",
          "text": [
            "1 (3 pound) whole chicken, giblets removed\n",
            "salt and black pepper to taste\n",
            "1 tablespoon onion powder, or to taste\n",
            "½ cup butter\n",
            "1 stalk celery, leaves removed\n"
          ]
        }
      ]
    },
    {
      "cell_type": "code",
      "source": [
        "# Pasos\n",
        "# En la página existe una lista de pasos para la receta\n",
        "def obtener_pasos (soup):\n",
        "  items = soup.find_all(\"p\", class_=\"comp mntl-sc-block mntl-sc-block-html\")\n",
        "  return [paso.get_text(strip=True) for paso in items]\n",
        "\n",
        "\n",
        "items = soup.find_all(\"p\", class_=\"comp mntl-sc-block mntl-sc-block-html\")\n",
        "for i, item in enumerate(items):\n",
        "  print(f\"{i+1}: {item.text}\")"
      ],
      "metadata": {
        "colab": {
          "base_uri": "https://localhost:8080/"
        },
        "id": "Oc3l4zoHq49E",
        "outputId": "620024fa-bd7c-42ca-85f3-793894283866"
      },
      "execution_count": 20,
      "outputs": [
        {
          "output_type": "stream",
          "name": "stdout",
          "text": [
            "1:  Roasted chicken never fails to impress, but it's surprisingly simple to make! This juicy roasted chicken recipe is perfect for beginner cooks and old pros alike.\n",
            "\n",
            "2:  Roasting a whole chicken at home is easier than it seems. You'll find a detailed ingredient list and step-by-step instructions in the recipe below, but let's go over the basics:\n",
            "\n",
            "3:  These are the ingredients you'll need to make the juiciest roast chicken recipe of your life:\n",
            "\n",
            "4:  Here's a very brief overview of what you can expect when you make homemade roasted chicken:\n",
            "\n",
            "5:  In an oven preheated to 350 degrees F, a 3-pound whole chicken should be completely cooked in a little more than an hour. You'll know it's done when the meat is no longer pink at the bone, the juices run clear, and an instant read thermometer inserted into the thickest part of the thigh (near the bone) reads 165 degrees F.\n",
            "\n",
            "6:  \"Roasting a whole chicken at home requires almost no effort and very few ingredients,\" says culinary producer Nicole McLaughlin (a.k.a. NicoleMcMom). Here are a few of her favorite tips for perfect roasted chicken every time:\n",
            "\n",
            "7:  Looking for delicious inspiration? Explore our collection of Best Side Dishes for Chicken, No Matter How You Cook It. These are a few of the mouthwatering collections you'll find:\n",
            "\n",
            "8:  Allow your leftover roast chicken to cool completely, then store it in an airtight container in the refrigerator for up to four days. Reheat thoroughly in the oven or in the microwave.\n",
            "\n",
            "9:  \"The chicken had a very nice flavor and was very juicy and tender,\" says OT. \"The only thing I changed is using two stalks of celery instead of one. I'm definitely going to make this chicken again and I may add garlic and thyme next time.\"\n",
            "\n",
            "10:  \"The family LOVES it — it's always juicy and tender,\" raves another Allrecipes community member. \"The gravy from the drippings is perfect. It's become part of the regular rotation.\"\n",
            "\n",
            "11:  \"I made some changes, but this is my favorite way to make chicken,\" says kitty28806. \"I add butter under the skin mixed with seasoning. Comes out perfectly.\"\n",
            "\n",
            "12:  Editorial contributions by Corey Williams.\n",
            "\n",
            "13:  Gather all ingredients. Preheat the oven to 350 degrees F (175 degrees C).\n",
            "\n",
            "14:  Place chicken in a roasting pan; season generously inside and out with onion powder, salt, and pepper. Place 3 tablespoons of butter in chicken cavity; arrange dollops of remaining butter on the outside of chicken.\n",
            "\n",
            "15:  Cut celery into 3 or 4 pieces; place in the chicken cavity.\n",
            "\n",
            "16:  Bake chicken uncovered in the preheated oven until no longer pink at the bone and the juices run clear, about 1 hour and 15 minutes. An instant-read thermometer inserted into the thickest part of the thigh, near the bone, should read 165 degrees F (74 degrees C).\n",
            "\n",
            "17:  Remove from the oven and baste with drippings. Cover with aluminum foil and allow to rest for about 30 minutes before serving.\n",
            "\n"
          ]
        }
      ]
    },
    {
      "cell_type": "markdown",
      "source": [
        "## Parte 3: Obtener enlaces relacionados\n",
        "* Encontrar links a otras recetas para completar el corpus\n"
      ],
      "metadata": {
        "id": "bWLdgUFWOZln"
      }
    },
    {
      "cell_type": "code",
      "source": [
        "# Urls relacionados\n",
        "# En este caso, se recupera los enlaces de las recetas relacionadas\n",
        "def obtener_urls_relacionados (soup):\n",
        "  item = soup.find(\"div\", id=\"recirc-section_1-0\")\n",
        "  enlaces = item.find_all(\"a\")\n",
        "\n",
        "  return [enlace[\"href\"] for enlace in enlaces]\n",
        "\n",
        "\n",
        "item = soup.find(\"div\", id=\"recirc-section_1-0\")\n",
        "enlaces = item.find_all(\"a\")\n",
        "for enlace in enlaces:\n",
        "  print (enlace[\"href\"])"
      ],
      "metadata": {
        "id": "igbP8n8lz2C-",
        "colab": {
          "base_uri": "https://localhost:8080/"
        },
        "outputId": "069d7523-9317-4ec3-c71e-dc08142b776c"
      },
      "execution_count": 23,
      "outputs": [
        {
          "output_type": "stream",
          "name": "stdout",
          "text": [
            "https://www.allrecipes.com/recipe/8709/roasted-lemon-herb-chicken/\n",
            "https://www.allrecipes.com/recipe/17815/simply-lemon-baked-chicken/\n",
            "https://www.allrecipes.com/recipe/45954/roast-sticky-chicken-rotisserie-style/\n",
            "https://www.allrecipes.com/recipe/15427/roast-chicken-with-rosemary/\n",
            "https://www.allrecipes.com/recipe/9004/marinated-rosemary-chicken/\n",
            "https://www.allrecipes.com/recipe/8690/spicy-rapid-roast-chicken/\n",
            "https://www.allrecipes.com/recipe/8596/mediterranean-lemon-chicken/\n",
            "https://www.allrecipes.com/recipe/15406/honey-baked-chicken-i/\n",
            "https://www.allrecipes.com/recipe/236306/roasted-chicken-with-lemon-and-rosemary/\n",
            "https://www.allrecipes.com/recipe/8676/chicken-oreganato/\n",
            "https://www.allrecipes.com/recipe/8863/ginas-lemon-pepper-chicken/\n",
            "https://www.allrecipes.com/recipe/217015/grapefruit-chicken/\n",
            "https://www.allrecipes.com/recipe/228848/stupid-simple-roast-chicken/\n",
            "https://www.allrecipes.com/recipe/218126/basic-broiled-chicken-breasts/\n",
            "https://www.allrecipes.com/recipe/189679/masala-spiced-roast-chicken/\n",
            "https://www.allrecipes.com/recipe/232863/cinnamon-rubbed-chicken/\n"
          ]
        }
      ]
    },
    {
      "cell_type": "markdown",
      "source": [
        "## 4. Crear el Scraper"
      ],
      "metadata": {
        "id": "p2FexKdGgMGu"
      }
    },
    {
      "cell_type": "code",
      "source": [
        "import subprocess\n",
        "from bs4 import BeautifulSoup"
      ],
      "metadata": {
        "id": "Cogr5f4tzgb3"
      },
      "execution_count": 24,
      "outputs": []
    },
    {
      "cell_type": "code",
      "source": [
        "def recuperar_receta(url):\n",
        "  comando_curl = [\"curl\", url]\n",
        "  resultado = subprocess.run(comando_curl, capture_output=True, text=True, check=True)\n",
        "  return resultado.stdout"
      ],
      "metadata": {
        "id": "rV_1bQ90zhHm"
      },
      "execution_count": 25,
      "outputs": []
    },
    {
      "cell_type": "code",
      "source": [
        "html_content = recuperar_receta(\"https://www.allrecipes.com/recipe/8690/spicy-rapid-roast-chicken/\")"
      ],
      "metadata": {
        "id": "PzLyrQHNzoLd"
      },
      "execution_count": 26,
      "outputs": []
    },
    {
      "cell_type": "code",
      "source": [
        "def scraping(html_content):\n",
        "  soup = BeautifulSoup(html_content, \"html.parser\")\n",
        "\n",
        "  #scraping\n",
        "  return {\"titulo\":obtener_titulo(soup),\n",
        "          \"valoracion\": obtener_valoracion(soup),\n",
        "          \"porciones\":obtener_porciones(soup),\n",
        "          \"tiempo\": obtener_tiempo(soup),\n",
        "          \"descripcion\":obtener_descripcion(soup),\n",
        "          \"imagen\":obtener_url_img(soup),\n",
        "          \"factores nutricionales\": obtener_fn(soup),\n",
        "          \"pasos\": obtener_pasos(soup),\n",
        "          \"ingredientes\": obtener_ingredientes(soup),\n",
        "          \"links_relacionados\": obtener_urls_relacionados(soup)\n",
        "          }"
      ],
      "metadata": {
        "id": "YOWNeTjHfgaY"
      },
      "execution_count": 27,
      "outputs": []
    },
    {
      "cell_type": "code",
      "source": [
        "print(scraping(html_content))"
      ],
      "metadata": {
        "colab": {
          "base_uri": "https://localhost:8080/"
        },
        "id": "jKLMcaJOzmEn",
        "outputId": "9e8b17db-d2cb-418f-c9c9-95fc07bc5198"
      },
      "execution_count": 28,
      "outputs": [
        {
          "output_type": "stream",
          "name": "stdout",
          "text": [
            "{'titulo': 'Spicy Rapid Roast Chicken', 'valoracion': '4.5', 'porciones': '8', 'tiempo': '1 hr 30 mins', 'descripcion': 'This is the kind of recipe that you just throw together. No need to truss or fuss. Pop it into a very hot oven and it is ready in a hurry.', 'imagen': 'https://cdn.jwplayer.com/v2/media/8yqoTDXW/poster.jpg?width=720', 'factores nutricionales': ['Total Fat 15g', 'Saturated Fat 4g', 'Cholesterol 73mg', 'Sodium 143mg', 'Total Carbohydrate 0g', 'Dietary Fiber 0g', 'Protein 23g', 'Vitamin C 0mg', 'Calcium 14mg', 'Iron 1mg', 'Potassium 207mg'], 'pasos': ['Preheat oven to 450 degrees F (230 degrees C).', 'Rinse chicken thoroughly inside and out under cold running water and remove all fat. Pat dry with paper towels.', 'Put chicken into a small baking pan. Rub with olive oil. Mix the salt, pepper, oregano, basil, paprika and cayenne pepper together and sprinkle over chicken.', 'Roast the chicken in the preheated oven for 20 minutes. Lower the oven to 400 degrees F (205 degrees C) and continue roasting to a minimum internal temperature of 165 degrees F (74 degrees C), about 40 minutes more. Let cool 10 to 15 minutes and serve.'], 'ingredientes': ['1(3 pound)whole chicken', '1tablespoonolive oil', '¼teaspoonsalt', '¼teaspoonground black pepper', '¼teaspoondried oregano', '¼teaspoondried basil', '¼teaspoonpaprika', '⅛teaspooncayenne pepper'], 'links_relacionados': ['https://www.allrecipes.com/recipe/9004/marinated-rosemary-chicken/', 'https://www.allrecipes.com/recipe/15427/roast-chicken-with-rosemary/', 'https://www.allrecipes.com/recipe/56352/garlic-prime-rib/', 'https://www.allrecipes.com/recipe/45954/roast-sticky-chicken-rotisserie-style/', 'https://www.allrecipes.com/recipe/8596/mediterranean-lemon-chicken/', 'https://www.allrecipes.com/recipe/70679/simple-whole-roasted-chicken/', 'https://www.allrecipes.com/recipe/12805/lemon-pepper-cod/', 'https://www.allrecipes.com/recipe/17815/simply-lemon-baked-chicken/', 'https://www.allrecipes.com/recipe/20193/garlic-salmon/', 'https://www.allrecipes.com/recipe/8863/ginas-lemon-pepper-chicken/', 'https://www.allrecipes.com/recipe/17676/roasted-vegetable-chicken/', 'https://www.allrecipes.com/recipe/8676/chicken-oreganato/', 'https://www.allrecipes.com/recipe/8552/roasted-rosemary-chicken-and-vegetables/', 'https://www.allrecipes.com/recipe/15406/honey-baked-chicken-i/', 'https://www.allrecipes.com/recipe/19934/chili-lime-chicken-kabobs/', 'https://www.allrecipes.com/recipe/16789/grilled-stuffed-portobello-mushrooms/']}\n"
          ]
        }
      ]
    },
    {
      "cell_type": "code",
      "source": [
        "def web_scraping(url_inicial, limite=100):\n",
        "    corpus = []\n",
        "    urls_visitadas = set()\n",
        "    pendientes = [url_inicial]\n",
        "\n",
        "    while pendientes and len(corpus) < limite:\n",
        "        url = pendientes.pop()\n",
        "\n",
        "        # Para evitar las urls ya visitadas\n",
        "        if url in urls_visitadas:\n",
        "            continue\n",
        "\n",
        "        print(f\"Visitando: {url}\")\n",
        "\n",
        "        # Recuperar contenido de la url\n",
        "        try:\n",
        "            html_content = recuperar_receta(url)\n",
        "            scrap = scraping(html_content)\n",
        "        except Exception as e:\n",
        "            print(f\"Error al procesar {url}: {e}\")\n",
        "            continue\n",
        "\n",
        "        # Añadir el url a las urls visitadas\n",
        "        urls_visitadas.add(url)\n",
        "\n",
        "        # Incorporar nuevos urls\n",
        "        for nueva_url in scrap.get(\"links_relacionados\", []):\n",
        "            if nueva_url not in urls_visitadas:\n",
        "                pendientes.append(nueva_url)\n",
        "\n",
        "        # Añadir al corpus\n",
        "        del scrap[\"links_relacionados\"]  # borrar atributo links_relacionados para el corpus\n",
        "        corpus.append(scrap)\n",
        "\n",
        "    return corpus"
      ],
      "metadata": {
        "id": "UfLkDmjJzmiI"
      },
      "execution_count": 31,
      "outputs": []
    },
    {
      "cell_type": "code",
      "source": [
        "corpus = web_scraping(\"https://www.allrecipes.com/recipe/83557/juicy-roasted-chicken/\")"
      ],
      "metadata": {
        "colab": {
          "base_uri": "https://localhost:8080/"
        },
        "id": "XiAeiVzw0F6_",
        "outputId": "546619eb-6447-4e2b-cae1-4174fa2a5a56"
      },
      "execution_count": 32,
      "outputs": [
        {
          "output_type": "stream",
          "name": "stdout",
          "text": [
            "Visitando: https://www.allrecipes.com/recipe/83557/juicy-roasted-chicken/\n",
            "Visitando: https://www.allrecipes.com/recipe/232863/cinnamon-rubbed-chicken/\n",
            "Visitando: https://www.allrecipes.com/recipe/9004/marinated-rosemary-chicken/\n",
            "Visitando: https://www.allrecipes.com/recipe/9034/rosemary-chicken/\n",
            "Visitando: https://www.allrecipes.com/recipe/82713/blissful-rosemary-chicken/\n",
            "Visitando: https://www.allrecipes.com/recipe/8730/oregano-chicken/\n",
            "Visitando: https://www.allrecipes.com/recipe/8776/cheddar-chicken/\n",
            "Visitando: https://www.allrecipes.com/recipe/264204/spicy-keto-chicken-and-cheese-casserole/\n",
            "Visitando: https://www.allrecipes.com/recipe/70522/garlic-cheddar-chicken/\n",
            "Visitando: https://www.allrecipes.com/recipe/19135/broiled-herb-butter-chicken/\n",
            "Visitando: https://www.allrecipes.com/recipe/272657/keto-open-faced-chicken-cordon-bleu/\n",
            "Visitando: https://www.allrecipes.com/recipe/80827/easy-garlic-broiled-chicken/\n",
            "Visitando: https://www.allrecipes.com/recipe/73108/moist-garlic-chicken/\n",
            "Visitando: https://www.allrecipes.com/recipe/188473/buffalo-chicken-wraps/\n",
            "Visitando: https://www.allrecipes.com/recipe/217969/buffalo-chicken-pasta-salad/\n",
            "Visitando: https://www.allrecipes.com/recipe/12003/chicken-macaroni-salad/\n",
            "Visitando: https://www.allrecipes.com/recipe/270866/cashew-chicken-pasta-salad/\n",
            "Visitando: https://www.allrecipes.com/recipe/16157/company-chicken-pasta-salad-with-grapes/\n",
            "Visitando: https://www.allrecipes.com/recipe/279819/cold-chicken-macaroni-salad/\n",
            "Visitando: https://www.allrecipes.com/recipe/214679/mediterranean-chicken-and-orzo-salad-in-red-pepper-cups/\n",
            "Visitando: https://www.allrecipes.com/recipe/85531/sesame-chicken-pasta-salad/\n",
            "Visitando: https://www.allrecipes.com/recipe/273967/grilled-chicken-salad-with-strawberries-and-avocado/\n",
            "Visitando: https://www.allrecipes.com/recipe/280304/grilled-lemon-pepper-chicken-salad/\n",
            "Visitando: https://www.allrecipes.com/recipe/273513/chicken-souvlaki-salad/\n",
            "Visitando: https://www.allrecipes.com/recipe/254905/mexican-chicken-and-corn-salad/\n",
            "Visitando: https://www.allrecipes.com/recipe/285550/chicken-belgian-endive-and-grape-grain-salad/\n",
            "Visitando: https://www.allrecipes.com/recipe/73920/pool-party-pasta-salad/\n",
            "Visitando: https://www.allrecipes.com/recipe/258165/the-cheesecake-factory-santa-fe-salad/\n",
            "Visitando: https://www.allrecipes.com/recipe/14533/caribbean-chicken-salad/\n",
            "Visitando: https://www.allrecipes.com/recipe/72631/amys-barbecue-chicken-salad/\n",
            "Visitando: https://www.allrecipes.com/recipe/16466/chicken-salad-with-bacon-lettuce-and-tomato/\n",
            "Visitando: https://www.allrecipes.com/recipe/23713/chicken-caesar-pasta/\n",
            "Visitando: https://www.allrecipes.com/recipe/86216/summertime-chicken-and-pasta-salad/\n",
            "Visitando: https://www.allrecipes.com/recipe/14431/easy-and-fast-cajun-chicken-caesar-salad/\n",
            "Visitando: https://www.allrecipes.com/recipe/273830/strawberry-feta-chicken-salad-with-roasted-strawberry-balsamic-dressing/\n",
            "Visitando: https://www.allrecipes.com/recipe/283553/crispy-chicken-salad-with-yummy-honey-mustard-dressing/\n",
            "Visitando: https://www.allrecipes.com/recipe/14316/chicken-fiesta-salad/\n",
            "Visitando: https://www.allrecipes.com/recipe/18445/chicken-cashew-salad/\n",
            "Visitando: https://www.allrecipes.com/recipe/266078/speedy-chicken-feta-and-orzo-salad/\n",
            "Visitando: https://www.allrecipes.com/recipe/8688/fancy-chicken-salad/\n",
            "Visitando: https://www.allrecipes.com/recipe/14256/rice-a-roni-salad/\n",
            "Visitando: https://www.allrecipes.com/recipe/143123/mexican-chicken-and-black-bean-salad/\n",
            "Visitando: https://www.allrecipes.com/recipe/42726/warm-and-limey-chicken-salad/\n",
            "Visitando: https://www.allrecipes.com/recipe/217095/chicken-poppy-seed-pasta-salad/\n",
            "Visitando: https://www.allrecipes.com/recipe/223029/grilled-chicken-taco-salad/\n",
            "Visitando: https://www.allrecipes.com/recipe/242415/grilled-chicken-peach-and-arugula-salad/\n",
            "Visitando: https://www.allrecipes.com/recipe/86362/grilled-peaches-and-cream/\n",
            "Visitando: https://www.allrecipes.com/recipe/12347/peach-pie/\n",
            "Visitando: https://www.allrecipes.com/recipe/20120/peach-ice-cream/\n",
            "Visitando: https://www.allrecipes.com/recipe/75234/tipsy-peaches/\n",
            "Visitando: https://www.allrecipes.com/recipe/12521/fruit-cobbler/\n",
            "Visitando: https://www.allrecipes.com/recipe/214730/fresh-peach-dessert/\n",
            "Visitando: https://www.allrecipes.com/recipe/12148/easy-fruit-cobbler/\n",
            "Visitando: https://www.allrecipes.com/recipe/75677/grandma-sals-peach-kuchen/\n",
            "Visitando: https://www.allrecipes.com/recipe/88354/easy-batter-fruit-cobbler/\n",
            "Visitando: https://www.allrecipes.com/recipe/87959/peach-coffee-cake-ii/\n",
            "Visitando: https://www.allrecipes.com/recipe/38236/georgia-peach-homemade-ice-cream/\n",
            "Visitando: https://www.allrecipes.com/recipe/12633/peach-cobbler-iii/\n",
            "Visitando: https://www.allrecipes.com/recipe/17635/ga-peach-pound-cake/\n",
            "Visitando: https://www.allrecipes.com/recipe/8249/peach-cake-ii/\n",
            "Visitando: https://www.allrecipes.com/recipe/215036/honey-peach-pie/\n",
            "Visitando: https://www.allrecipes.com/recipe/223282/peach-blueberry-pie/\n",
            "Visitando: https://www.allrecipes.com/recipe/280126/double-crust-peach-pie-with-frozen-peaches/\n",
            "Visitando: https://www.allrecipes.com/recipe/228935/120-calorie-peach-pies/\n",
            "Visitando: https://www.allrecipes.com/recipe/87376/fresh-peach-pie/\n",
            "Visitando: https://www.allrecipes.com/recipe/223396/captain-jacks-peach-pie/\n",
            "Visitando: https://www.allrecipes.com/recipe/142938/peach-and-cream-cheese-torte/\n",
            "Visitando: https://www.allrecipes.com/recipe/274176/refreshing-peach-cups/\n",
            "Visitando: https://www.allrecipes.com/recipe/12198/peaches-n-cream-pie/\n",
            "Visitando: https://www.allrecipes.com/recipe/145915/blackberry-peach-pie/\n",
            "Visitando: https://www.allrecipes.com/recipe/142428/fresh-fruit-cake/\n",
            "Visitando: https://www.allrecipes.com/recipe/214628/my-bottom-up-peach-cobbler/\n",
            "Visitando: https://www.allrecipes.com/recipe/240561/peach-cobbler-in-a-mug/\n",
            "Visitando: https://www.allrecipes.com/recipe/218548/peach-and-blueberry-cobbler/\n",
            "Visitando: https://www.allrecipes.com/recipe/234306/butter-biscuit-peach-cobbler/\n",
            "Visitando: https://www.allrecipes.com/recipe/237907/mason-jar-peach-cobbler/\n",
            "Visitando: https://www.allrecipes.com/recipe/238999/roasted-marshmallow-peaches/\n",
            "Visitando: https://www.allrecipes.com/recipe/18435/lazy-peach-cobbler/\n",
            "Visitando: https://www.allrecipes.com/recipe/229004/peach-dump-cake/\n",
            "Visitando: https://www.allrecipes.com/recipe/255308/peach-cobbler-celiac-friendly/\n",
            "Visitando: https://www.allrecipes.com/recipe/259253/vegan-and-gluten-free-naked-cake-with-peaches-and-coconut-cream/\n",
            "Visitando: https://www.allrecipes.com/recipe/217174/po-boy-pie/\n",
            "Visitando: https://www.allrecipes.com/recipe/228937/quick-peach-cobbler/\n",
            "Visitando: https://www.allrecipes.com/recipe/228132/moist-peach-pound-cake/\n",
            "Visitando: https://www.allrecipes.com/recipe/274337/decadent-cinnamon-roll-peach-cobbler/\n",
            "Visitando: https://www.allrecipes.com/recipe/274815/peach-cobbler-cheesecake-bars/\n",
            "Visitando: https://www.allrecipes.com/recipe/266234/homemade-peach-crumb-bars/\n",
            "Visitando: https://www.allrecipes.com/recipe/266313/fresh-peach-empanadas/\n",
            "Visitando: https://www.allrecipes.com/recipe/7411/peach-cake-i/\n",
            "Visitando: https://www.allrecipes.com/peach-cobbler-pound-cake-6663504\n",
            "Visitando: https://www.allrecipes.com/recipe/255714/gluten-free-fresh-peach-cobbler/\n",
            "Visitando: https://www.allrecipes.com/recipe/281304/peach-blueberry-streusel-tart/\n",
            "Visitando: https://www.allrecipes.com/recipe/277548/cranberry-orange-curd-tart/\n",
            "Visitando: https://www.allrecipes.com/recipe/273433/crostata-with-lemon-custard-and-whipped-ricotta-cream/\n",
            "Visitando: https://www.allrecipes.com/recipe/273610/beautiful-summer-fruit-tart/\n",
            "Visitando: https://www.allrecipes.com/recipe/106022/mini-strawberry-tarts/\n",
            "Visitando: https://www.allrecipes.com/recipe/273046/white-chocolate-cream-cheese-fruit-tart/\n",
            "Visitando: https://www.allrecipes.com/recipe/274625/blackberry-curd-tart/\n",
            "Visitando: https://www.allrecipes.com/recipe/8457651/cranberry-curd-tart/\n",
            "Visitando: https://www.allrecipes.com/recipe/276769/scandinavian-pear-tart/\n"
          ]
        }
      ]
    },
    {
      "cell_type": "code",
      "source": [
        "# Crear el DataFrame para el corpus\n",
        "import pandas as pd\n",
        "corpus_df = pd.DataFrame(corpus)\n",
        "\n",
        "corpus_df.head()"
      ],
      "metadata": {
        "colab": {
          "base_uri": "https://localhost:8080/",
          "height": 397
        },
        "id": "v8Km4ItgDFH1",
        "outputId": "975bde01-d8d1-43de-de1e-3938cafcfefa"
      },
      "execution_count": 51,
      "outputs": [
        {
          "output_type": "execute_result",
          "data": {
            "text/plain": [
              "                       titulo valoracion porciones        tiempo  \\\n",
              "0       Juicy Roasted Chicken        4.8         6         2 hrs   \n",
              "1     Cinnamon-Rubbed Chicken        4.9         4  1 hr 20 mins   \n",
              "2  Marinated Rosemary Chicken        4.3         7                 \n",
              "3            Rosemary Chicken        4.1         4       35 mins   \n",
              "4   Blissful Rosemary Chicken        4.5         4       40 mins   \n",
              "\n",
              "                                         descripcion  \\\n",
              "0  This roasted chicken is perfectly seasoned and...   \n",
              "1  I got this idea from a long-ago TV show (Littl...   \n",
              "2  This is a wonderful way to fix your Sunday roa...   \n",
              "3  This rosemary chicken breast recipe is baked w...   \n",
              "4  An elegant and intensely flavorful way to prep...   \n",
              "\n",
              "                                              imagen  \\\n",
              "0  https://cdn.jwplayer.com/v2/media/EFEVNJX8/thu...   \n",
              "1  https://www.allrecipes.com/thmb/vC0OKMOj_gVP8U...   \n",
              "2  https://www.allrecipes.com/thmb/TUlQ4PA08rdPrX...   \n",
              "3  https://www.allrecipes.com/thmb/NzuKcUPuUIqyQ4...   \n",
              "4  https://www.allrecipes.com/thmb/fWhUWkVKOCCaXz...   \n",
              "\n",
              "                              factores nutricionales  \\\n",
              "0  [Total Fat 32g, Saturated Fat 7g, Cholesterol ...   \n",
              "1  [Total Fat 31g, Saturated Fat 7g, Cholesterol ...   \n",
              "2  [Total Fat 56g, Saturated Fat 11g, Cholesterol...   \n",
              "3  [Total Fat 8g, Saturated Fat 1g, Cholesterol 6...   \n",
              "4  [Total Fat 30g, Saturated Fat 10g, Cholesterol...   \n",
              "\n",
              "                                               pasos  \\\n",
              "0  [Roasted chicken never fails to impress, but i...   \n",
              "1  [Preheat oven to 350 degrees F (175 degrees C)...   \n",
              "2  [To Make Marinade: In a food processor blend t...   \n",
              "3  [Preheat oven to 350 degrees F (175 degrees C)...   \n",
              "4  [Use a knife or grater to sharpen the thick en...   \n",
              "\n",
              "                                        ingredientes  \n",
              "0  [1(3 pound)whole chicken, giblets removed, sal...  \n",
              "1  [¼cupolive oil, 1teaspoonground cinnamon, 1tea...  \n",
              "2  [2(2 to 3 pound)whole chicken, 2bunchesfresh p...  \n",
              "3  [4skinless, boneless chicken breast halves, 2t...  \n",
              "4  [4sprigsfresh rosemary, 4skinless, boneless ch...  "
            ],
            "text/html": [
              "\n",
              "  <div id=\"df-7b83f45b-8cf7-49b1-aa28-4af5e6ed9b01\" class=\"colab-df-container\">\n",
              "    <div>\n",
              "<style scoped>\n",
              "    .dataframe tbody tr th:only-of-type {\n",
              "        vertical-align: middle;\n",
              "    }\n",
              "\n",
              "    .dataframe tbody tr th {\n",
              "        vertical-align: top;\n",
              "    }\n",
              "\n",
              "    .dataframe thead th {\n",
              "        text-align: right;\n",
              "    }\n",
              "</style>\n",
              "<table border=\"1\" class=\"dataframe\">\n",
              "  <thead>\n",
              "    <tr style=\"text-align: right;\">\n",
              "      <th></th>\n",
              "      <th>titulo</th>\n",
              "      <th>valoracion</th>\n",
              "      <th>porciones</th>\n",
              "      <th>tiempo</th>\n",
              "      <th>descripcion</th>\n",
              "      <th>imagen</th>\n",
              "      <th>factores nutricionales</th>\n",
              "      <th>pasos</th>\n",
              "      <th>ingredientes</th>\n",
              "    </tr>\n",
              "  </thead>\n",
              "  <tbody>\n",
              "    <tr>\n",
              "      <th>0</th>\n",
              "      <td>Juicy Roasted Chicken</td>\n",
              "      <td>4.8</td>\n",
              "      <td>6</td>\n",
              "      <td>2 hrs</td>\n",
              "      <td>This roasted chicken is perfectly seasoned and...</td>\n",
              "      <td>https://cdn.jwplayer.com/v2/media/EFEVNJX8/thu...</td>\n",
              "      <td>[Total Fat 32g, Saturated Fat 7g, Cholesterol ...</td>\n",
              "      <td>[Roasted chicken never fails to impress, but i...</td>\n",
              "      <td>[1(3 pound)whole chicken, giblets removed, sal...</td>\n",
              "    </tr>\n",
              "    <tr>\n",
              "      <th>1</th>\n",
              "      <td>Cinnamon-Rubbed Chicken</td>\n",
              "      <td>4.9</td>\n",
              "      <td>4</td>\n",
              "      <td>1 hr 20 mins</td>\n",
              "      <td>I got this idea from a long-ago TV show (Littl...</td>\n",
              "      <td>https://www.allrecipes.com/thmb/vC0OKMOj_gVP8U...</td>\n",
              "      <td>[Total Fat 31g, Saturated Fat 7g, Cholesterol ...</td>\n",
              "      <td>[Preheat oven to 350 degrees F (175 degrees C)...</td>\n",
              "      <td>[¼cupolive oil, 1teaspoonground cinnamon, 1tea...</td>\n",
              "    </tr>\n",
              "    <tr>\n",
              "      <th>2</th>\n",
              "      <td>Marinated Rosemary Chicken</td>\n",
              "      <td>4.3</td>\n",
              "      <td>7</td>\n",
              "      <td></td>\n",
              "      <td>This is a wonderful way to fix your Sunday roa...</td>\n",
              "      <td>https://www.allrecipes.com/thmb/TUlQ4PA08rdPrX...</td>\n",
              "      <td>[Total Fat 56g, Saturated Fat 11g, Cholesterol...</td>\n",
              "      <td>[To Make Marinade: In a food processor blend t...</td>\n",
              "      <td>[2(2 to 3 pound)whole chicken, 2bunchesfresh p...</td>\n",
              "    </tr>\n",
              "    <tr>\n",
              "      <th>3</th>\n",
              "      <td>Rosemary Chicken</td>\n",
              "      <td>4.1</td>\n",
              "      <td>4</td>\n",
              "      <td>35 mins</td>\n",
              "      <td>This rosemary chicken breast recipe is baked w...</td>\n",
              "      <td>https://www.allrecipes.com/thmb/NzuKcUPuUIqyQ4...</td>\n",
              "      <td>[Total Fat 8g, Saturated Fat 1g, Cholesterol 6...</td>\n",
              "      <td>[Preheat oven to 350 degrees F (175 degrees C)...</td>\n",
              "      <td>[4skinless, boneless chicken breast halves, 2t...</td>\n",
              "    </tr>\n",
              "    <tr>\n",
              "      <th>4</th>\n",
              "      <td>Blissful Rosemary Chicken</td>\n",
              "      <td>4.5</td>\n",
              "      <td>4</td>\n",
              "      <td>40 mins</td>\n",
              "      <td>An elegant and intensely flavorful way to prep...</td>\n",
              "      <td>https://www.allrecipes.com/thmb/fWhUWkVKOCCaXz...</td>\n",
              "      <td>[Total Fat 30g, Saturated Fat 10g, Cholesterol...</td>\n",
              "      <td>[Use a knife or grater to sharpen the thick en...</td>\n",
              "      <td>[4sprigsfresh rosemary, 4skinless, boneless ch...</td>\n",
              "    </tr>\n",
              "  </tbody>\n",
              "</table>\n",
              "</div>\n",
              "    <div class=\"colab-df-buttons\">\n",
              "\n",
              "  <div class=\"colab-df-container\">\n",
              "    <button class=\"colab-df-convert\" onclick=\"convertToInteractive('df-7b83f45b-8cf7-49b1-aa28-4af5e6ed9b01')\"\n",
              "            title=\"Convert this dataframe to an interactive table.\"\n",
              "            style=\"display:none;\">\n",
              "\n",
              "  <svg xmlns=\"http://www.w3.org/2000/svg\" height=\"24px\" viewBox=\"0 -960 960 960\">\n",
              "    <path d=\"M120-120v-720h720v720H120Zm60-500h600v-160H180v160Zm220 220h160v-160H400v160Zm0 220h160v-160H400v160ZM180-400h160v-160H180v160Zm440 0h160v-160H620v160ZM180-180h160v-160H180v160Zm440 0h160v-160H620v160Z\"/>\n",
              "  </svg>\n",
              "    </button>\n",
              "\n",
              "  <style>\n",
              "    .colab-df-container {\n",
              "      display:flex;\n",
              "      gap: 12px;\n",
              "    }\n",
              "\n",
              "    .colab-df-convert {\n",
              "      background-color: #E8F0FE;\n",
              "      border: none;\n",
              "      border-radius: 50%;\n",
              "      cursor: pointer;\n",
              "      display: none;\n",
              "      fill: #1967D2;\n",
              "      height: 32px;\n",
              "      padding: 0 0 0 0;\n",
              "      width: 32px;\n",
              "    }\n",
              "\n",
              "    .colab-df-convert:hover {\n",
              "      background-color: #E2EBFA;\n",
              "      box-shadow: 0px 1px 2px rgba(60, 64, 67, 0.3), 0px 1px 3px 1px rgba(60, 64, 67, 0.15);\n",
              "      fill: #174EA6;\n",
              "    }\n",
              "\n",
              "    .colab-df-buttons div {\n",
              "      margin-bottom: 4px;\n",
              "    }\n",
              "\n",
              "    [theme=dark] .colab-df-convert {\n",
              "      background-color: #3B4455;\n",
              "      fill: #D2E3FC;\n",
              "    }\n",
              "\n",
              "    [theme=dark] .colab-df-convert:hover {\n",
              "      background-color: #434B5C;\n",
              "      box-shadow: 0px 1px 3px 1px rgba(0, 0, 0, 0.15);\n",
              "      filter: drop-shadow(0px 1px 2px rgba(0, 0, 0, 0.3));\n",
              "      fill: #FFFFFF;\n",
              "    }\n",
              "  </style>\n",
              "\n",
              "    <script>\n",
              "      const buttonEl =\n",
              "        document.querySelector('#df-7b83f45b-8cf7-49b1-aa28-4af5e6ed9b01 button.colab-df-convert');\n",
              "      buttonEl.style.display =\n",
              "        google.colab.kernel.accessAllowed ? 'block' : 'none';\n",
              "\n",
              "      async function convertToInteractive(key) {\n",
              "        const element = document.querySelector('#df-7b83f45b-8cf7-49b1-aa28-4af5e6ed9b01');\n",
              "        const dataTable =\n",
              "          await google.colab.kernel.invokeFunction('convertToInteractive',\n",
              "                                                    [key], {});\n",
              "        if (!dataTable) return;\n",
              "\n",
              "        const docLinkHtml = 'Like what you see? Visit the ' +\n",
              "          '<a target=\"_blank\" href=https://colab.research.google.com/notebooks/data_table.ipynb>data table notebook</a>'\n",
              "          + ' to learn more about interactive tables.';\n",
              "        element.innerHTML = '';\n",
              "        dataTable['output_type'] = 'display_data';\n",
              "        await google.colab.output.renderOutput(dataTable, element);\n",
              "        const docLink = document.createElement('div');\n",
              "        docLink.innerHTML = docLinkHtml;\n",
              "        element.appendChild(docLink);\n",
              "      }\n",
              "    </script>\n",
              "  </div>\n",
              "\n",
              "\n",
              "    <div id=\"df-33535bb7-6b59-4fbc-884b-77221e17c277\">\n",
              "      <button class=\"colab-df-quickchart\" onclick=\"quickchart('df-33535bb7-6b59-4fbc-884b-77221e17c277')\"\n",
              "                title=\"Suggest charts\"\n",
              "                style=\"display:none;\">\n",
              "\n",
              "<svg xmlns=\"http://www.w3.org/2000/svg\" height=\"24px\"viewBox=\"0 0 24 24\"\n",
              "     width=\"24px\">\n",
              "    <g>\n",
              "        <path d=\"M19 3H5c-1.1 0-2 .9-2 2v14c0 1.1.9 2 2 2h14c1.1 0 2-.9 2-2V5c0-1.1-.9-2-2-2zM9 17H7v-7h2v7zm4 0h-2V7h2v10zm4 0h-2v-4h2v4z\"/>\n",
              "    </g>\n",
              "</svg>\n",
              "      </button>\n",
              "\n",
              "<style>\n",
              "  .colab-df-quickchart {\n",
              "      --bg-color: #E8F0FE;\n",
              "      --fill-color: #1967D2;\n",
              "      --hover-bg-color: #E2EBFA;\n",
              "      --hover-fill-color: #174EA6;\n",
              "      --disabled-fill-color: #AAA;\n",
              "      --disabled-bg-color: #DDD;\n",
              "  }\n",
              "\n",
              "  [theme=dark] .colab-df-quickchart {\n",
              "      --bg-color: #3B4455;\n",
              "      --fill-color: #D2E3FC;\n",
              "      --hover-bg-color: #434B5C;\n",
              "      --hover-fill-color: #FFFFFF;\n",
              "      --disabled-bg-color: #3B4455;\n",
              "      --disabled-fill-color: #666;\n",
              "  }\n",
              "\n",
              "  .colab-df-quickchart {\n",
              "    background-color: var(--bg-color);\n",
              "    border: none;\n",
              "    border-radius: 50%;\n",
              "    cursor: pointer;\n",
              "    display: none;\n",
              "    fill: var(--fill-color);\n",
              "    height: 32px;\n",
              "    padding: 0;\n",
              "    width: 32px;\n",
              "  }\n",
              "\n",
              "  .colab-df-quickchart:hover {\n",
              "    background-color: var(--hover-bg-color);\n",
              "    box-shadow: 0 1px 2px rgba(60, 64, 67, 0.3), 0 1px 3px 1px rgba(60, 64, 67, 0.15);\n",
              "    fill: var(--button-hover-fill-color);\n",
              "  }\n",
              "\n",
              "  .colab-df-quickchart-complete:disabled,\n",
              "  .colab-df-quickchart-complete:disabled:hover {\n",
              "    background-color: var(--disabled-bg-color);\n",
              "    fill: var(--disabled-fill-color);\n",
              "    box-shadow: none;\n",
              "  }\n",
              "\n",
              "  .colab-df-spinner {\n",
              "    border: 2px solid var(--fill-color);\n",
              "    border-color: transparent;\n",
              "    border-bottom-color: var(--fill-color);\n",
              "    animation:\n",
              "      spin 1s steps(1) infinite;\n",
              "  }\n",
              "\n",
              "  @keyframes spin {\n",
              "    0% {\n",
              "      border-color: transparent;\n",
              "      border-bottom-color: var(--fill-color);\n",
              "      border-left-color: var(--fill-color);\n",
              "    }\n",
              "    20% {\n",
              "      border-color: transparent;\n",
              "      border-left-color: var(--fill-color);\n",
              "      border-top-color: var(--fill-color);\n",
              "    }\n",
              "    30% {\n",
              "      border-color: transparent;\n",
              "      border-left-color: var(--fill-color);\n",
              "      border-top-color: var(--fill-color);\n",
              "      border-right-color: var(--fill-color);\n",
              "    }\n",
              "    40% {\n",
              "      border-color: transparent;\n",
              "      border-right-color: var(--fill-color);\n",
              "      border-top-color: var(--fill-color);\n",
              "    }\n",
              "    60% {\n",
              "      border-color: transparent;\n",
              "      border-right-color: var(--fill-color);\n",
              "    }\n",
              "    80% {\n",
              "      border-color: transparent;\n",
              "      border-right-color: var(--fill-color);\n",
              "      border-bottom-color: var(--fill-color);\n",
              "    }\n",
              "    90% {\n",
              "      border-color: transparent;\n",
              "      border-bottom-color: var(--fill-color);\n",
              "    }\n",
              "  }\n",
              "</style>\n",
              "\n",
              "      <script>\n",
              "        async function quickchart(key) {\n",
              "          const quickchartButtonEl =\n",
              "            document.querySelector('#' + key + ' button');\n",
              "          quickchartButtonEl.disabled = true;  // To prevent multiple clicks.\n",
              "          quickchartButtonEl.classList.add('colab-df-spinner');\n",
              "          try {\n",
              "            const charts = await google.colab.kernel.invokeFunction(\n",
              "                'suggestCharts', [key], {});\n",
              "          } catch (error) {\n",
              "            console.error('Error during call to suggestCharts:', error);\n",
              "          }\n",
              "          quickchartButtonEl.classList.remove('colab-df-spinner');\n",
              "          quickchartButtonEl.classList.add('colab-df-quickchart-complete');\n",
              "        }\n",
              "        (() => {\n",
              "          let quickchartButtonEl =\n",
              "            document.querySelector('#df-33535bb7-6b59-4fbc-884b-77221e17c277 button');\n",
              "          quickchartButtonEl.style.display =\n",
              "            google.colab.kernel.accessAllowed ? 'block' : 'none';\n",
              "        })();\n",
              "      </script>\n",
              "    </div>\n",
              "\n",
              "    </div>\n",
              "  </div>\n"
            ],
            "application/vnd.google.colaboratory.intrinsic+json": {
              "type": "dataframe",
              "variable_name": "corpus_df",
              "summary": "{\n  \"name\": \"corpus_df\",\n  \"rows\": 100,\n  \"fields\": [\n    {\n      \"column\": \"titulo\",\n      \"properties\": {\n        \"dtype\": \"string\",\n        \"num_unique_values\": 100,\n        \"samples\": [\n          \"Moist Peach Pound Cake\",\n          \"Grandma Sal's Peach Kuchen\",\n          \"Fresh Fruit Cake\"\n        ],\n        \"semantic_type\": \"\",\n        \"description\": \"\"\n      }\n    },\n    {\n      \"column\": \"valoracion\",\n      \"properties\": {\n        \"dtype\": \"category\",\n        \"num_unique_values\": 14,\n        \"samples\": [\n          \"4.0\",\n          \"4.7\",\n          \"4.8\"\n        ],\n        \"semantic_type\": \"\",\n        \"description\": \"\"\n      }\n    },\n    {\n      \"column\": \"porciones\",\n      \"properties\": {\n        \"dtype\": \"category\",\n        \"num_unique_values\": 18,\n        \"samples\": [\n          \"6\",\n          \"4\",\n          \"2\"\n        ],\n        \"semantic_type\": \"\",\n        \"description\": \"\"\n      }\n    },\n    {\n      \"column\": \"tiempo\",\n      \"properties\": {\n        \"dtype\": \"category\",\n        \"num_unique_values\": 38,\n        \"samples\": [\n          \"1 hr 4 mins\",\n          \"5 hrs 20 mins\",\n          \"40 mins\"\n        ],\n        \"semantic_type\": \"\",\n        \"description\": \"\"\n      }\n    },\n    {\n      \"column\": \"descripcion\",\n      \"properties\": {\n        \"dtype\": \"string\",\n        \"num_unique_values\": 100,\n        \"samples\": [\n          \"This moist peach pound cake recipe makes a delicious, moist, feel-good cake.\",\n          \"Peaches and custard baked to a chewy, gooey perfection on a tender cookie crust. Can be made all year with canned peaches. Delicious hot with ice cream or alone cold.\",\n          \"This is a very moist cake, great for summer entertaining!\"\n        ],\n        \"semantic_type\": \"\",\n        \"description\": \"\"\n      }\n    },\n    {\n      \"column\": \"imagen\",\n      \"properties\": {\n        \"dtype\": \"string\",\n        \"num_unique_values\": 100,\n        \"samples\": [\n          \"https://www.allrecipes.com/thmb/iRG5QnVG6rss4UfWMoJDJWUZlfc=/1500x0/filters:no_upscale():max_bytes(150000):strip_icc()/881289-a57845d911bf4bd99037b0e470ecdb92.jpg\",\n          \"https://www.allrecipes.com/thmb/obeaVNAdPLDT34EPPIrRY_WfPPY=/1500x0/filters:no_upscale():max_bytes(150000):strip_icc()/232987-f986b00ac8674c9e90e7a85ee381cb0c.jpg\",\n          \"https://www.allrecipes.com/thmb/BRvnpd_ysL4M9O_n2KmbcL7f0Rs=/1500x0/filters:no_upscale():max_bytes(150000):strip_icc()/638760-120fc488fc6d4850a8b433e79a1338c7.jpg\"\n        ],\n        \"semantic_type\": \"\",\n        \"description\": \"\"\n      }\n    },\n    {\n      \"column\": \"factores nutricionales\",\n      \"properties\": {\n        \"dtype\": \"object\",\n        \"semantic_type\": \"\",\n        \"description\": \"\"\n      }\n    },\n    {\n      \"column\": \"pasos\",\n      \"properties\": {\n        \"dtype\": \"object\",\n        \"semantic_type\": \"\",\n        \"description\": \"\"\n      }\n    },\n    {\n      \"column\": \"ingredientes\",\n      \"properties\": {\n        \"dtype\": \"object\",\n        \"semantic_type\": \"\",\n        \"description\": \"\"\n      }\n    }\n  ]\n}"
            }
          },
          "metadata": {},
          "execution_count": 51
        }
      ]
    },
    {
      "cell_type": "code",
      "source": [
        "def fila_a_documento(fila):\n",
        "    return  f\"\"\"\n",
        "    title: {fila['titulo']}\n",
        "    raiting: {fila['valoracion']}\n",
        "    servings: {fila['porciones']}\n",
        "    total time: {fila['tiempo']}\n",
        "\n",
        "    description: {fila['descripcion']}\n",
        "\n",
        "    ingredients: {fila['ingredientes']}\n",
        "\n",
        "    steps: {fila['pasos']}\n",
        "\n",
        "    nutricional factors: {fila['factores nutricionales']}\n",
        "    \"\"\""
      ],
      "metadata": {
        "id": "uLfVv0w_VCKq"
      },
      "execution_count": 101,
      "outputs": []
    },
    {
      "cell_type": "code",
      "source": [
        "# Generar content para corpus\n",
        "corpus_df[\"content\"] = corpus_df.apply(lambda x: fila_a_documento(x), axis=1)"
      ],
      "metadata": {
        "id": "BIpsld7ZRf14"
      },
      "execution_count": 102,
      "outputs": []
    },
    {
      "cell_type": "code",
      "source": [
        "corpus_df.head()"
      ],
      "metadata": {
        "colab": {
          "base_uri": "https://localhost:8080/",
          "height": 695
        },
        "id": "_gUEhb-0Vaic",
        "outputId": "49359bd2-4982-4f44-f42c-e7e05f1d8c82"
      },
      "execution_count": 103,
      "outputs": [
        {
          "output_type": "execute_result",
          "data": {
            "text/plain": [
              "                       titulo valoracion porciones        tiempo  \\\n",
              "0       Juicy Roasted Chicken        4.8         6         2 hrs   \n",
              "1     Cinnamon-Rubbed Chicken        4.9         4  1 hr 20 mins   \n",
              "2  Marinated Rosemary Chicken        4.3         7                 \n",
              "3            Rosemary Chicken        4.1         4       35 mins   \n",
              "4   Blissful Rosemary Chicken        4.5         4       40 mins   \n",
              "\n",
              "                                         descripcion  \\\n",
              "0  This roasted chicken is perfectly seasoned and...   \n",
              "1  I got this idea from a long-ago TV show (Littl...   \n",
              "2  This is a wonderful way to fix your Sunday roa...   \n",
              "3  This rosemary chicken breast recipe is baked w...   \n",
              "4  An elegant and intensely flavorful way to prep...   \n",
              "\n",
              "                                              imagen  \\\n",
              "0  https://cdn.jwplayer.com/v2/media/EFEVNJX8/thu...   \n",
              "1  https://www.allrecipes.com/thmb/vC0OKMOj_gVP8U...   \n",
              "2  https://www.allrecipes.com/thmb/TUlQ4PA08rdPrX...   \n",
              "3  https://www.allrecipes.com/thmb/NzuKcUPuUIqyQ4...   \n",
              "4  https://www.allrecipes.com/thmb/fWhUWkVKOCCaXz...   \n",
              "\n",
              "                              factores nutricionales  \\\n",
              "0  [Total Fat 32g, Saturated Fat 7g, Cholesterol ...   \n",
              "1  [Total Fat 31g, Saturated Fat 7g, Cholesterol ...   \n",
              "2  [Total Fat 56g, Saturated Fat 11g, Cholesterol...   \n",
              "3  [Total Fat 8g, Saturated Fat 1g, Cholesterol 6...   \n",
              "4  [Total Fat 30g, Saturated Fat 10g, Cholesterol...   \n",
              "\n",
              "                                               pasos  \\\n",
              "0  [Roasted chicken never fails to impress, but i...   \n",
              "1  [Preheat oven to 350 degrees F (175 degrees C)...   \n",
              "2  [To Make Marinade: In a food processor blend t...   \n",
              "3  [Preheat oven to 350 degrees F (175 degrees C)...   \n",
              "4  [Use a knife or grater to sharpen the thick en...   \n",
              "\n",
              "                                        ingredientes  \\\n",
              "0  [1(3 pound)whole chicken, giblets removed, sal...   \n",
              "1  [¼cupolive oil, 1teaspoonground cinnamon, 1tea...   \n",
              "2  [2(2 to 3 pound)whole chicken, 2bunchesfresh p...   \n",
              "3  [4skinless, boneless chicken breast halves, 2t...   \n",
              "4  [4sprigsfresh rosemary, 4skinless, boneless ch...   \n",
              "\n",
              "                                             content  \\\n",
              "0  \\n    title: Juicy Roasted Chicken\\n    raitin...   \n",
              "1  \\n    title: Cinnamon-Rubbed Chicken\\n    rait...   \n",
              "2  \\n    title: Marinated Rosemary Chicken\\n    r...   \n",
              "3  \\n    title: Rosemary Chicken\\n    raiting: 4....   \n",
              "4  \\n    title: Blissful Rosemary Chicken\\n    ra...   \n",
              "\n",
              "                                        preprocessed  \\\n",
              "0  tulo juicy roast chicken valoraci n porciones ...   \n",
              "1  tulo cinnamon rub chicken valoraci n porciones...   \n",
              "2  tulo marinate rosemary chicken valoraci n porc...   \n",
              "3  tulo rosemary chicken valoraci n porciones tie...   \n",
              "4  tulo blissful rosemary chicken valoraci n porc...   \n",
              "\n",
              "                                          embeddings  \n",
              "0  [-0.00760706, -0.08166299, -0.014807371, -0.01...  \n",
              "1  [-0.08531587, -0.050379764, -0.022936996, -0.0...  \n",
              "2  [-0.014826353, -0.05466562, -0.006772316, -0.0...  \n",
              "3  [-0.045748133, -0.09574673, -0.023035247, -0.0...  \n",
              "4  [-0.018333787, -0.073669456, -0.045043945, -0....  "
            ],
            "text/html": [
              "\n",
              "  <div id=\"df-ef6138d7-c5e4-4053-acbd-19999543347b\" class=\"colab-df-container\">\n",
              "    <div>\n",
              "<style scoped>\n",
              "    .dataframe tbody tr th:only-of-type {\n",
              "        vertical-align: middle;\n",
              "    }\n",
              "\n",
              "    .dataframe tbody tr th {\n",
              "        vertical-align: top;\n",
              "    }\n",
              "\n",
              "    .dataframe thead th {\n",
              "        text-align: right;\n",
              "    }\n",
              "</style>\n",
              "<table border=\"1\" class=\"dataframe\">\n",
              "  <thead>\n",
              "    <tr style=\"text-align: right;\">\n",
              "      <th></th>\n",
              "      <th>titulo</th>\n",
              "      <th>valoracion</th>\n",
              "      <th>porciones</th>\n",
              "      <th>tiempo</th>\n",
              "      <th>descripcion</th>\n",
              "      <th>imagen</th>\n",
              "      <th>factores nutricionales</th>\n",
              "      <th>pasos</th>\n",
              "      <th>ingredientes</th>\n",
              "      <th>content</th>\n",
              "      <th>preprocessed</th>\n",
              "      <th>embeddings</th>\n",
              "    </tr>\n",
              "  </thead>\n",
              "  <tbody>\n",
              "    <tr>\n",
              "      <th>0</th>\n",
              "      <td>Juicy Roasted Chicken</td>\n",
              "      <td>4.8</td>\n",
              "      <td>6</td>\n",
              "      <td>2 hrs</td>\n",
              "      <td>This roasted chicken is perfectly seasoned and...</td>\n",
              "      <td>https://cdn.jwplayer.com/v2/media/EFEVNJX8/thu...</td>\n",
              "      <td>[Total Fat 32g, Saturated Fat 7g, Cholesterol ...</td>\n",
              "      <td>[Roasted chicken never fails to impress, but i...</td>\n",
              "      <td>[1(3 pound)whole chicken, giblets removed, sal...</td>\n",
              "      <td>\\n    title: Juicy Roasted Chicken\\n    raitin...</td>\n",
              "      <td>tulo juicy roast chicken valoraci n porciones ...</td>\n",
              "      <td>[-0.00760706, -0.08166299, -0.014807371, -0.01...</td>\n",
              "    </tr>\n",
              "    <tr>\n",
              "      <th>1</th>\n",
              "      <td>Cinnamon-Rubbed Chicken</td>\n",
              "      <td>4.9</td>\n",
              "      <td>4</td>\n",
              "      <td>1 hr 20 mins</td>\n",
              "      <td>I got this idea from a long-ago TV show (Littl...</td>\n",
              "      <td>https://www.allrecipes.com/thmb/vC0OKMOj_gVP8U...</td>\n",
              "      <td>[Total Fat 31g, Saturated Fat 7g, Cholesterol ...</td>\n",
              "      <td>[Preheat oven to 350 degrees F (175 degrees C)...</td>\n",
              "      <td>[¼cupolive oil, 1teaspoonground cinnamon, 1tea...</td>\n",
              "      <td>\\n    title: Cinnamon-Rubbed Chicken\\n    rait...</td>\n",
              "      <td>tulo cinnamon rub chicken valoraci n porciones...</td>\n",
              "      <td>[-0.08531587, -0.050379764, -0.022936996, -0.0...</td>\n",
              "    </tr>\n",
              "    <tr>\n",
              "      <th>2</th>\n",
              "      <td>Marinated Rosemary Chicken</td>\n",
              "      <td>4.3</td>\n",
              "      <td>7</td>\n",
              "      <td></td>\n",
              "      <td>This is a wonderful way to fix your Sunday roa...</td>\n",
              "      <td>https://www.allrecipes.com/thmb/TUlQ4PA08rdPrX...</td>\n",
              "      <td>[Total Fat 56g, Saturated Fat 11g, Cholesterol...</td>\n",
              "      <td>[To Make Marinade: In a food processor blend t...</td>\n",
              "      <td>[2(2 to 3 pound)whole chicken, 2bunchesfresh p...</td>\n",
              "      <td>\\n    title: Marinated Rosemary Chicken\\n    r...</td>\n",
              "      <td>tulo marinate rosemary chicken valoraci n porc...</td>\n",
              "      <td>[-0.014826353, -0.05466562, -0.006772316, -0.0...</td>\n",
              "    </tr>\n",
              "    <tr>\n",
              "      <th>3</th>\n",
              "      <td>Rosemary Chicken</td>\n",
              "      <td>4.1</td>\n",
              "      <td>4</td>\n",
              "      <td>35 mins</td>\n",
              "      <td>This rosemary chicken breast recipe is baked w...</td>\n",
              "      <td>https://www.allrecipes.com/thmb/NzuKcUPuUIqyQ4...</td>\n",
              "      <td>[Total Fat 8g, Saturated Fat 1g, Cholesterol 6...</td>\n",
              "      <td>[Preheat oven to 350 degrees F (175 degrees C)...</td>\n",
              "      <td>[4skinless, boneless chicken breast halves, 2t...</td>\n",
              "      <td>\\n    title: Rosemary Chicken\\n    raiting: 4....</td>\n",
              "      <td>tulo rosemary chicken valoraci n porciones tie...</td>\n",
              "      <td>[-0.045748133, -0.09574673, -0.023035247, -0.0...</td>\n",
              "    </tr>\n",
              "    <tr>\n",
              "      <th>4</th>\n",
              "      <td>Blissful Rosemary Chicken</td>\n",
              "      <td>4.5</td>\n",
              "      <td>4</td>\n",
              "      <td>40 mins</td>\n",
              "      <td>An elegant and intensely flavorful way to prep...</td>\n",
              "      <td>https://www.allrecipes.com/thmb/fWhUWkVKOCCaXz...</td>\n",
              "      <td>[Total Fat 30g, Saturated Fat 10g, Cholesterol...</td>\n",
              "      <td>[Use a knife or grater to sharpen the thick en...</td>\n",
              "      <td>[4sprigsfresh rosemary, 4skinless, boneless ch...</td>\n",
              "      <td>\\n    title: Blissful Rosemary Chicken\\n    ra...</td>\n",
              "      <td>tulo blissful rosemary chicken valoraci n porc...</td>\n",
              "      <td>[-0.018333787, -0.073669456, -0.045043945, -0....</td>\n",
              "    </tr>\n",
              "  </tbody>\n",
              "</table>\n",
              "</div>\n",
              "    <div class=\"colab-df-buttons\">\n",
              "\n",
              "  <div class=\"colab-df-container\">\n",
              "    <button class=\"colab-df-convert\" onclick=\"convertToInteractive('df-ef6138d7-c5e4-4053-acbd-19999543347b')\"\n",
              "            title=\"Convert this dataframe to an interactive table.\"\n",
              "            style=\"display:none;\">\n",
              "\n",
              "  <svg xmlns=\"http://www.w3.org/2000/svg\" height=\"24px\" viewBox=\"0 -960 960 960\">\n",
              "    <path d=\"M120-120v-720h720v720H120Zm60-500h600v-160H180v160Zm220 220h160v-160H400v160Zm0 220h160v-160H400v160ZM180-400h160v-160H180v160Zm440 0h160v-160H620v160ZM180-180h160v-160H180v160Zm440 0h160v-160H620v160Z\"/>\n",
              "  </svg>\n",
              "    </button>\n",
              "\n",
              "  <style>\n",
              "    .colab-df-container {\n",
              "      display:flex;\n",
              "      gap: 12px;\n",
              "    }\n",
              "\n",
              "    .colab-df-convert {\n",
              "      background-color: #E8F0FE;\n",
              "      border: none;\n",
              "      border-radius: 50%;\n",
              "      cursor: pointer;\n",
              "      display: none;\n",
              "      fill: #1967D2;\n",
              "      height: 32px;\n",
              "      padding: 0 0 0 0;\n",
              "      width: 32px;\n",
              "    }\n",
              "\n",
              "    .colab-df-convert:hover {\n",
              "      background-color: #E2EBFA;\n",
              "      box-shadow: 0px 1px 2px rgba(60, 64, 67, 0.3), 0px 1px 3px 1px rgba(60, 64, 67, 0.15);\n",
              "      fill: #174EA6;\n",
              "    }\n",
              "\n",
              "    .colab-df-buttons div {\n",
              "      margin-bottom: 4px;\n",
              "    }\n",
              "\n",
              "    [theme=dark] .colab-df-convert {\n",
              "      background-color: #3B4455;\n",
              "      fill: #D2E3FC;\n",
              "    }\n",
              "\n",
              "    [theme=dark] .colab-df-convert:hover {\n",
              "      background-color: #434B5C;\n",
              "      box-shadow: 0px 1px 3px 1px rgba(0, 0, 0, 0.15);\n",
              "      filter: drop-shadow(0px 1px 2px rgba(0, 0, 0, 0.3));\n",
              "      fill: #FFFFFF;\n",
              "    }\n",
              "  </style>\n",
              "\n",
              "    <script>\n",
              "      const buttonEl =\n",
              "        document.querySelector('#df-ef6138d7-c5e4-4053-acbd-19999543347b button.colab-df-convert');\n",
              "      buttonEl.style.display =\n",
              "        google.colab.kernel.accessAllowed ? 'block' : 'none';\n",
              "\n",
              "      async function convertToInteractive(key) {\n",
              "        const element = document.querySelector('#df-ef6138d7-c5e4-4053-acbd-19999543347b');\n",
              "        const dataTable =\n",
              "          await google.colab.kernel.invokeFunction('convertToInteractive',\n",
              "                                                    [key], {});\n",
              "        if (!dataTable) return;\n",
              "\n",
              "        const docLinkHtml = 'Like what you see? Visit the ' +\n",
              "          '<a target=\"_blank\" href=https://colab.research.google.com/notebooks/data_table.ipynb>data table notebook</a>'\n",
              "          + ' to learn more about interactive tables.';\n",
              "        element.innerHTML = '';\n",
              "        dataTable['output_type'] = 'display_data';\n",
              "        await google.colab.output.renderOutput(dataTable, element);\n",
              "        const docLink = document.createElement('div');\n",
              "        docLink.innerHTML = docLinkHtml;\n",
              "        element.appendChild(docLink);\n",
              "      }\n",
              "    </script>\n",
              "  </div>\n",
              "\n",
              "\n",
              "    <div id=\"df-f7c1189c-e8dc-4402-bc2b-d673264f9043\">\n",
              "      <button class=\"colab-df-quickchart\" onclick=\"quickchart('df-f7c1189c-e8dc-4402-bc2b-d673264f9043')\"\n",
              "                title=\"Suggest charts\"\n",
              "                style=\"display:none;\">\n",
              "\n",
              "<svg xmlns=\"http://www.w3.org/2000/svg\" height=\"24px\"viewBox=\"0 0 24 24\"\n",
              "     width=\"24px\">\n",
              "    <g>\n",
              "        <path d=\"M19 3H5c-1.1 0-2 .9-2 2v14c0 1.1.9 2 2 2h14c1.1 0 2-.9 2-2V5c0-1.1-.9-2-2-2zM9 17H7v-7h2v7zm4 0h-2V7h2v10zm4 0h-2v-4h2v4z\"/>\n",
              "    </g>\n",
              "</svg>\n",
              "      </button>\n",
              "\n",
              "<style>\n",
              "  .colab-df-quickchart {\n",
              "      --bg-color: #E8F0FE;\n",
              "      --fill-color: #1967D2;\n",
              "      --hover-bg-color: #E2EBFA;\n",
              "      --hover-fill-color: #174EA6;\n",
              "      --disabled-fill-color: #AAA;\n",
              "      --disabled-bg-color: #DDD;\n",
              "  }\n",
              "\n",
              "  [theme=dark] .colab-df-quickchart {\n",
              "      --bg-color: #3B4455;\n",
              "      --fill-color: #D2E3FC;\n",
              "      --hover-bg-color: #434B5C;\n",
              "      --hover-fill-color: #FFFFFF;\n",
              "      --disabled-bg-color: #3B4455;\n",
              "      --disabled-fill-color: #666;\n",
              "  }\n",
              "\n",
              "  .colab-df-quickchart {\n",
              "    background-color: var(--bg-color);\n",
              "    border: none;\n",
              "    border-radius: 50%;\n",
              "    cursor: pointer;\n",
              "    display: none;\n",
              "    fill: var(--fill-color);\n",
              "    height: 32px;\n",
              "    padding: 0;\n",
              "    width: 32px;\n",
              "  }\n",
              "\n",
              "  .colab-df-quickchart:hover {\n",
              "    background-color: var(--hover-bg-color);\n",
              "    box-shadow: 0 1px 2px rgba(60, 64, 67, 0.3), 0 1px 3px 1px rgba(60, 64, 67, 0.15);\n",
              "    fill: var(--button-hover-fill-color);\n",
              "  }\n",
              "\n",
              "  .colab-df-quickchart-complete:disabled,\n",
              "  .colab-df-quickchart-complete:disabled:hover {\n",
              "    background-color: var(--disabled-bg-color);\n",
              "    fill: var(--disabled-fill-color);\n",
              "    box-shadow: none;\n",
              "  }\n",
              "\n",
              "  .colab-df-spinner {\n",
              "    border: 2px solid var(--fill-color);\n",
              "    border-color: transparent;\n",
              "    border-bottom-color: var(--fill-color);\n",
              "    animation:\n",
              "      spin 1s steps(1) infinite;\n",
              "  }\n",
              "\n",
              "  @keyframes spin {\n",
              "    0% {\n",
              "      border-color: transparent;\n",
              "      border-bottom-color: var(--fill-color);\n",
              "      border-left-color: var(--fill-color);\n",
              "    }\n",
              "    20% {\n",
              "      border-color: transparent;\n",
              "      border-left-color: var(--fill-color);\n",
              "      border-top-color: var(--fill-color);\n",
              "    }\n",
              "    30% {\n",
              "      border-color: transparent;\n",
              "      border-left-color: var(--fill-color);\n",
              "      border-top-color: var(--fill-color);\n",
              "      border-right-color: var(--fill-color);\n",
              "    }\n",
              "    40% {\n",
              "      border-color: transparent;\n",
              "      border-right-color: var(--fill-color);\n",
              "      border-top-color: var(--fill-color);\n",
              "    }\n",
              "    60% {\n",
              "      border-color: transparent;\n",
              "      border-right-color: var(--fill-color);\n",
              "    }\n",
              "    80% {\n",
              "      border-color: transparent;\n",
              "      border-right-color: var(--fill-color);\n",
              "      border-bottom-color: var(--fill-color);\n",
              "    }\n",
              "    90% {\n",
              "      border-color: transparent;\n",
              "      border-bottom-color: var(--fill-color);\n",
              "    }\n",
              "  }\n",
              "</style>\n",
              "\n",
              "      <script>\n",
              "        async function quickchart(key) {\n",
              "          const quickchartButtonEl =\n",
              "            document.querySelector('#' + key + ' button');\n",
              "          quickchartButtonEl.disabled = true;  // To prevent multiple clicks.\n",
              "          quickchartButtonEl.classList.add('colab-df-spinner');\n",
              "          try {\n",
              "            const charts = await google.colab.kernel.invokeFunction(\n",
              "                'suggestCharts', [key], {});\n",
              "          } catch (error) {\n",
              "            console.error('Error during call to suggestCharts:', error);\n",
              "          }\n",
              "          quickchartButtonEl.classList.remove('colab-df-spinner');\n",
              "          quickchartButtonEl.classList.add('colab-df-quickchart-complete');\n",
              "        }\n",
              "        (() => {\n",
              "          let quickchartButtonEl =\n",
              "            document.querySelector('#df-f7c1189c-e8dc-4402-bc2b-d673264f9043 button');\n",
              "          quickchartButtonEl.style.display =\n",
              "            google.colab.kernel.accessAllowed ? 'block' : 'none';\n",
              "        })();\n",
              "      </script>\n",
              "    </div>\n",
              "\n",
              "    </div>\n",
              "  </div>\n"
            ],
            "application/vnd.google.colaboratory.intrinsic+json": {
              "type": "dataframe",
              "variable_name": "corpus_df",
              "summary": "{\n  \"name\": \"corpus_df\",\n  \"rows\": 100,\n  \"fields\": [\n    {\n      \"column\": \"titulo\",\n      \"properties\": {\n        \"dtype\": \"string\",\n        \"num_unique_values\": 100,\n        \"samples\": [\n          \"Moist Peach Pound Cake\",\n          \"Grandma Sal's Peach Kuchen\",\n          \"Fresh Fruit Cake\"\n        ],\n        \"semantic_type\": \"\",\n        \"description\": \"\"\n      }\n    },\n    {\n      \"column\": \"valoracion\",\n      \"properties\": {\n        \"dtype\": \"category\",\n        \"num_unique_values\": 14,\n        \"samples\": [\n          \"4.0\",\n          \"4.7\",\n          \"4.8\"\n        ],\n        \"semantic_type\": \"\",\n        \"description\": \"\"\n      }\n    },\n    {\n      \"column\": \"porciones\",\n      \"properties\": {\n        \"dtype\": \"category\",\n        \"num_unique_values\": 18,\n        \"samples\": [\n          \"6\",\n          \"4\",\n          \"2\"\n        ],\n        \"semantic_type\": \"\",\n        \"description\": \"\"\n      }\n    },\n    {\n      \"column\": \"tiempo\",\n      \"properties\": {\n        \"dtype\": \"category\",\n        \"num_unique_values\": 38,\n        \"samples\": [\n          \"1 hr 4 mins\",\n          \"5 hrs 20 mins\",\n          \"40 mins\"\n        ],\n        \"semantic_type\": \"\",\n        \"description\": \"\"\n      }\n    },\n    {\n      \"column\": \"descripcion\",\n      \"properties\": {\n        \"dtype\": \"string\",\n        \"num_unique_values\": 100,\n        \"samples\": [\n          \"This moist peach pound cake recipe makes a delicious, moist, feel-good cake.\",\n          \"Peaches and custard baked to a chewy, gooey perfection on a tender cookie crust. Can be made all year with canned peaches. Delicious hot with ice cream or alone cold.\",\n          \"This is a very moist cake, great for summer entertaining!\"\n        ],\n        \"semantic_type\": \"\",\n        \"description\": \"\"\n      }\n    },\n    {\n      \"column\": \"imagen\",\n      \"properties\": {\n        \"dtype\": \"string\",\n        \"num_unique_values\": 100,\n        \"samples\": [\n          \"https://www.allrecipes.com/thmb/iRG5QnVG6rss4UfWMoJDJWUZlfc=/1500x0/filters:no_upscale():max_bytes(150000):strip_icc()/881289-a57845d911bf4bd99037b0e470ecdb92.jpg\",\n          \"https://www.allrecipes.com/thmb/obeaVNAdPLDT34EPPIrRY_WfPPY=/1500x0/filters:no_upscale():max_bytes(150000):strip_icc()/232987-f986b00ac8674c9e90e7a85ee381cb0c.jpg\",\n          \"https://www.allrecipes.com/thmb/BRvnpd_ysL4M9O_n2KmbcL7f0Rs=/1500x0/filters:no_upscale():max_bytes(150000):strip_icc()/638760-120fc488fc6d4850a8b433e79a1338c7.jpg\"\n        ],\n        \"semantic_type\": \"\",\n        \"description\": \"\"\n      }\n    },\n    {\n      \"column\": \"factores nutricionales\",\n      \"properties\": {\n        \"dtype\": \"object\",\n        \"semantic_type\": \"\",\n        \"description\": \"\"\n      }\n    },\n    {\n      \"column\": \"pasos\",\n      \"properties\": {\n        \"dtype\": \"object\",\n        \"semantic_type\": \"\",\n        \"description\": \"\"\n      }\n    },\n    {\n      \"column\": \"ingredientes\",\n      \"properties\": {\n        \"dtype\": \"object\",\n        \"semantic_type\": \"\",\n        \"description\": \"\"\n      }\n    },\n    {\n      \"column\": \"content\",\n      \"properties\": {\n        \"dtype\": \"string\",\n        \"num_unique_values\": 100,\n        \"samples\": [\n          \"\\n    title: Moist Peach Pound Cake\\n    raiting: 4.7\\n    servings: 20\\n    total Time: 1 hr 20 mins\\n    \\n    description: This moist peach pound cake recipe makes a delicious, moist, feel-good cake.\\n    \\n    ingredients: ['3cupsall-purpose flour', '\\u00bdteaspoonsalt', '\\u00bcteaspoonbaking soda', '1(29 ounce) canpeaches, drained and mashed', '\\u00bdcupsour cream', '3cupswhite sugar', '1cupbutter, softened', '6largeeggs', '1teaspoonvanilla extract', '1teaspoonalmond extract']\\n    \\n    steps: ['Preheat the oven to 350 degrees F (175 degrees C). Grease and sugar two 9x5-inch loaf pans.', 'Combine flour, salt, and baking soda in a large bowl. Mix peaches and sour cream together in a separate bowl.', 'Beat sugar and butter together with an electric mixer in a large bowl until light and fluffy. Add eggs one at a time, and blend completely into mixture before adding the next. Beat in vanilla extract and almond extract with last egg. Add flour mixture alternately with peach mixture, mixing until just combined.', 'Bake in the preheated oven until a toothpick inserted into the center comes out clean, about 65 minutes. Cool in the pans for 10 minutes before removing to cool completely on a wire rack.']\\n    \\n    nutricional factors: ['Total Fat 12g', 'Saturated Fat 7g', 'Cholesterol 83mg', 'Sodium 165mg', 'Total Carbohydrate 49g', 'Dietary Fiber 1g', 'Total Sugars 35g', 'Protein 4g', 'Vitamin C 2mg', 'Calcium 20mg', 'Iron 1mg', 'Potassium 84mg']\\n    \",\n          \"\\n    title: Grandma Sal's Peach Kuchen\\n    raiting: 4.1\\n    servings: 12\\n    total Time: 1 hr 5 mins\\n    \\n    description: Peaches and custard baked to a chewy, gooey perfection on a tender cookie crust. Can be made all year with canned peaches. Delicious hot with ice cream or alone cold.\\n    \\n    ingredients: ['2cupsall-purpose flour', '\\u00bcteaspoonbaking powder', '\\u00bdteaspoonsalt', '1cupwhite sugar, divided', '\\u00bdcupbutter', '6fresh peaches - peeled, pitted and halved', '1teaspoonground cinnamon', '2egg yolks', '1cupheavy cream']\\n    \\n    steps: ['Preheat the oven to 400 degrees F (200 degrees C).', 'Sift the flour, baking powder, salt and 2 tablespoons of sugar into a large bowl. Cut in butter by pinching between your fingers until the mixture resembles coarse cornmeal. Press into the bottom and up the sides of a 9x13 inch baking dish. Place the peach halves cut side up on top of the crust in a nice pattern. Mix together the remaining sugar and cinnamon; sprinkle over the peach halves.', 'Bake for 15 minutes in the preheated oven. While the peaches are baking, whisk together the egg yolks and cream in a medium bowl. Pour over the peaches after the 15 minutes are up.', \\\"Reduce the oven's temperature to 350 degrees F (175 degrees C). Return the dish to the oven, and bake for 30 to 40 minutes, until golden brown.\\\"]\\n    \\n    nutricional factors: ['Total Fat 16g', 'Saturated Fat 10g', 'Cholesterol 82mg', 'Sodium 170mg', 'Total Carbohydrate 36g', 'Dietary Fiber 1g', 'Total Sugars 20g', 'Protein 3g', 'Vitamin C 21mg', 'Calcium 34mg', 'Iron 1mg', 'Potassium 60mg']\\n    \",\n          \"\\n    title: Fresh Fruit Cake\\n    raiting: 3.0\\n    servings: 12\\n    total Time: 1 hr 40 mins\\n    \\n    description: This is a very moist cake, great for summer entertaining!\\n    \\n    ingredients: ['4egg whites', '6tablespoonswater', '2cupswhite sugar', '4egg yolks', '2cupsall-purpose flour', '1teaspoonbaking powder', '1 \\u00bdtablespoonscornstarch', '\\u00bdcupwater', '1(14 ounce) cansweetened condensed milk', '3egg yolks', '\\u00becupsliced strawberries', '\\u00becupsliced peaches', '\\u00bdcupblueberries', '2cupswhipped cream']\\n    \\n    steps: ['Preheat oven to 350 degrees F (175 degrees C). Grease and flour one 10 inch round cake pan.', 'Combine the egg whites and water in a large glass or metal bowl. Whip the egg whites to soft peaks in a large bowl. Continue to whip, while gradually adding sugar until egg whites can stand in stiff peaks. Continue to whip on medium speed while adding one egg yolk at a time. Combine the flour and baking powder; fold gently into the batter. Pour the batter into the prepared cake pan.', 'Bake in the preheated oven until a toothpick inserted in the center comes out clean, 30 to 35 minutes. Cool the cake in the pan for 10 minutes before turning out onto a wire rack to cool completely.', 'Stir the cornstarch with the water in a small bowl to dissolve and set aside. In a medium saucepan, beat together the sweetened condensed milk and the egg yolks. Bring the mixture to a boil over medium-high heat, stirring constantly. Stir in the cornstarch mixture. When the filling thickens, remove from heat and set aside to cool.', 'Mix together the strawberries, peaches, and blueberries in a medium bowl. Using a thread or a bread knife, slice the cooled cake in half horizontally. Spread the mixed fruit across the bottom half of the cake, pour any fruit juice over the berries to moisten the cake. Spread the cream filling over the top of the fruit. Top with the other half of the cake. Frost the cake with whipped cream or your favorite white frosting.']\\n    \\n    nutricional factors: ['Total Fat 20g', 'Saturated Fat 12g', 'Cholesterol 185mg', 'Sodium 122mg', 'Total Carbohydrate 73g', 'Dietary Fiber 1g', 'Total Sugars 54g', 'Protein 9g', 'Vitamin C 8mg', 'Calcium 161mg', 'Iron 2mg', 'Potassium 242mg']\\n    \"\n        ],\n        \"semantic_type\": \"\",\n        \"description\": \"\"\n      }\n    },\n    {\n      \"column\": \"preprocessed\",\n      \"properties\": {\n        \"dtype\": \"string\",\n        \"num_unique_values\": 100,\n        \"samples\": [\n          \"tulo moist peach pound cake valoraci n porciones tiempo de preparaci n hr min descripci n moist peach pound cake recipe make delicious moist feel good cake ingredientes cupsall purpose flour teaspoonsalt teaspoonbaking soda ounce canpeaches drain mashed cupsour cream cupswhite sugar cupbutter soften largeeggs teaspoonvanilla extract teaspoonalmond extract pasos preheat oven degrees f degree c grease and sugar two x inch loaf pan combine flour salt and bake soda a large bowl mix peach and sour cream together in a separate bowl beat sugar and butter together electric mixer in a large bowl light and fluffy add egg one a time and blend completely mixture add the next beat in vanilla extract and almond extract with last egg add flour mixture alternately with peach mixture mix until combine bake in the preheated oven until a toothpick insert into the center come clean minute cool in the pan minute before remove to cool completely a wire rack factor nutricionales total fat g saturate fat g cholesterol mg sodium mg total carbohydrate g dietary fiber g total sugar g protein g vitamin c mg calcium mg iron mg potassium mg\",\n          \"tulo grandma sal peach kuchen valoraci n porciones tiempo de preparaci n hr min descripci n peach custard bake chewy gooey perfection a tender cookie crust make year can peach delicious hot with ice cream alone cold ingredientes cupsall purpose flour teaspoonbaking powder teaspoonsalt cupwhite sugar divide cupbutter fresh peach peel pitted and halved teaspoonground cinnamon egg yolk cupheavy cream pasos preheat oven to degree f degree c sift the flour bake powder salt and tablespoon sugar a large bowl cut butter pinch finger the mixture resemble coarse cornmeal press into the bottom and the side of a x inch bake dish place the peach halve cut side up on top of the crust in a nice pattern mix together the remain sugar and cinnamon sprinkle the peach half bake minute in the preheated oven the peach bake whisk together the egg yolk and cream in a medium bowl pour over the peach the minute be up reduce the oven s temperature to degree f degree c return the dish to the oven and bake for to minute until golden brown factores nutricionales total fat g saturate fat g cholesterol mg sodium mg total carbohydrate g dietary fiber g total sugar g protein g vitamin c mg calcium mg iron mg potassium mg\",\n          \"tulo fresh fruit cake valoraci n porciones tiempo de preparaci n hr min descripci n moist cake great summer entertain ingredientes egg white tablespoonswater cupswhite sugar egg yolk cupsall purpose flour teaspoonbaking powder tablespoonscornstarch cupwater ounce cansweetened condensed milk egg yolk cupsliced strawberry cupsliced peach cupblueberries cupswhipped cream pasos preheat oven degree f degree c grease flour one inch round cake pan combine egg white and water a large glass metal bowl whip the egg white to soft peak in a large bowl continue to whip gradually add sugar egg white stand in stiff peak continue to whip medium speed while add one egg yolk a time combine the flour and bake powder fold gently the batter pour the batter into the prepared cake pan bake in the preheated oven until a toothpick insert in the center come clean to minute cool the cake in the pan for minute turn out onto a wire rack to cool completely stir the cornstarch the water in a small bowl to dissolve and set aside in a medium saucepan beat together the sweeten condensed milk and the egg yolk bring the mixture to a boil medium high heat stir constantly stir in the cornstarch mixture the filling thickens remove heat and set aside to cool mix together the strawberry peach and blueberry in a medium bowl use a thread or a bread knife slice the cooled cake in half horizontally spread the mixed fruit across the bottom half the cake pour fruit juice over the berry to moisten the cake spread the cream filling over the top of the fruit top with the half of the cake frost the cake with whipped cream or favorite white frosting factores nutricionales total fat g saturate fat g cholesterol mg sodium mg total carbohydrate g dietary fiber g total sugar g protein g vitamin c mg calcium mg iron mg potassium mg\"\n        ],\n        \"semantic_type\": \"\",\n        \"description\": \"\"\n      }\n    },\n    {\n      \"column\": \"embeddings\",\n      \"properties\": {\n        \"dtype\": \"object\",\n        \"semantic_type\": \"\",\n        \"description\": \"\"\n      }\n    }\n  ]\n}"
            }
          },
          "metadata": {},
          "execution_count": 103
        }
      ]
    },
    {
      "cell_type": "markdown",
      "source": [
        "## Parte 5: Hacer RAG con las recetas obtenidas\n",
        "* Una vez que se ha construido el corpus, implementar y desplegar RAG para realizar búsquedas en el corpus"
      ],
      "metadata": {
        "id": "KNK0tHiWQlzb"
      }
    },
    {
      "cell_type": "markdown",
      "source": [
        "#### 5.0. Instalar dependencias"
      ],
      "metadata": {
        "id": "KPqDisgbXIjc"
      }
    },
    {
      "cell_type": "code",
      "source": [
        "!pip install sentence-transformers"
      ],
      "metadata": {
        "id": "ESk8alELXG6v"
      },
      "execution_count": null,
      "outputs": []
    },
    {
      "cell_type": "code",
      "source": [
        "!pip install faiss-cpu"
      ],
      "metadata": {
        "id": "m2niJxLJX3gQ"
      },
      "execution_count": null,
      "outputs": []
    },
    {
      "cell_type": "code",
      "source": [
        "!pip install dotenv"
      ],
      "metadata": {
        "id": "9M95z2r6a517"
      },
      "execution_count": null,
      "outputs": []
    },
    {
      "cell_type": "markdown",
      "source": [
        "#### 5.1. Preprocesamiento"
      ],
      "metadata": {
        "id": "LolgrYCcWiQt"
      }
    },
    {
      "cell_type": "code",
      "source": [
        "# Preprocesamiento\n",
        "import nltk\n",
        "import re\n",
        "from nltk.corpus import stopwords, wordnet\n",
        "from nltk.tokenize import regexp_tokenize\n",
        "from nltk.tag import pos_tag\n",
        "from nltk.stem import WordNetLemmatizer\n",
        "\n",
        "paquetes_requeridos = [\n",
        "    'punkt','punkt_tab','stopwords', 'wordnet', 'averaged_perceptron_tagger', 'averaged_perceptron_tagger_eng'\n",
        "]\n",
        "lemmatizer = WordNetLemmatizer()\n",
        "\n",
        "# Descargar recursos necesarios\n",
        "for i in paquetes_requeridos:\n",
        "  nltk.download(i)\n",
        "\n",
        "# Lista de stopwords en inglés\n",
        "stop_words = set(stopwords.words('english'))\n",
        "\n",
        "def lematizar(tokens):\n",
        "    tagged = pos_tag(tokens)\n",
        "\n",
        "    def get_wordnet_pos(tag):\n",
        "            if tag.startswith('J'):\n",
        "                return wordnet.ADJ\n",
        "            elif tag.startswith('V'):\n",
        "                return wordnet.VERB\n",
        "            elif tag.startswith('N'):\n",
        "                return wordnet.NOUN\n",
        "            elif tag.startswith('R'):\n",
        "                return wordnet.ADV\n",
        "            return wordnet.NOUN\n",
        "\n",
        "    return [\n",
        "           lemmatizer.lemmatize(word, get_wordnet_pos(pos))\n",
        "           for word, pos in tagged\n",
        "        ]\n",
        "\n",
        "def preprocesar(doc):\n",
        "    \"\"\"\n",
        "    Preprocesa el texto eliminando caracteres especiales, convirtiendo a minúsculas,\n",
        "    tokenizando, eliminando stopwords, lematizacion\n",
        "    \"\"\"\n",
        "    # Convertir a minúsculas\n",
        "    doc = doc.lower()\n",
        "\n",
        "    # normalizar y tokenizar\n",
        "    words = regexp_tokenize(doc, r\"[a-zA-Z]+\")\n",
        "\n",
        "    # stopwords\n",
        "    for word in stop_words:\n",
        "      if word in words:\n",
        "        words.remove(word)\n",
        "\n",
        "    # lematizar\n",
        "    words = lematizar(words)\n",
        "\n",
        "    return ' '.join(words)"
      ],
      "metadata": {
        "colab": {
          "base_uri": "https://localhost:8080/"
        },
        "id": "7B4dswMpWlBG",
        "outputId": "2d3239c3-fa9e-4183-ec85-a58c5e9e414b"
      },
      "execution_count": 59,
      "outputs": [
        {
          "output_type": "stream",
          "name": "stderr",
          "text": [
            "[nltk_data] Downloading package punkt to /root/nltk_data...\n",
            "[nltk_data]   Unzipping tokenizers/punkt.zip.\n",
            "[nltk_data] Downloading package punkt_tab to /root/nltk_data...\n",
            "[nltk_data]   Unzipping tokenizers/punkt_tab.zip.\n",
            "[nltk_data] Downloading package stopwords to /root/nltk_data...\n",
            "[nltk_data]   Unzipping corpora/stopwords.zip.\n",
            "[nltk_data] Downloading package wordnet to /root/nltk_data...\n",
            "[nltk_data] Downloading package averaged_perceptron_tagger to\n",
            "[nltk_data]     /root/nltk_data...\n",
            "[nltk_data]   Unzipping taggers/averaged_perceptron_tagger.zip.\n",
            "[nltk_data] Downloading package averaged_perceptron_tagger_eng to\n",
            "[nltk_data]     /root/nltk_data...\n",
            "[nltk_data]   Unzipping taggers/averaged_perceptron_tagger_eng.zip.\n"
          ]
        }
      ]
    },
    {
      "cell_type": "code",
      "source": [
        "corpus_df['preprocessed'] = corpus_df['content'].apply(preprocesar)"
      ],
      "metadata": {
        "id": "YRnxo0XHQp9I"
      },
      "execution_count": 104,
      "outputs": []
    },
    {
      "cell_type": "markdown",
      "source": [
        "#### 5.2. Embeddings"
      ],
      "metadata": {
        "id": "yZ0edWswXmfX"
      }
    },
    {
      "cell_type": "code",
      "source": [
        "from sentence_transformers import SentenceTransformer\n",
        "modelo_SBERT = SentenceTransformer('all-MiniLM-L6-v2')"
      ],
      "metadata": {
        "id": "N8o_4CeGWt_D"
      },
      "execution_count": 105,
      "outputs": []
    },
    {
      "cell_type": "code",
      "source": [
        "corpus_df[\"embeddings\"] = corpus_df[\"preprocessed\"].apply(modelo_SBERT.encode)"
      ],
      "metadata": {
        "id": "mpmoxsLvXpfV"
      },
      "execution_count": 106,
      "outputs": []
    },
    {
      "cell_type": "markdown",
      "source": [
        "#### 5.3. Indexación en base FAISS"
      ],
      "metadata": {
        "id": "qFk-SCrsXuRE"
      }
    },
    {
      "cell_type": "code",
      "source": [
        "import faiss\n",
        "import numpy as np\n",
        "key=\"embeddings\""
      ],
      "metadata": {
        "id": "ZL4DfaDTX0LJ"
      },
      "execution_count": 107,
      "outputs": []
    },
    {
      "cell_type": "code",
      "source": [
        "embedding_dim = len(corpus_df[key].values[1])\n",
        "indice = faiss.IndexFlatL2(embedding_dim)"
      ],
      "metadata": {
        "id": "Ob3x708gYoG8"
      },
      "execution_count": 108,
      "outputs": []
    },
    {
      "cell_type": "code",
      "source": [
        "# Añadir vectores al indice\n",
        "indice.add(np.vstack(corpus_df[key].values).astype(\"float32\")) # faiss usa float32"
      ],
      "metadata": {
        "id": "cjcmEYifYp2y"
      },
      "execution_count": 109,
      "outputs": []
    },
    {
      "cell_type": "markdown",
      "source": [
        "#### 5.4. Búsqueda y obtención de base"
      ],
      "metadata": {
        "id": "CCvqsmVPYwfM"
      }
    },
    {
      "cell_type": "code",
      "source": [
        "def obtener_base(query):\n",
        "  query_preprocesada = preprocesar(query)\n",
        "  query_emb = modelo_SBERT.encode(query_preprocesada)\n",
        "  _, indices_recuperados = indice.search(query_emb.reshape(1,-1), k=5)\n",
        "  return corpus_df.loc[indices_recuperados.flatten(), [\"content\", \"imagen\"]]"
      ],
      "metadata": {
        "id": "_j9HI4TQY4ZR"
      },
      "execution_count": 110,
      "outputs": []
    },
    {
      "cell_type": "markdown",
      "source": [
        "#### 5.5. Generación del Prompt"
      ],
      "metadata": {
        "id": "GMWUA1dXY-t8"
      }
    },
    {
      "cell_type": "code",
      "source": [
        "def generar_prompt(base, query):\n",
        "    return f\"\"\"Eres una aplicación de Retrieval-Augmented Generation (RAG) especializada en recetas de cocina. Siempre respondes en español.\n",
        "\n",
        "Tu tarea es generar una respuesta clara, completa y escrita en lenguaje natural. Si la información está presente en la base proporcionada, incluye la receta completa (ingredientes, pasos, etc.) y responde `\"respuesta_valida\": true`.\n",
        "\n",
        "Si la base no contiene suficiente información para responder la consulta, indica `\"respuesta_valida\": false` y deja `\"respuesta\"` con un mensaje explicando que no hay datos disponibles. No inventes contenido.\n",
        "\n",
        "Devuelve únicamente un JSON con esta estructura:\n",
        "\n",
        "{{\n",
        "  \"respuesta_valida\": true o false,\n",
        "  \"respuesta\": \"texto de la respuesta aquí\"\n",
        "}}\n",
        "\n",
        "### Base de conocimientos:\n",
        "{base}\n",
        "\n",
        "### Consulta del usuario:\n",
        "{query}\n",
        "\"\"\""
      ],
      "metadata": {
        "id": "KhVglioaY-SP"
      },
      "execution_count": 146,
      "outputs": []
    },
    {
      "cell_type": "code",
      "source": [
        "import json\n",
        "def procesar_respuesta_json(respuesta):\n",
        "   respuesta = respuesta.replace(\"```\", \"\")\n",
        "   respuesta = respuesta.replace(\"json\", \"\").strip()\n",
        "   datos = json.loads(respuesta)\n",
        "   return [datos[\"respuesta_valida\"], datos[\"respuesta\"]]"
      ],
      "metadata": {
        "id": "__DOOOgfqxz3"
      },
      "execution_count": 162,
      "outputs": []
    },
    {
      "cell_type": "markdown",
      "source": [
        "#### 5.6. Modelo LLM"
      ],
      "metadata": {
        "id": "AANeccXXjdJN"
      }
    },
    {
      "cell_type": "code",
      "source": [
        "from dotenv import load_dotenv\n",
        "from google import genai\n",
        "import os\n",
        "\n",
        "load_dotenv()\n",
        "\n",
        "client = genai.Client(api_key=os.getenv(\"GOOGLE_API_KEY\"))\n",
        "\n",
        "def generar_respuesta (prompt):\n",
        "  response = client.models.generate_content(\n",
        "    model=\"gemini-2.5-flash\",\n",
        "    contents=prompt,\n",
        "  )\n",
        "  return response.text"
      ],
      "metadata": {
        "id": "NlG4CY98ZVhc"
      },
      "execution_count": 80,
      "outputs": []
    },
    {
      "cell_type": "code",
      "source": [
        "# aqui dado que el corpus esta en ingles se adhiere una capa de abstracción para traducirla al idioma inglés\n",
        "def traducir_query(query):\n",
        "    return generar_respuesta(\n",
        "        f\"\"\"Traduce la siguiente consulta al inglés, adaptándola para ser utilizada como entrada en un sistema RAG sobre recetas de cocina.\n",
        "Sintetiza lo irrelevante, conserva la intención culinaria y proporciona solo la traducción final, sin explicaciones ni notas.\n",
        "\n",
        "Consulta: {query}\"\"\"\n",
        ")"
      ],
      "metadata": {
        "id": "aTlq9Pj3h4_r"
      },
      "execution_count": 142,
      "outputs": []
    },
    {
      "cell_type": "code",
      "source": [
        "def consultar(query):\n",
        "  query_traducida = traducir_query(query)\n",
        "  base = obtener_base(query_traducida)\n",
        "  prompt = generar_prompt(base[\"content\"].values,query)\n",
        "  respuesta_consulta = generar_respuesta(prompt)\n",
        "  estado, respuesta = procesar_respuesta_json(respuesta_consulta)\n",
        "  img = None\n",
        "  if estado:\n",
        "    imgs = base[\"imagen\"].values\n",
        "    img = imgs[0] if imgs[0] != \"\" else \"https://raspeigindustrial.es/assets/admin/images/default-large.png\"\n",
        "\n",
        "  return respuesta, img"
      ],
      "metadata": {
        "id": "qol05PbtcQLn"
      },
      "execution_count": 167,
      "outputs": []
    },
    {
      "cell_type": "markdown",
      "source": [
        "#### 5.6. RAG"
      ],
      "metadata": {
        "id": "maJypu1bZWA2"
      }
    },
    {
      "cell_type": "markdown",
      "source": [
        "##### Ejemplos para buscar"
      ],
      "metadata": {
        "id": "TMmurSoHvQ-b"
      }
    },
    {
      "cell_type": "code",
      "source": [
        "#Busqueda por tiempo y valoracion\n",
        "corpus_df.loc[[70], [\"titulo\", \"valoracion\", \"tiempo\"]].values"
      ],
      "metadata": {
        "colab": {
          "base_uri": "https://localhost:8080/"
        },
        "id": "_Yr_QaT8gjkD",
        "outputId": "94f31d24-5a84-4efd-d6b7-c5cb54674880"
      },
      "execution_count": 125,
      "outputs": [
        {
          "output_type": "execute_result",
          "data": {
            "text/plain": [
              "array([['Fresh Fruit Cake', '3.0', '1 hr 40 mins']], dtype=object)"
            ]
          },
          "metadata": {},
          "execution_count": 125
        }
      ]
    },
    {
      "cell_type": "code",
      "source": [
        "# Busqueda por sus ingredientes\n",
        "corpus_df.loc[[15], [\"titulo\", \"ingredientes\"]].values"
      ],
      "metadata": {
        "colab": {
          "base_uri": "https://localhost:8080/"
        },
        "id": "VeGpqKFBcg9r",
        "outputId": "b2d5ec89-6489-4205-d627-962ed25e57d4"
      },
      "execution_count": 124,
      "outputs": [
        {
          "output_type": "execute_result",
          "data": {
            "text/plain": [
              "array([['Chicken Macaroni Salad',\n",
              "        list(['2 ½poundsskinless, boneless chicken breast halves', '2cupsmacaroni', '1(15 ounce) canmixed vegetables, drained', '2cupsshredded lettuce', '3cupsmayonnaise', '¼tablespoondried basil', 'salt and pepper to taste', '1pinchgarlic powder'])]],\n",
              "      dtype=object)"
            ]
          },
          "metadata": {},
          "execution_count": 124
        }
      ]
    },
    {
      "cell_type": "code",
      "source": [
        "# Busqueda por factores nutricionales\n",
        "corpus_df.loc[[90], [\"titulo\", \"factores nutricionales\"]].values"
      ],
      "metadata": {
        "colab": {
          "base_uri": "https://localhost:8080/"
        },
        "id": "pr_O1ACtjEDN",
        "outputId": "9f334d98-88e0-444c-fee7-2df83dd04154"
      },
      "execution_count": 127,
      "outputs": [
        {
          "output_type": "execute_result",
          "data": {
            "text/plain": [
              "array([['Gluten-Free Fresh Peach Cobbler',\n",
              "        list(['Total Fat 15g', 'Saturated Fat 10g', 'Cholesterol 41mg', 'Sodium 244mg', 'Total Carbohydrate 63g', 'Dietary Fiber 2g', 'Total Sugars 33g', 'Protein 4g', 'Vitamin C 37mg', 'Calcium 147mg', 'Iron 1mg', 'Potassium 153mg'])]],\n",
              "      dtype=object)"
            ]
          },
          "metadata": {},
          "execution_count": 127
        }
      ]
    },
    {
      "cell_type": "markdown",
      "source": [
        "##### Ejecución RAG"
      ],
      "metadata": {
        "id": "NypSJNcxjm2J"
      }
    },
    {
      "cell_type": "code",
      "source": [
        "from IPython.display import Markdown, display, Image\n",
        "\n",
        "while True:\n",
        "  query = input(\" > Ingrese su consulta: \")\n",
        "  if query.strip().upper() == 'SALIR':\n",
        "      print(\"---- Consulta finalizada-----\")\n",
        "      break\n",
        "\n",
        "  respuesta, img =  consultar(query)\n",
        "  if img:\n",
        "    display(Image(url=img,width=300, height=200))\n",
        "  display(Markdown(f\"**Respuesta:** {respuesta}\"))"
      ],
      "metadata": {
        "colab": {
          "base_uri": "https://localhost:8080/",
          "height": 1000
        },
        "id": "v9fkWKv_bnj-",
        "outputId": "28fc502a-e0fc-4af7-e2a6-20637e80b5b8"
      },
      "execution_count": 169,
      "outputs": [
        {
          "name": "stdout",
          "output_type": "stream",
          "text": [
            " > Ingrese su consulta: Juicy Roasted Chicken\n"
          ]
        },
        {
          "output_type": "display_data",
          "data": {
            "text/html": [
              "<img src=\"https://cdn.jwplayer.com/v2/media/EFEVNJX8/thumbnails/brDCeQqa.jpg\" width=\"300\" height=\"200\"/>"
            ],
            "text/plain": [
              "<IPython.core.display.Image object>"
            ]
          },
          "metadata": {}
        },
        {
          "output_type": "display_data",
          "data": {
            "text/plain": [
              "<IPython.core.display.Markdown object>"
            ],
            "text/markdown": "**Respuesta:** Aquí tienes la receta de \"Juicy Roasted Chicken\":\n\n**Título:** Pollo asado jugoso\n**Descripción:** Este pollo asado está perfectamente sazonado y cocinado tal como lo hacía mi abuela. ¡El método utilizado en esta receta da como resultado el pollo más jugoso! Nos encantaba picotear el apio después de cocinarlo.\n**Calificación:** 4.8 de 5 estrellas\n**Porciones:** 6\n**Tiempo total:** 2 horas\n\n**Ingredientes:**\n*   1 (3 libras) pollo entero, sin menudencias\n*   Sal y pimienta negra al gusto\n*   1 cucharada de cebolla en polvo, o al gusto\n*   ½ taza de mantequilla\n*   1 tallo de apio, sin hojas\n\n**Instrucciones:**\n1.  Reúne todos los ingredientes. Precalienta el horno a 350 grados F (175 grados C).\n2.  Coloca el pollo en una fuente para asar; sazona generosamente por dentro y por fuera con cebolla en polvo, sal y pimienta. Coloca 3 cucharadas de mantequilla en la cavidad del pollo; distribuye el resto de la mantequilla en el exterior del pollo.\n3.  Corta el apio en 3 o 4 trozos; colócalos en la cavidad del pollo.\n4.  Hornea el pollo sin cubrir en el horno precalentado hasta que ya no esté rosado en el hueso y los jugos salgan claros, aproximadamente 1 hora y 15 minutos. Un termómetro de lectura instantánea insertado en la parte más gruesa del muslo, cerca del hueso, debe marcar 165 grados F (74 grados C).\n5.  Retira del horno y rocía con los jugos de cocción. Cubre con papel de aluminio y deja reposar durante unos 30 minutos antes de servir."
          },
          "metadata": {}
        },
        {
          "name": "stdout",
          "output_type": "stream",
          "text": [
            " > Ingrese su consulta: dame una receta que tenga fresas\n"
          ]
        },
        {
          "output_type": "display_data",
          "data": {
            "text/html": [
              "<img src=\"https://www.allrecipes.com/thmb/hD_E5BJSPy-HmFqXeOfeL7tLfRk=/1500x0/filters:no_upscale():max_bytes(150000):strip_icc()/106022-Mini-Strawberry-Tarts-GingerbreadMommy_5346577_original-4x3-1-89ab97a661c1412dba1d75aa27abb104.jpg\" width=\"300\" height=\"200\"/>"
            ],
            "text/plain": [
              "<IPython.core.display.Image object>"
            ]
          },
          "metadata": {}
        },
        {
          "output_type": "display_data",
          "data": {
            "text/plain": [
              "<IPython.core.display.Markdown object>"
            ],
            "text/markdown": "**Respuesta:** Aquí tienes una receta que incluye fresas:\n\n**Mini Tartaletas de Fresa**\n\n**Calificación:** 4.6 de 5 estrellas\n**Porciones:** 35\n**Tiempo total:** 1 hora 18 minutos\n\n**Descripción:** Estas tartaletas son excelentes para reuniones familiares o fiestas. Toda la dulzura del bizcocho de fresa, pero en porciones pequeñas e individuales, muy convenientes para tus invitados. Este postre de aspecto muy impresionante hará que todos tus invitados pidan la receta.\n\n**Ingredientes:**\n* 2 (paquetes de 8 onzas) de queso crema, ablandado\n* 2 tazas de mantequilla\n* 4 ½ tazas de harina para todo uso\n* 3 (paquetes de 3 onzas) de mezcla de gelatina con sabor a fresa Jell-O®\n* 1 taza de azúcar blanca\n* 3 gotas de colorante rojo para alimentos\n* 3 ½ tazas de agua hirviendo\n* ¼ taza de maicena\n* ¼ taza de agua\n* 3 libras de fresas frescas, en rodajas\n* 1 ½ tazas de crema batida, o al gusto (Opcional)\n\n**Pasos:**\n1. Precalienta el horno a 350 grados F (175 grados C). Engrasa ligeramente los moldes para mini muffins.\n2. Coloca el queso crema y la mantequilla en un tazón grande. Bate con una batidora eléctrica hasta que esté suave y esponjoso. Bate gradualmente la harina, una taza a la vez, hasta que esté toda incorporada. Forma 70 bolitas con la masa y presiona cada una en una cavidad del molde para mini muffins para formar las bases de la masa.\n3. Hornea las bases en el horno precalentado hasta que estén doradas, de 15 a 18 minutos. Retira del horno y deja enfriar.\n4. Incorpora la gelatina, el azúcar y el colorante rojo al agua hirviendo. Coloca a fuego alto; lleva de nuevo a ebullición. Mezcla la maicena y el agua para hacer una pasta. Incorpora la mezcla de maicena en la gelatina hirviendo hasta que se disuelva. Retira del fuego y deja enfriar completamente, unos 30 minutos.\n5. Vierte la mezcla de gelatina enfriada de manera uniforme en las bases de las tartaletas. Empuja media fresa en cada tartaleta. Si lo deseas, cubre cada tartaleta con una pequeña cantidad de crema batida o aderezo batido justo antes de servir."
          },
          "metadata": {}
        },
        {
          "name": "stdout",
          "output_type": "stream",
          "text": [
            " > Ingrese su consulta: dame una receta alta en hierro y potasio\n"
          ]
        },
        {
          "output_type": "display_data",
          "data": {
            "text/html": [
              "<img src=\"https://www.allrecipes.com/thmb/ZGNGcbuwI11l65f2SQj5oGMoGbg=/1500x0/filters:no_upscale():max_bytes(150000):strip_icc()/6528091-keto-open-faced-chicken-cordon-bleu-France-C-4x3-1-3821c2eb2c0544479033442d3232f402.jpg\" width=\"300\" height=\"200\"/>"
            ],
            "text/plain": [
              "<IPython.core.display.Image object>"
            ]
          },
          "metadata": {}
        },
        {
          "output_type": "display_data",
          "data": {
            "text/plain": [
              "<IPython.core.display.Markdown object>"
            ],
            "text/markdown": "**Respuesta:** Claro, aquí tienes una receta alta en hierro y potasio:\n\n**Ensalada de Pollo con Fresas y Queso Feta con Aderezo de Fresa-Balsámico Asado**\n\n**Descripción:** Una ensalada de verano maravillosamente fácil, con un aderezo dulce y picante. ¡Te encantarán las fresas asadas!\n\n**Valoración:** 5.0\n**Porciones:** 2\n**Tiempo total:** 1 hora\n\n**Ingredientes:**\n*   1 taza de lechuga romana picada\n*   1 taza de espinacas frescas\n*   1 taza de col rizada picada\n*   1 taza de fresas frescas, sin tallo y en rodajas\n*   1 pechuga de pollo cocida, en rodajas\n*   ½ taza de almendras en rodajas\n*   ¼ taza de queso feta desmenuzado\n*   1 taza de fresas frescas, sin tallo y en cuartos (para el aderezo)\n*   1 cucharada de azúcar blanca (para el aderezo)\n*   ¼ taza de vinagre balsámico (para el aderezo)\n*   ¼ taza de aceite de oliva (para el aderezo)\n*   1 cucharada de miel (para el aderezo)\n*   1 cucharada de mostaza Dijon (para el aderezo)\n*   1 diente de ajo, picado (para el aderezo)\n*   Sal y pimienta negra molida al gusto (para el aderezo)\n\n**Pasos:**\n1.  Mezcla la lechuga romana, las espinacas y la col rizada en un tazón mediano. Distribuye las fresas en rodajas uniformemente sobre las verduras. Coloca el pollo sobre la ensalada. Adorna con las almendras en rodajas y el queso feta.\n2.  Precalienta el horno a 175 grados C (350 grados F). Cubre una bandeja para hornear con papel pergamino.\n3.  Coloca las fresas en cuartos en la bandeja preparada. Espolvorea con azúcar.\n4.  Asa en el horno precalentado hasta que estén blandas y doradas, aproximadamente 20 minutos. Deja enfriar 10 minutos.\n5.  Combina las fresas asadas con su jugo, el vinagre balsámico, el aceite de oliva, la miel, la mostaza, el ajo, la sal y la pimienta en un procesador de alimentos; procesa el aderezo hasta que quede suave. Rocía el aderezo sobre la ensalada y sirve.\n\n**Factores nutricionales (por porción):**\n*   Grasa total: 50g\n*   Grasa saturada: 10g\n*   Colesterol: 64mg\n*   Sodio: 676mg\n*   Carbohidratos totales: 41g\n*   Fibra dietética: 6g\n*   Azúcares totales: 29g\n*   Proteína: 25g\n*   Vitamina C: 113mg\n*   Calcio: 301mg\n*   **Hierro: 3mg**\n*   **Potasio: 694mg**"
          },
          "metadata": {}
        },
        {
          "output_type": "stream",
          "name": "stdout",
          "text": [
            " > Ingrese su consulta: SALIR\n",
            "---- Consulta finalizada-----\n"
          ]
        }
      ]
    }
  ]
}